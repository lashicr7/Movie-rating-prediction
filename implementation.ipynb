{
 "cells": [
  {
   "cell_type": "markdown",
   "metadata": {},
   "source": [
    "Brief architecture:\n",
    "\n",
    "Data preprocessing ( pipeline ):\n",
    "Removing duplicates\n",
    "Removing some missing data\n",
    "Removing outliers ( z-score )\n",
    "Imputing missing data for relevant fields as runtime, theatre date\n",
    "Transforming the data as genre, rating (for relevant values)\n",
    "Adding new relevant columns as theatre year..\n",
    "Encoding categorical values (one - hot encoding, ordinal encoding)\n",
    "Scaling the data ( standard scaler , min-max scaler )\n",
    "Handling Imbalances ( SMOTE )\n",
    "Feature selection ( PCA, manual selection )\n",
    "\n",
    "Model:\n",
    "Regression model ( using random forest, xgboost, Feedforward NN(linear) )\n",
    "Classification model (Feedforward NN(soft max) )\n",
    "Semantic model ( sentence transformer: all-MiniLM-L6-v2,Feedforward NN &  xgboost )\n",
    "\n",
    "Metrics:\n",
    "MAE\n",
    "Tolerance accuracy"
   ]
  },
  {
   "cell_type": "markdown",
   "metadata": {},
   "source": [
    "Please find doc link for explaination and inferences : https://docs.google.com/document/d/1PL6G-HlWOmCGfYIgOqRAm7a7u9vsV3H9lfXjHjSS5wk/edit?usp=sharing"
   ]
  },
  {
   "cell_type": "markdown",
   "metadata": {},
   "source": []
  },
  {
   "cell_type": "code",
   "execution_count": null,
   "metadata": {},
   "outputs": [],
   "source": [
    "import pandas as pd\n",
    "import numpy as np\n",
    "import matplotlib.pyplot as plt\n",
    "import seaborn as sns"
   ]
  },
  {
   "cell_type": "code",
   "execution_count": 2,
   "metadata": {},
   "outputs": [
    {
     "name": "stdout",
     "output_type": "stream",
     "text": [
      "Requirement already satisfied: scikit-learn==1.3.2 in c:\\users\\lashicr7\\appdata\\local\\programs\\python\\python311\\lib\\site-packages (1.3.2)\n",
      "Requirement already satisfied: numpy<2.0,>=1.17.3 in c:\\users\\lashicr7\\appdata\\local\\programs\\python\\python311\\lib\\site-packages (from scikit-learn==1.3.2) (1.26.0)\n",
      "Requirement already satisfied: scipy>=1.5.0 in c:\\users\\lashicr7\\appdata\\local\\programs\\python\\python311\\lib\\site-packages (from scikit-learn==1.3.2) (1.11.3)\n",
      "Requirement already satisfied: joblib>=1.1.1 in c:\\users\\lashicr7\\appdata\\local\\programs\\python\\python311\\lib\\site-packages (from scikit-learn==1.3.2) (1.3.2)\n",
      "Requirement already satisfied: threadpoolctl>=2.0.0 in c:\\users\\lashicr7\\appdata\\local\\programs\\python\\python311\\lib\\site-packages (from scikit-learn==1.3.2) (3.2.0)\n",
      "Requirement already satisfied: imblearn in c:\\users\\lashicr7\\appdata\\local\\programs\\python\\python311\\lib\\site-packages (0.0)\n",
      "Requirement already satisfied: imbalanced-learn in c:\\users\\lashicr7\\appdata\\local\\programs\\python\\python311\\lib\\site-packages (from imblearn) (0.13.0)\n",
      "Requirement already satisfied: numpy<3,>=1.24.3 in c:\\users\\lashicr7\\appdata\\local\\programs\\python\\python311\\lib\\site-packages (from imbalanced-learn->imblearn) (1.26.0)\n",
      "Requirement already satisfied: scipy<2,>=1.10.1 in c:\\users\\lashicr7\\appdata\\local\\programs\\python\\python311\\lib\\site-packages (from imbalanced-learn->imblearn) (1.11.3)\n",
      "Requirement already satisfied: scikit-learn<2,>=1.3.2 in c:\\users\\lashicr7\\appdata\\local\\programs\\python\\python311\\lib\\site-packages (from imbalanced-learn->imblearn) (1.3.2)\n",
      "Requirement already satisfied: sklearn-compat<1,>=0.1 in c:\\users\\lashicr7\\appdata\\local\\programs\\python\\python311\\lib\\site-packages (from imbalanced-learn->imblearn) (0.1.1)\n",
      "Requirement already satisfied: joblib<2,>=1.1.1 in c:\\users\\lashicr7\\appdata\\local\\programs\\python\\python311\\lib\\site-packages (from imbalanced-learn->imblearn) (1.3.2)\n",
      "Requirement already satisfied: threadpoolctl<4,>=2.0.0 in c:\\users\\lashicr7\\appdata\\local\\programs\\python\\python311\\lib\\site-packages (from imbalanced-learn->imblearn) (3.2.0)\n"
     ]
    }
   ],
   "source": [
    "!pip install scikit-learn==1.3.2\n",
    "!pip install imblearn"
   ]
  },
  {
   "cell_type": "code",
   "execution_count": 3,
   "metadata": {},
   "outputs": [],
   "source": [
    "dataset = pd.read_csv(\"./Rotten_Tomatoes_Movies3.csv\")"
   ]
  },
  {
   "cell_type": "code",
   "execution_count": 4,
   "metadata": {},
   "outputs": [
    {
     "data": {
      "text/plain": [
       "Index(['movie_title', 'movie_info', 'critics_consensus', 'rating', 'genre',\n",
       "       'directors', 'writers', 'cast', 'in_theaters_date', 'on_streaming_date',\n",
       "       'runtime_in_minutes', 'studio_name', 'tomatometer_status',\n",
       "       'tomatometer_rating', 'tomatometer_count', 'audience_rating'],\n",
       "      dtype='object')"
      ]
     },
     "execution_count": 4,
     "metadata": {},
     "output_type": "execute_result"
    }
   ],
   "source": [
    "dataset.columns"
   ]
  },
  {
   "cell_type": "code",
   "execution_count": 5,
   "metadata": {},
   "outputs": [
    {
     "data": {
      "text/html": [
       "<div>\n",
       "<style scoped>\n",
       "    .dataframe tbody tr th:only-of-type {\n",
       "        vertical-align: middle;\n",
       "    }\n",
       "\n",
       "    .dataframe tbody tr th {\n",
       "        vertical-align: top;\n",
       "    }\n",
       "\n",
       "    .dataframe thead th {\n",
       "        text-align: right;\n",
       "    }\n",
       "</style>\n",
       "<table border=\"1\" class=\"dataframe\">\n",
       "  <thead>\n",
       "    <tr style=\"text-align: right;\">\n",
       "      <th></th>\n",
       "      <th>movie_title</th>\n",
       "      <th>movie_info</th>\n",
       "      <th>critics_consensus</th>\n",
       "      <th>rating</th>\n",
       "      <th>genre</th>\n",
       "      <th>directors</th>\n",
       "      <th>writers</th>\n",
       "      <th>cast</th>\n",
       "      <th>in_theaters_date</th>\n",
       "      <th>on_streaming_date</th>\n",
       "      <th>runtime_in_minutes</th>\n",
       "      <th>studio_name</th>\n",
       "      <th>tomatometer_status</th>\n",
       "      <th>tomatometer_rating</th>\n",
       "      <th>tomatometer_count</th>\n",
       "      <th>audience_rating</th>\n",
       "    </tr>\n",
       "  </thead>\n",
       "  <tbody>\n",
       "    <tr>\n",
       "      <th>0</th>\n",
       "      <td>Percy Jackson &amp; the Olympians: The Lightning T...</td>\n",
       "      <td>A teenager discovers he's the descendant of a ...</td>\n",
       "      <td>Though it may seem like just another Harry Pot...</td>\n",
       "      <td>PG</td>\n",
       "      <td>Action &amp; Adventure, Comedy, Drama, Science Fic...</td>\n",
       "      <td>Chris Columbus</td>\n",
       "      <td>Craig Titley</td>\n",
       "      <td>Logan Lerman, Brandon T. Jackson, Alexandra Da...</td>\n",
       "      <td>2/12/2010</td>\n",
       "      <td>6/29/2010</td>\n",
       "      <td>83.0</td>\n",
       "      <td>20th Century Fox</td>\n",
       "      <td>Rotten</td>\n",
       "      <td>49</td>\n",
       "      <td>144</td>\n",
       "      <td>53.0</td>\n",
       "    </tr>\n",
       "    <tr>\n",
       "      <th>1</th>\n",
       "      <td>Please Give</td>\n",
       "      <td>Kate has a lot on her mind. There's the ethics...</td>\n",
       "      <td>Nicole Holofcener's newest might seem slight i...</td>\n",
       "      <td>R</td>\n",
       "      <td>Comedy</td>\n",
       "      <td>Nicole Holofcener</td>\n",
       "      <td>Nicole Holofcener</td>\n",
       "      <td>Catherine Keener, Amanda Peet, Oliver Platt, R...</td>\n",
       "      <td>4/30/2010</td>\n",
       "      <td>10/19/2010</td>\n",
       "      <td>90.0</td>\n",
       "      <td>Sony Pictures Classics</td>\n",
       "      <td>Certified Fresh</td>\n",
       "      <td>86</td>\n",
       "      <td>140</td>\n",
       "      <td>64.0</td>\n",
       "    </tr>\n",
       "    <tr>\n",
       "      <th>2</th>\n",
       "      <td>10</td>\n",
       "      <td>Blake Edwards' 10 stars Dudley Moore as George...</td>\n",
       "      <td>NaN</td>\n",
       "      <td>R</td>\n",
       "      <td>Comedy, Romance</td>\n",
       "      <td>Blake Edwards</td>\n",
       "      <td>Blake Edwards</td>\n",
       "      <td>Dudley Moore, Bo Derek, Julie Andrews, Robert ...</td>\n",
       "      <td>10/5/1979</td>\n",
       "      <td>8/27/1997</td>\n",
       "      <td>118.0</td>\n",
       "      <td>Waner Bros.</td>\n",
       "      <td>Fresh</td>\n",
       "      <td>68</td>\n",
       "      <td>22</td>\n",
       "      <td>53.0</td>\n",
       "    </tr>\n",
       "    <tr>\n",
       "      <th>3</th>\n",
       "      <td>12 Angry Men (Twelve Angry Men)</td>\n",
       "      <td>A Puerto Rican youth is on trial for murder, a...</td>\n",
       "      <td>Sidney Lumet's feature debut is a superbly wri...</td>\n",
       "      <td>NR</td>\n",
       "      <td>Classics, Drama</td>\n",
       "      <td>Sidney Lumet</td>\n",
       "      <td>Reginald Rose</td>\n",
       "      <td>Martin Balsam, John Fiedler, Lee J. Cobb, E.G....</td>\n",
       "      <td>4/13/1957</td>\n",
       "      <td>3/6/2001</td>\n",
       "      <td>95.0</td>\n",
       "      <td>Criterion Collection</td>\n",
       "      <td>Certified Fresh</td>\n",
       "      <td>100</td>\n",
       "      <td>51</td>\n",
       "      <td>97.0</td>\n",
       "    </tr>\n",
       "    <tr>\n",
       "      <th>4</th>\n",
       "      <td>20,000 Leagues Under The Sea</td>\n",
       "      <td>This 1954 Disney version of Jules Verne's 20,0...</td>\n",
       "      <td>One of Disney's finest live-action adventures,...</td>\n",
       "      <td>G</td>\n",
       "      <td>Action &amp; Adventure, Drama, Kids &amp; Family</td>\n",
       "      <td>Richard Fleischer</td>\n",
       "      <td>Earl Felton</td>\n",
       "      <td>James Mason, Kirk Douglas, Paul Lukas, Peter L...</td>\n",
       "      <td>1/1/1954</td>\n",
       "      <td>5/20/2003</td>\n",
       "      <td>127.0</td>\n",
       "      <td>Disney</td>\n",
       "      <td>Fresh</td>\n",
       "      <td>89</td>\n",
       "      <td>27</td>\n",
       "      <td>74.0</td>\n",
       "    </tr>\n",
       "  </tbody>\n",
       "</table>\n",
       "</div>"
      ],
      "text/plain": [
       "                                         movie_title  \\\n",
       "0  Percy Jackson & the Olympians: The Lightning T...   \n",
       "1                                        Please Give   \n",
       "2                                                 10   \n",
       "3                    12 Angry Men (Twelve Angry Men)   \n",
       "4                       20,000 Leagues Under The Sea   \n",
       "\n",
       "                                          movie_info  \\\n",
       "0  A teenager discovers he's the descendant of a ...   \n",
       "1  Kate has a lot on her mind. There's the ethics...   \n",
       "2  Blake Edwards' 10 stars Dudley Moore as George...   \n",
       "3  A Puerto Rican youth is on trial for murder, a...   \n",
       "4  This 1954 Disney version of Jules Verne's 20,0...   \n",
       "\n",
       "                                   critics_consensus rating  \\\n",
       "0  Though it may seem like just another Harry Pot...     PG   \n",
       "1  Nicole Holofcener's newest might seem slight i...      R   \n",
       "2                                                NaN      R   \n",
       "3  Sidney Lumet's feature debut is a superbly wri...     NR   \n",
       "4  One of Disney's finest live-action adventures,...      G   \n",
       "\n",
       "                                               genre          directors  \\\n",
       "0  Action & Adventure, Comedy, Drama, Science Fic...     Chris Columbus   \n",
       "1                                             Comedy  Nicole Holofcener   \n",
       "2                                    Comedy, Romance      Blake Edwards   \n",
       "3                                    Classics, Drama       Sidney Lumet   \n",
       "4           Action & Adventure, Drama, Kids & Family  Richard Fleischer   \n",
       "\n",
       "             writers                                               cast  \\\n",
       "0       Craig Titley  Logan Lerman, Brandon T. Jackson, Alexandra Da...   \n",
       "1  Nicole Holofcener  Catherine Keener, Amanda Peet, Oliver Platt, R...   \n",
       "2      Blake Edwards  Dudley Moore, Bo Derek, Julie Andrews, Robert ...   \n",
       "3      Reginald Rose  Martin Balsam, John Fiedler, Lee J. Cobb, E.G....   \n",
       "4        Earl Felton  James Mason, Kirk Douglas, Paul Lukas, Peter L...   \n",
       "\n",
       "  in_theaters_date on_streaming_date  runtime_in_minutes  \\\n",
       "0        2/12/2010         6/29/2010                83.0   \n",
       "1        4/30/2010        10/19/2010                90.0   \n",
       "2        10/5/1979         8/27/1997               118.0   \n",
       "3        4/13/1957          3/6/2001                95.0   \n",
       "4         1/1/1954         5/20/2003               127.0   \n",
       "\n",
       "              studio_name tomatometer_status  tomatometer_rating  \\\n",
       "0        20th Century Fox             Rotten                  49   \n",
       "1  Sony Pictures Classics    Certified Fresh                  86   \n",
       "2             Waner Bros.              Fresh                  68   \n",
       "3    Criterion Collection    Certified Fresh                 100   \n",
       "4                  Disney              Fresh                  89   \n",
       "\n",
       "   tomatometer_count  audience_rating  \n",
       "0                144             53.0  \n",
       "1                140             64.0  \n",
       "2                 22             53.0  \n",
       "3                 51             97.0  \n",
       "4                 27             74.0  "
      ]
     },
     "execution_count": 5,
     "metadata": {},
     "output_type": "execute_result"
    }
   ],
   "source": [
    "dataset.head()"
   ]
  },
  {
   "cell_type": "code",
   "execution_count": 5,
   "metadata": {},
   "outputs": [
    {
     "name": "stdout",
     "output_type": "stream",
     "text": [
      "True\n"
     ]
    }
   ],
   "source": [
    "cleaned_data = dataset['audience_rating'].dropna()\n",
    "is_discrete = all(cleaned_data % 1 == 0)\n",
    "print(is_discrete)"
   ]
  },
  {
   "cell_type": "markdown",
   "metadata": {},
   "source": [
    "Above code snippet confirms that rating is given as a discrete variable(classification) instead of regression"
   ]
  },
  {
   "cell_type": "code",
   "execution_count": 6,
   "metadata": {},
   "outputs": [
    {
     "name": "stdout",
     "output_type": "stream",
     "text": [
      "\n",
      "--- Checking for Duplicates ---\n",
      "Number of Duplicate movies: 532\n",
      "Number of Duplicate Rows: 1\n"
     ]
    }
   ],
   "source": [
    "print(\"\\n--- Checking for Duplicates ---\")\n",
    "duplicate_movies = dataset['movie_title'].duplicated().sum()\n",
    "duplicates = dataset.duplicated().sum()\n",
    "print(f\"Number of Duplicate movies: {duplicate_movies}\")\n",
    "print(f\"Number of Duplicate Rows: {duplicates}\")"
   ]
  },
  {
   "cell_type": "code",
   "execution_count": 7,
   "metadata": {},
   "outputs": [],
   "source": [
    "duplicate_rows = dataset[dataset.duplicated(keep=False)]\n",
    "# print(duplicate_rows)\n",
    "dataset = dataset.drop_duplicates(keep=False).reset_index(drop=True)"
   ]
  },
  {
   "cell_type": "code",
   "execution_count": 8,
   "metadata": {},
   "outputs": [
    {
     "name": "stdout",
     "output_type": "stream",
     "text": [
      "4\n"
     ]
    }
   ],
   "source": [
    "combined_column = dataset[['movie_title', 'in_theaters_date']]\n",
    "duplicates_combined = combined_column.duplicated(keep=False).sum()\n",
    "print(duplicates_combined)"
   ]
  },
  {
   "cell_type": "markdown",
   "metadata": {},
   "source": [
    "- There are around 500 duplicates in respect to movie titles\n",
    "- But when it is combined with features as in_theatres_date they've drastically reduced to 4\n",
    "- which can be ignored , since for a movie can be re-released with same name later which is having different review"
   ]
  },
  {
   "cell_type": "code",
   "execution_count": 106,
   "metadata": {},
   "outputs": [
    {
     "name": "stdout",
     "output_type": "stream",
     "text": [
      "movie_title :\n",
      "Missing Values: 0 (0.00%)\n",
      "Number of Unique Values: 16105\n",
      "movie_info :\n",
      "Missing Values: 24 (0.14%)\n",
      "Number of Unique Values: 16612\n",
      "critics_consensus :\n",
      "Missing Values: 8327 (50.05%)\n",
      "Number of Unique Values: 8307\n",
      "rating :\n",
      "Missing Values: 0 (0.00%)\n",
      "Number of Unique Values: 8\n",
      "genre :\n",
      "Missing Values: 17 (0.10%)\n",
      "Number of Unique Values: 1080\n",
      "directors :\n",
      "Missing Values: 114 (0.69%)\n",
      "Number of Unique Values: 8314\n",
      "writers :\n",
      "Missing Values: 1349 (8.11%)\n",
      "Number of Unique Values: 12120\n",
      "cast :\n",
      "Missing Values: 284 (1.71%)\n",
      "Number of Unique Values: 16325\n",
      "in_theaters_date :\n",
      "Missing Values: 815 (4.90%)\n",
      "Number of Unique Values: 5585\n",
      "on_streaming_date :\n",
      "Missing Values: 2 (0.01%)\n",
      "Number of Unique Values: 2260\n",
      "runtime_in_minutes :\n",
      "Missing Values: 155 (0.93%)\n",
      "Number of Unique Values: 201\n",
      "studio_name :\n",
      "Missing Values: 414 (2.49%)\n",
      "Number of Unique Values: 2886\n",
      "tomatometer_status :\n",
      "Missing Values: 0 (0.00%)\n",
      "Number of Unique Values: 3\n",
      "tomatometer_rating :\n",
      "Missing Values: 0 (0.00%)\n",
      "Number of Unique Values: 101\n",
      "tomatometer_count :\n",
      "Missing Values: 0 (0.00%)\n",
      "Number of Unique Values: 393\n",
      "audience_rating :\n",
      "Missing Values: 252 (1.51%)\n",
      "Number of Unique Values: 98\n"
     ]
    }
   ],
   "source": [
    "for col in dataset.columns: \n",
    "        print(col,\":\")\n",
    "        # Missing values\n",
    "        missing_vals = dataset[col].isnull().sum()\n",
    "        missing_pct = (missing_vals / len(dataset)) * 100\n",
    "        print(f\"Missing Values: {missing_vals} ({missing_pct:.2f}%)\")\n",
    "        \n",
    "        # Number of unique values\n",
    "        unique_vals = dataset[col].nunique()\n",
    "        print(f\"Number of Unique Values: {unique_vals}\")\n"
   ]
  },
  {
   "cell_type": "markdown",
   "metadata": {},
   "source": [
    "Inference from above:\n",
    "- There are some data with missing audience rating (1.5%), can use them in test data but since the fraction is too low removing will ensure data sanity ( same for 'genre' column)\n",
    "- Missing data is very high (almost 50%) in critic consensus hence we'll remove that column for baseline model\n",
    "- We can impute the data accordingly for runtime, theatre dates"
   ]
  },
  {
   "cell_type": "code",
   "execution_count": 9,
   "metadata": {},
   "outputs": [],
   "source": [
    "dataset = dataset.dropna(subset=['genre']).reset_index(drop=True)"
   ]
  },
  {
   "cell_type": "code",
   "execution_count": 10,
   "metadata": {},
   "outputs": [],
   "source": [
    "dataset = dataset.dropna(subset=['audience_rating']).reset_index(drop=True)"
   ]
  },
  {
   "cell_type": "code",
   "execution_count": 11,
   "metadata": {},
   "outputs": [],
   "source": [
    "dataset = dataset.dropna(subset=['in_theaters_date', 'on_streaming_date'], how='all').reset_index(drop=True)"
   ]
  },
  {
   "cell_type": "code",
   "execution_count": 15,
   "metadata": {},
   "outputs": [
    {
     "name": "stdout",
     "output_type": "stream",
     "text": [
      "1.0\n",
      "2000.0\n",
      "17\n",
      "10\n",
      "147\n"
     ]
    }
   ],
   "source": [
    "print(dataset['runtime_in_minutes'].min())\n",
    "print(dataset['runtime_in_minutes'].max())\n",
    "print(len(dataset[dataset['runtime_in_minutes']<20]))\n",
    "print(len(dataset[dataset['runtime_in_minutes']>250]))\n",
    "print(dataset['runtime_in_minutes'].isna().sum())"
   ]
  },
  {
   "cell_type": "code",
   "execution_count": 16,
   "metadata": {},
   "outputs": [
    {
     "data": {
      "image/png": "[encoded data removed]",
      "text/plain": [
       "<Figure size 1000x600 with 1 Axes>"
      ]
     },
     "metadata": {},
     "output_type": "display_data"
    }
   ],
   "source": [
    "plt.figure(figsize=(10, 6))\n",
    "plt.hist(dataset['runtime_in_minutes'][dataset['runtime_in_minutes'] < 250].dropna(), bins=30, color='skyblue', edgecolor='black')\n",
    "plt.xlabel('Runtime in Minutes')\n",
    "plt.ylabel('Frequency')\n",
    "plt.title('Distribution of Movie Runtime in Minutes')\n",
    "plt.show()"
   ]
  },
  {
   "cell_type": "markdown",
   "metadata": {},
   "source": [
    "Imputing data for runtime using the median which won't be effected by the outliers"
   ]
  },
  {
   "cell_type": "code",
   "execution_count": 12,
   "metadata": {},
   "outputs": [],
   "source": [
    "runtime_median = dataset['runtime_in_minutes'].median()\n",
    "dataset['runtime_in_minutes'].fillna(runtime_median, inplace=True)"
   ]
  },
  {
   "cell_type": "code",
   "execution_count": 13,
   "metadata": {},
   "outputs": [
    {
     "name": "stdout",
     "output_type": "stream",
     "text": [
      "Outliers using Z-Score method:\n",
      "151\n"
     ]
    }
   ],
   "source": [
    "from scipy.stats import zscore\n",
    "runtime_non_null = dataset['runtime_in_minutes']\n",
    "z_scores = zscore(runtime_non_null)\n",
    "outliers_z = runtime_non_null[abs(z_scores) > 3]\n",
    "print(\"Outliers using Z-Score method:\")\n",
    "print(len(outliers_z))"
   ]
  },
  {
   "cell_type": "code",
   "execution_count": 14,
   "metadata": {},
   "outputs": [
    {
     "name": "stdout",
     "output_type": "stream",
     "text": [
      "30.0\n",
      "177.0\n"
     ]
    },
    {
     "data": {
      "image/png": "[encoded data removed]",
      "text/plain": [
       "<Figure size 1000x600 with 1 Axes>"
      ]
     },
     "metadata": {},
     "output_type": "display_data"
    }
   ],
   "source": [
    "outlier_mask = abs(z_scores) > 3\n",
    "dataset = dataset[~outlier_mask].reset_index(drop=True)\n",
    "print(dataset['runtime_in_minutes'].min())\n",
    "print(dataset['runtime_in_minutes'].max())\n",
    "plt.figure(figsize=(10, 6))\n",
    "plt.hist(dataset['runtime_in_minutes'], bins=30, color='skyblue', edgecolor='black')\n",
    "plt.xlabel('Runtime in Minutes')\n",
    "plt.ylabel('Frequency')\n",
    "plt.title('Distribution of Movie Runtime in Minutes (Cleaned)')\n",
    "plt.show()"
   ]
  },
  {
   "cell_type": "code",
   "execution_count": 81,
   "metadata": {},
   "outputs": [
    {
     "name": "stdout",
     "output_type": "stream",
     "text": [
      "dataset after removing outliers, duplicates and missing data\n",
      "16215\n"
     ]
    }
   ],
   "source": [
    "print(\"dataset after removing outliers, duplicates and missing data\")\n",
    "print(len(dataset))"
   ]
  },
  {
   "cell_type": "code",
   "execution_count": 21,
   "metadata": {},
   "outputs": [
    {
     "data": {
      "text/plain": [
       "0     Action & Adventure, Comedy, Drama, Science Fic...\n",
       "1                                                Comedy\n",
       "2                                       Comedy, Romance\n",
       "3                                       Classics, Drama\n",
       "4              Action & Adventure, Drama, Kids & Family\n",
       "5                   Action & Adventure, Classics, Drama\n",
       "6      Action & Adventure, Classics, Mystery & Suspense\n",
       "7                              Classics, Drama, Western\n",
       "8                                Comedy, Drama, Romance\n",
       "9                                       Classics, Drama\n",
       "10    Art House & International, Horror, Mystery & S...\n",
       "Name: genre, dtype: object"
      ]
     },
     "execution_count": 21,
     "metadata": {},
     "output_type": "execute_result"
    }
   ],
   "source": [
    "dataset['genre'].loc[0:10]"
   ]
  },
  {
   "cell_type": "code",
   "execution_count": 15,
   "metadata": {},
   "outputs": [
    {
     "name": "stdout",
     "output_type": "stream",
     "text": [
      "21\n",
      "{'classics', 'science fiction & fantasy', 'cult movies', 'romance', 'documentary', 'mystery & suspense', 'kids & family', 'musical & performing arts', 'television', 'comedy', 'art house & international', 'animation', 'action & adventure', 'faith & spirituality', 'gay & lesbian', 'anime & manga', 'western', 'special interest', 'sports & fitness', 'horror', 'drama'}\n"
     ]
    }
   ],
   "source": [
    "unique_genres = set()\n",
    "for i in range(len(dataset)):\n",
    "    genres = dataset['genre'].loc[i].split(\",\")\n",
    "    for j in genres:\n",
    "        unique_genres.add(j.strip().lower())\n",
    "\n",
    "print(len(unique_genres))\n",
    "print(unique_genres)\n"
   ]
  },
  {
   "cell_type": "markdown",
   "metadata": {},
   "source": [
    "After extracting the unique sub genres from the data, we'll use one-hot encoding for embedding the data for various genres"
   ]
  },
  {
   "cell_type": "code",
   "execution_count": 16,
   "metadata": {},
   "outputs": [],
   "source": [
    "unique_genres = sorted(unique_genres)\n",
    "for genre in unique_genres:\n",
    "    dataset[genre] = dataset['genre'].apply(lambda x: 1 if genre in x.strip().lower() else 0)"
   ]
  },
  {
   "cell_type": "code",
   "execution_count": 17,
   "metadata": {},
   "outputs": [
    {
     "data": {
      "text/plain": [
       "array(['PG', 'R', 'NR', 'G', 'PG-13', 'PG-13)', 'NC17', 'R)'],\n",
       "      dtype=object)"
      ]
     },
     "execution_count": 17,
     "metadata": {},
     "output_type": "execute_result"
    }
   ],
   "source": [
    "dataset['rating'].unique()"
   ]
  },
  {
   "cell_type": "code",
   "execution_count": 18,
   "metadata": {},
   "outputs": [],
   "source": [
    "dataset['rating'] = dataset['rating'].apply(lambda x: x[:-1] if x.endswith(')') else x)"
   ]
  },
  {
   "cell_type": "code",
   "execution_count": 19,
   "metadata": {},
   "outputs": [],
   "source": [
    "dataset['in_theaters_date'] = pd.to_datetime(dataset['in_theaters_date'], errors='coerce')\n",
    "dataset['on_streaming_date'] = pd.to_datetime(dataset['on_streaming_date'], errors='coerce')"
   ]
  },
  {
   "cell_type": "code",
   "execution_count": 20,
   "metadata": {},
   "outputs": [
    {
     "name": "stdout",
     "output_type": "stream",
     "text": [
      "Movies with theatre_date but no stream_date:\n",
      "0\n",
      "\n",
      "Movies with stream_date but no theatre_date:\n",
      "701\n",
      "\n",
      "Movies with neither theatre_date nor stream_date:\n",
      "0\n",
      "\n",
      "Average lag between theatre_date and stream_date (in days):\n",
      "3116.2306948562587\n"
     ]
    }
   ],
   "source": [
    "theatre_only = dataset[dataset['in_theaters_date'].notna() & dataset['on_streaming_date'].isna()]\n",
    "stream_only = dataset[dataset['on_streaming_date'].notna() & dataset['in_theaters_date'].isna()]\n",
    "neither = dataset[dataset['in_theaters_date'].isna() & dataset['on_streaming_date'].isna()]\n",
    "\n",
    "print(\"Movies with theatre_date but no stream_date:\")\n",
    "print(len(theatre_only['movie_title']))\n",
    "\n",
    "print(\"\\nMovies with stream_date but no theatre_date:\")\n",
    "print(len(stream_only['movie_title']))\n",
    "\n",
    "print(\"\\nMovies with neither theatre_date nor stream_date:\")\n",
    "print(len(neither['movie_title']))\n",
    "valid_lags = dataset\n",
    "average_lag = (valid_lags['on_streaming_date'] - valid_lags['in_theaters_date']).dt.days.mean()\n",
    "\n",
    "print(\"\\nAverage lag between theatre_date and stream_date (in days):\")\n",
    "print(average_lag)"
   ]
  },
  {
   "cell_type": "markdown",
   "metadata": {},
   "source": [
    "From above inference:\n",
    "- Average delay in theatre, stream is 3000 days ( approx 10 years ) due to old movies being released late\n",
    "- I initially thought of taking difference between theatre date, stream date which has correlation to movie's hype/ box office performance\n",
    "- Since the delay is too high, we can't take that for inferencing the audience rating (same is the case for movies directly streamed without theatrical release)\n",
    "- Also we can impute the missing theatre date with stream date - average lag (based on data)\n",
    "- But there might be a chance where the movie was directly shown on TV, hence we can't do the same\n",
    "- So for missing data, I've equated streaming date to theatre date\n",
    "- For capturing the trend of movies, I've taken year instead of day to maintain sparse relations ( avoiding overfitting )"
   ]
  },
  {
   "cell_type": "code",
   "execution_count": 21,
   "metadata": {},
   "outputs": [],
   "source": [
    "dataset.loc[dataset['in_theaters_date'].isna() & dataset['on_streaming_date'].notna(), 'in_theaters_date'] = dataset['on_streaming_date']\n",
    "dataset['theatre_year'] = dataset['in_theaters_date'].dt.year\n",
    "dataset['stream_year'] = dataset['on_streaming_date'].dt.year\n"
   ]
  },
  {
   "cell_type": "code",
   "execution_count": 120,
   "metadata": {},
   "outputs": [
    {
     "data": {
      "text/html": [
       "<div>\n",
       "<style scoped>\n",
       "    .dataframe tbody tr th:only-of-type {\n",
       "        vertical-align: middle;\n",
       "    }\n",
       "\n",
       "    .dataframe tbody tr th {\n",
       "        vertical-align: top;\n",
       "    }\n",
       "\n",
       "    .dataframe thead th {\n",
       "        text-align: right;\n",
       "    }\n",
       "</style>\n",
       "<table border=\"1\" class=\"dataframe\">\n",
       "  <thead>\n",
       "    <tr style=\"text-align: right;\">\n",
       "      <th></th>\n",
       "      <th>in_theaters_date</th>\n",
       "      <th>on_streaming_date</th>\n",
       "      <th>runtime_in_minutes</th>\n",
       "      <th>tomatometer_rating</th>\n",
       "      <th>tomatometer_count</th>\n",
       "      <th>audience_rating</th>\n",
       "      <th>action &amp; adventure</th>\n",
       "      <th>animation</th>\n",
       "      <th>anime &amp; manga</th>\n",
       "      <th>art house &amp; international</th>\n",
       "      <th>...</th>\n",
       "      <th>musical &amp; performing arts</th>\n",
       "      <th>mystery &amp; suspense</th>\n",
       "      <th>romance</th>\n",
       "      <th>science fiction &amp; fantasy</th>\n",
       "      <th>special interest</th>\n",
       "      <th>sports &amp; fitness</th>\n",
       "      <th>television</th>\n",
       "      <th>western</th>\n",
       "      <th>theatre_year</th>\n",
       "      <th>stream_year</th>\n",
       "    </tr>\n",
       "  </thead>\n",
       "  <tbody>\n",
       "    <tr>\n",
       "      <th>count</th>\n",
       "      <td>16064</td>\n",
       "      <td>16064</td>\n",
       "      <td>16064.000000</td>\n",
       "      <td>16064.000000</td>\n",
       "      <td>16064.000000</td>\n",
       "      <td>16064.000000</td>\n",
       "      <td>16064.000000</td>\n",
       "      <td>16064.000000</td>\n",
       "      <td>16064.000000</td>\n",
       "      <td>16064.000000</td>\n",
       "      <td>...</td>\n",
       "      <td>16064.000000</td>\n",
       "      <td>16064.000000</td>\n",
       "      <td>16064.000000</td>\n",
       "      <td>16064.000000</td>\n",
       "      <td>16064.000000</td>\n",
       "      <td>16064.000000</td>\n",
       "      <td>16064.000000</td>\n",
       "      <td>16064.000000</td>\n",
       "      <td>16064.000000</td>\n",
       "      <td>16064.000000</td>\n",
       "    </tr>\n",
       "    <tr>\n",
       "      <th>mean</th>\n",
       "      <td>2000-05-24 16:14:34.900398336</td>\n",
       "      <td>2008-07-22 01:51:25.458167296</td>\n",
       "      <td>101.804096</td>\n",
       "      <td>60.167082</td>\n",
       "      <td>57.420443</td>\n",
       "      <td>60.315115</td>\n",
       "      <td>0.203312</td>\n",
       "      <td>0.033989</td>\n",
       "      <td>0.000934</td>\n",
       "      <td>0.144422</td>\n",
       "      <td>...</td>\n",
       "      <td>0.057395</td>\n",
       "      <td>0.203187</td>\n",
       "      <td>0.109562</td>\n",
       "      <td>0.105827</td>\n",
       "      <td>0.072896</td>\n",
       "      <td>0.010583</td>\n",
       "      <td>0.014691</td>\n",
       "      <td>0.017119</td>\n",
       "      <td>1999.903386</td>\n",
       "      <td>2008.063496</td>\n",
       "    </tr>\n",
       "    <tr>\n",
       "      <th>min</th>\n",
       "      <td>1915-01-01 00:00:00</td>\n",
       "      <td>1935-06-06 00:00:00</td>\n",
       "      <td>30.000000</td>\n",
       "      <td>0.000000</td>\n",
       "      <td>5.000000</td>\n",
       "      <td>0.000000</td>\n",
       "      <td>0.000000</td>\n",
       "      <td>0.000000</td>\n",
       "      <td>0.000000</td>\n",
       "      <td>0.000000</td>\n",
       "      <td>...</td>\n",
       "      <td>0.000000</td>\n",
       "      <td>0.000000</td>\n",
       "      <td>0.000000</td>\n",
       "      <td>0.000000</td>\n",
       "      <td>0.000000</td>\n",
       "      <td>0.000000</td>\n",
       "      <td>0.000000</td>\n",
       "      <td>0.000000</td>\n",
       "      <td>1915.000000</td>\n",
       "      <td>1935.000000</td>\n",
       "    </tr>\n",
       "    <tr>\n",
       "      <th>25%</th>\n",
       "      <td>1994-04-15 00:00:00</td>\n",
       "      <td>2003-01-21 00:00:00</td>\n",
       "      <td>90.000000</td>\n",
       "      <td>38.000000</td>\n",
       "      <td>12.000000</td>\n",
       "      <td>44.000000</td>\n",
       "      <td>0.000000</td>\n",
       "      <td>0.000000</td>\n",
       "      <td>0.000000</td>\n",
       "      <td>0.000000</td>\n",
       "      <td>...</td>\n",
       "      <td>0.000000</td>\n",
       "      <td>0.000000</td>\n",
       "      <td>0.000000</td>\n",
       "      <td>0.000000</td>\n",
       "      <td>0.000000</td>\n",
       "      <td>0.000000</td>\n",
       "      <td>0.000000</td>\n",
       "      <td>0.000000</td>\n",
       "      <td>1994.000000</td>\n",
       "      <td>2003.000000</td>\n",
       "    </tr>\n",
       "    <tr>\n",
       "      <th>50%</th>\n",
       "      <td>2007-01-02 12:00:00</td>\n",
       "      <td>2008-03-18 00:00:00</td>\n",
       "      <td>99.000000</td>\n",
       "      <td>65.000000</td>\n",
       "      <td>29.000000</td>\n",
       "      <td>62.000000</td>\n",
       "      <td>0.000000</td>\n",
       "      <td>0.000000</td>\n",
       "      <td>0.000000</td>\n",
       "      <td>0.000000</td>\n",
       "      <td>...</td>\n",
       "      <td>0.000000</td>\n",
       "      <td>0.000000</td>\n",
       "      <td>0.000000</td>\n",
       "      <td>0.000000</td>\n",
       "      <td>0.000000</td>\n",
       "      <td>0.000000</td>\n",
       "      <td>0.000000</td>\n",
       "      <td>0.000000</td>\n",
       "      <td>2006.500000</td>\n",
       "      <td>2008.000000</td>\n",
       "    </tr>\n",
       "    <tr>\n",
       "      <th>75%</th>\n",
       "      <td>2013-10-04 00:00:00</td>\n",
       "      <td>2014-04-01 00:00:00</td>\n",
       "      <td>110.000000</td>\n",
       "      <td>85.000000</td>\n",
       "      <td>78.000000</td>\n",
       "      <td>77.000000</td>\n",
       "      <td>0.000000</td>\n",
       "      <td>0.000000</td>\n",
       "      <td>0.000000</td>\n",
       "      <td>0.000000</td>\n",
       "      <td>...</td>\n",
       "      <td>0.000000</td>\n",
       "      <td>0.000000</td>\n",
       "      <td>0.000000</td>\n",
       "      <td>0.000000</td>\n",
       "      <td>0.000000</td>\n",
       "      <td>0.000000</td>\n",
       "      <td>0.000000</td>\n",
       "      <td>0.000000</td>\n",
       "      <td>2013.000000</td>\n",
       "      <td>2014.000000</td>\n",
       "    </tr>\n",
       "    <tr>\n",
       "      <th>max</th>\n",
       "      <td>2019-10-25 00:00:00</td>\n",
       "      <td>2019-11-01 00:00:00</td>\n",
       "      <td>177.000000</td>\n",
       "      <td>100.000000</td>\n",
       "      <td>497.000000</td>\n",
       "      <td>100.000000</td>\n",
       "      <td>1.000000</td>\n",
       "      <td>1.000000</td>\n",
       "      <td>1.000000</td>\n",
       "      <td>1.000000</td>\n",
       "      <td>...</td>\n",
       "      <td>1.000000</td>\n",
       "      <td>1.000000</td>\n",
       "      <td>1.000000</td>\n",
       "      <td>1.000000</td>\n",
       "      <td>1.000000</td>\n",
       "      <td>1.000000</td>\n",
       "      <td>1.000000</td>\n",
       "      <td>1.000000</td>\n",
       "      <td>2019.000000</td>\n",
       "      <td>2019.000000</td>\n",
       "    </tr>\n",
       "    <tr>\n",
       "      <th>std</th>\n",
       "      <td>NaN</td>\n",
       "      <td>NaN</td>\n",
       "      <td>17.204977</td>\n",
       "      <td>28.572880</td>\n",
       "      <td>66.660330</td>\n",
       "      <td>20.431489</td>\n",
       "      <td>0.402475</td>\n",
       "      <td>0.181207</td>\n",
       "      <td>0.030544</td>\n",
       "      <td>0.351528</td>\n",
       "      <td>...</td>\n",
       "      <td>0.232604</td>\n",
       "      <td>0.402383</td>\n",
       "      <td>0.312352</td>\n",
       "      <td>0.307625</td>\n",
       "      <td>0.259974</td>\n",
       "      <td>0.102330</td>\n",
       "      <td>0.120318</td>\n",
       "      <td>0.129719</td>\n",
       "      <td>19.153648</td>\n",
       "      <td>6.462209</td>\n",
       "    </tr>\n",
       "  </tbody>\n",
       "</table>\n",
       "<p>8 rows × 29 columns</p>\n",
       "</div>"
      ],
      "text/plain": [
       "                    in_theaters_date              on_streaming_date  \\\n",
       "count                          16064                          16064   \n",
       "mean   2000-05-24 16:14:34.900398336  2008-07-22 01:51:25.458167296   \n",
       "min              1915-01-01 00:00:00            1935-06-06 00:00:00   \n",
       "25%              1994-04-15 00:00:00            2003-01-21 00:00:00   \n",
       "50%              2007-01-02 12:00:00            2008-03-18 00:00:00   \n",
       "75%              2013-10-04 00:00:00            2014-04-01 00:00:00   \n",
       "max              2019-10-25 00:00:00            2019-11-01 00:00:00   \n",
       "std                              NaN                            NaN   \n",
       "\n",
       "       runtime_in_minutes  tomatometer_rating  tomatometer_count  \\\n",
       "count        16064.000000        16064.000000       16064.000000   \n",
       "mean           101.804096           60.167082          57.420443   \n",
       "min             30.000000            0.000000           5.000000   \n",
       "25%             90.000000           38.000000          12.000000   \n",
       "50%             99.000000           65.000000          29.000000   \n",
       "75%            110.000000           85.000000          78.000000   \n",
       "max            177.000000          100.000000         497.000000   \n",
       "std             17.204977           28.572880          66.660330   \n",
       "\n",
       "       audience_rating  action & adventure     animation  anime & manga  \\\n",
       "count     16064.000000        16064.000000  16064.000000   16064.000000   \n",
       "mean         60.315115            0.203312      0.033989       0.000934   \n",
       "min           0.000000            0.000000      0.000000       0.000000   \n",
       "25%          44.000000            0.000000      0.000000       0.000000   \n",
       "50%          62.000000            0.000000      0.000000       0.000000   \n",
       "75%          77.000000            0.000000      0.000000       0.000000   \n",
       "max         100.000000            1.000000      1.000000       1.000000   \n",
       "std          20.431489            0.402475      0.181207       0.030544   \n",
       "\n",
       "       art house & international  ...  musical & performing arts  \\\n",
       "count               16064.000000  ...               16064.000000   \n",
       "mean                    0.144422  ...                   0.057395   \n",
       "min                     0.000000  ...                   0.000000   \n",
       "25%                     0.000000  ...                   0.000000   \n",
       "50%                     0.000000  ...                   0.000000   \n",
       "75%                     0.000000  ...                   0.000000   \n",
       "max                     1.000000  ...                   1.000000   \n",
       "std                     0.351528  ...                   0.232604   \n",
       "\n",
       "       mystery & suspense       romance  science fiction & fantasy  \\\n",
       "count        16064.000000  16064.000000               16064.000000   \n",
       "mean             0.203187      0.109562                   0.105827   \n",
       "min              0.000000      0.000000                   0.000000   \n",
       "25%              0.000000      0.000000                   0.000000   \n",
       "50%              0.000000      0.000000                   0.000000   \n",
       "75%              0.000000      0.000000                   0.000000   \n",
       "max              1.000000      1.000000                   1.000000   \n",
       "std              0.402383      0.312352                   0.307625   \n",
       "\n",
       "       special interest  sports & fitness    television       western  \\\n",
       "count      16064.000000      16064.000000  16064.000000  16064.000000   \n",
       "mean           0.072896          0.010583      0.014691      0.017119   \n",
       "min            0.000000          0.000000      0.000000      0.000000   \n",
       "25%            0.000000          0.000000      0.000000      0.000000   \n",
       "50%            0.000000          0.000000      0.000000      0.000000   \n",
       "75%            0.000000          0.000000      0.000000      0.000000   \n",
       "max            1.000000          1.000000      1.000000      1.000000   \n",
       "std            0.259974          0.102330      0.120318      0.129719   \n",
       "\n",
       "       theatre_year   stream_year  \n",
       "count  16064.000000  16064.000000  \n",
       "mean    1999.903386   2008.063496  \n",
       "min     1915.000000   1935.000000  \n",
       "25%     1994.000000   2003.000000  \n",
       "50%     2006.500000   2008.000000  \n",
       "75%     2013.000000   2014.000000  \n",
       "max     2019.000000   2019.000000  \n",
       "std       19.153648      6.462209  \n",
       "\n",
       "[8 rows x 29 columns]"
      ]
     },
     "execution_count": 120,
     "metadata": {},
     "output_type": "execute_result"
    }
   ],
   "source": [
    "dataset.describe()"
   ]
  },
  {
   "cell_type": "code",
   "execution_count": 327,
   "metadata": {},
   "outputs": [
    {
     "data": {
      "image/png": "[encoded data removed]",
      "text/plain": [
       "<Figure size 640x480 with 1 Axes>"
      ]
     },
     "metadata": {},
     "output_type": "display_data"
    }
   ],
   "source": [
    "sns.boxplot(x=dataset['tomatometer_count'])\n",
    "plt.title(\"Boxplot for Tomatometer Count\")\n",
    "plt.show()"
   ]
  },
  {
   "cell_type": "code",
   "execution_count": 122,
   "metadata": {},
   "outputs": [
    {
     "name": "stdout",
     "output_type": "stream",
     "text": [
      "Number of outliers: 302\n"
     ]
    }
   ],
   "source": [
    "from scipy.stats import zscore\n",
    "tomatometer_count = dataset['tomatometer_count']\n",
    "z_scores = zscore(tomatometer_count)\n",
    "outliers_t = tomatometer_count[abs(z_scores) > 3]\n",
    "print(f\"Number of outliers: {len(outliers_t)}\")"
   ]
  },
  {
   "cell_type": "markdown",
   "metadata": {},
   "source": [
    "Need to check the removal of outliers in tomatometer_count based on results -- tree(robust to outliers) vs distance based techniques"
   ]
  },
  {
   "cell_type": "code",
   "execution_count": 22,
   "metadata": {},
   "outputs": [],
   "source": [
    "from sklearn.preprocessing import OrdinalEncoder\n",
    "ordinal_encoder = OrdinalEncoder(categories=[['Rotten', 'Certified Fresh', 'Fresh']])\n",
    "dataset['status'] = ordinal_encoder.fit_transform(dataset[['tomatometer_status']])\n",
    "ordinal_encoder = OrdinalEncoder(categories=[['PG', 'R', 'NR', 'G', 'PG-13', 'NC17']]) \n",
    "dataset['rating_encoded'] = ordinal_encoder.fit_transform(dataset[['rating']])"
   ]
  },
  {
   "cell_type": "code",
   "execution_count": 23,
   "metadata": {},
   "outputs": [],
   "source": [
    "\n",
    "from sklearn.preprocessing import StandardScaler, MinMaxScaler\n",
    "standard_scaler = StandardScaler()\n",
    "min_max_scaler = MinMaxScaler()\n",
    "dataset['runtime_in_minutes_scaled'] = standard_scaler.fit_transform(dataset[['runtime_in_minutes']])\n",
    "dataset[['tomatometer_count_scaled', 'theatre_year_scaled', 'stream_year_scaled', 'tomatometer_rating_scaled']] = min_max_scaler.fit_transform(dataset[['tomatometer_count', 'theatre_year', 'stream_year','tomatometer_rating']])"
   ]
  },
  {
   "cell_type": "code",
   "execution_count": 24,
   "metadata": {},
   "outputs": [],
   "source": [
    "# Drop unnecessary columns\n",
    "columns_to_drop = ['movie_title', 'movie_info', 'critics_consensus', 'directors', \n",
    "                   'writers', 'cast', 'in_theaters_date', 'on_streaming_date', 'studio_name', 'genre', 'tomatometer_status', 'rating', 'runtime_in_minutes', 'tomatometer_count','theatre_year', 'stream_year','tomatometer_rating']\n",
    "dataset = dataset.drop(columns=columns_to_drop, errors='ignore')"
   ]
  },
  {
   "cell_type": "code",
   "execution_count": 25,
   "metadata": {},
   "outputs": [
    {
     "data": {
      "text/plain": [
       "Index(['audience_rating', 'action & adventure', 'animation', 'anime & manga',\n",
       "       'art house & international', 'classics', 'comedy', 'cult movies',\n",
       "       'documentary', 'drama', 'faith & spirituality', 'gay & lesbian',\n",
       "       'horror', 'kids & family', 'musical & performing arts',\n",
       "       'mystery & suspense', 'romance', 'science fiction & fantasy',\n",
       "       'special interest', 'sports & fitness', 'television', 'western',\n",
       "       'status', 'rating_encoded', 'runtime_in_minutes_scaled',\n",
       "       'tomatometer_count_scaled', 'theatre_year_scaled', 'stream_year_scaled',\n",
       "       'tomatometer_rating_scaled'],\n",
       "      dtype='object')"
      ]
     },
     "execution_count": 25,
     "metadata": {},
     "output_type": "execute_result"
    }
   ],
   "source": [
    "dataset.columns"
   ]
  },
  {
   "cell_type": "markdown",
   "metadata": {},
   "source": [
    "Handling data imbalances"
   ]
  },
  {
   "cell_type": "code",
   "execution_count": 26,
   "metadata": {},
   "outputs": [
    {
     "name": "stdout",
     "output_type": "stream",
     "text": [
      "audience_rating\n",
      "0.0       5\n",
      "4.0       2\n",
      "5.0       5\n",
      "6.0       2\n",
      "7.0       4\n",
      "         ..\n",
      "96.0     28\n",
      "97.0     16\n",
      "98.0      6\n",
      "99.0      3\n",
      "100.0    25\n",
      "Name: count, Length: 98, dtype: int64\n"
     ]
    },
    {
     "data": {
      "image/png": "[encoded data removed]",
      "text/plain": [
       "<Figure size 1200x600 with 1 Axes>"
      ]
     },
     "metadata": {},
     "output_type": "display_data"
    }
   ],
   "source": [
    "# Check class counts\n",
    "class_counts = dataset['audience_rating'].value_counts().sort_index()\n",
    "print(class_counts)\n",
    "\n",
    "plt.figure(figsize=(12, 6))\n",
    "plt.bar(class_counts.index, class_counts.values, color='skyblue')\n",
    "plt.title(\"Class Distribution of Audience Ratings (0-100)\")\n",
    "plt.xlabel(\"Audience Rating\")\n",
    "plt.ylabel(\"Count\")\n",
    "plt.show()\n"
   ]
  },
  {
   "cell_type": "code",
   "execution_count": 27,
   "metadata": {},
   "outputs": [
    {
     "name": "stdout",
     "output_type": "stream",
     "text": [
      "Class distribution before resampling:\n",
      "audience_rating\n",
      "72.0    320\n",
      "75.0    310\n",
      "78.0    292\n",
      "76.0    286\n",
      "77.0    285\n",
      "       ... \n",
      "8.0       5\n",
      "7.0       4\n",
      "99.0      3\n",
      "4.0       2\n",
      "6.0       2\n",
      "Name: count, Length: 98, dtype: int64\n"
     ]
    }
   ],
   "source": [
    "from imblearn.over_sampling import SMOTE\n",
    "X = dataset.drop(columns=['audience_rating'])\n",
    "y = dataset['audience_rating']\n",
    "class_counts = y.value_counts()\n",
    "print(\"Class distribution before resampling:\")\n",
    "print(class_counts)\n",
    "smote = SMOTE(random_state=42, k_neighbors=1)  # Since for some classes there're too low samples\n",
    "X_resampled, y_resampled = smote.fit_resample(X, y)"
   ]
  },
  {
   "cell_type": "code",
   "execution_count": 130,
   "metadata": {},
   "outputs": [
    {
     "name": "stdout",
     "output_type": "stream",
     "text": [
      "Feature Importance (sorted):\n",
      "anime & manga: 0.0000\n",
      "cult movies: 0.0001\n",
      "gay & lesbian: 0.0001\n",
      "faith & spirituality: 0.0002\n",
      "sports & fitness: 0.0002\n",
      "western: 0.0004\n",
      "classics: 0.0006\n",
      "animation: 0.0009\n",
      "musical & performing arts: 0.0013\n",
      "special interest: 0.0016\n",
      "science fiction & fantasy: 0.0020\n",
      "romance: 0.0027\n",
      "kids & family: 0.0035\n",
      "art house & international: 0.0047\n",
      "action & adventure: 0.0068\n",
      "horror: 0.0104\n",
      "television: 0.0120\n",
      "mystery & suspense: 0.0136\n",
      "comedy: 0.0521\n",
      "drama: 0.0695\n",
      "documentary: 0.0721\n",
      "theatre_year_scaled: 0.0997\n",
      "rating_encoded: 0.1082\n",
      "stream_year_scaled: 0.1616\n",
      "tomatometer_count_scaled: 0.1893\n",
      "status: 0.1974\n",
      "runtime_in_minutes_scaled: 0.2712\n",
      "tomatometer_rating: 0.9340\n",
      "Selected Features (Importance > 0.005): ['action & adventure', 'horror', 'television', 'mystery & suspense', 'comedy', 'drama', 'documentary', 'theatre_year_scaled', 'rating_encoded', 'stream_year_scaled', 'tomatometer_count_scaled', 'status', 'runtime_in_minutes_scaled', 'tomatometer_rating']\n",
      "Variance Inflation Factor (VIF):\n",
      "                      feature         VIF\n",
      "0          tomatometer_rating   13.383084\n",
      "1          action & adventure    1.345828\n",
      "2                   animation    1.376586\n",
      "3               anime & manga    1.030464\n",
      "4   art house & international    1.212780\n",
      "5                    classics    2.029725\n",
      "6                      comedy    1.513914\n",
      "7                 cult movies    1.016417\n",
      "8                 documentary    2.156440\n",
      "9                       drama    2.293004\n",
      "10       faith & spirituality    1.012387\n",
      "11              gay & lesbian    1.007252\n",
      "12                     horror    1.305077\n",
      "13              kids & family    1.389567\n",
      "14  musical & performing arts    1.111598\n",
      "15         mystery & suspense    1.304537\n",
      "16                    romance    1.170503\n",
      "17  science fiction & fantasy    1.208446\n",
      "18           special interest    1.576012\n",
      "19           sports & fitness    1.030722\n",
      "20                 television    1.034380\n",
      "21                    western    1.058432\n",
      "22                     status    5.212750\n",
      "23             rating_encoded    3.490908\n",
      "24  runtime_in_minutes_scaled    1.388078\n",
      "25   tomatometer_count_scaled    2.266659\n",
      "26        theatre_year_scaled   90.189895\n",
      "27         stream_year_scaled  107.467263\n",
      "Features to Drop due to High VIF: ['tomatometer_rating', 'theatre_year_scaled', 'stream_year_scaled']\n"
     ]
    }
   ],
   "source": [
    "from sklearn.inspection import permutation_importance\n",
    "from sklearn.ensemble import RandomForestRegressor\n",
    "from statsmodels.stats.outliers_influence import variance_inflation_factor\n",
    "import pandas as pd\n",
    "\n",
    "model_rf = RandomForestRegressor(random_state=42)\n",
    "model_rf.fit(X_resampled, y_resampled)\n",
    "perm_importance = permutation_importance(\n",
    "    model_rf, X_resampled, y_resampled, n_repeats=10, random_state=42, scoring='r2'\n",
    ")\n",
    "sorted_idx = perm_importance.importances_mean.argsort()\n",
    "print(\"Feature Importance (sorted):\")\n",
    "for i in sorted_idx:\n",
    "    print(f\"{X_resampled.columns[i]}: {perm_importance.importances_mean[i]:.4f}\")\n",
    "important_features = [\n",
    "    X_resampled.columns[i]\n",
    "    for i in sorted_idx\n",
    "    if perm_importance.importances_mean[i] > 0.005\n",
    "]\n",
    "print(f\"Selected Features (Importance > 0.005): {important_features}\")\n",
    "\n",
    "\n",
    "#checking inter-feature dependence (multi collinearity)\n",
    "vif_data = pd.DataFrame()\n",
    "vif_data[\"feature\"] = X_resampled.columns\n",
    "vif_data[\"VIF\"] = [\n",
    "    variance_inflation_factor(X_resampled.values, i)\n",
    "    for i in range(X_resampled.shape[1])\n",
    "]\n",
    "\n",
    "print(\"Variance Inflation Factor (VIF):\")\n",
    "print(vif_data)\n",
    "\n",
    "columns_to_drop_vif = vif_data[vif_data[\"VIF\"] > 10][\"feature\"].tolist()\n",
    "print(f\"Features to Drop due to High VIF: {columns_to_drop_vif}\")"
   ]
  },
  {
   "cell_type": "markdown",
   "metadata": {},
   "source": [
    "Based on aboove results, manually dropping some of the features which have low relevance and redundant from other features"
   ]
  },
  {
   "cell_type": "code",
   "execution_count": 37,
   "metadata": {},
   "outputs": [],
   "source": [
    "\n",
    "columns_to_drop = [\n",
    "    'western',\n",
    "    'faith & spirituality',\n",
    "    'anime & manga',\n",
    "    'gay & lesbian',\n",
    "    'cult movies',\n",
    "    'sports & fitness',\n",
    "    'stream_year_scaled',\n",
    "    'classics',\n",
    "    'animation',\n",
    "\n",
    "]\n",
    "X_resampled_final_manual_drop = X_resampled.drop(columns=columns_to_drop)"
   ]
  },
  {
   "cell_type": "markdown",
   "metadata": {},
   "source": [
    "Using PCA for selecting features:"
   ]
  },
  {
   "cell_type": "code",
   "execution_count": 30,
   "metadata": {},
   "outputs": [],
   "source": [
    "from sklearn.decomposition import PCA\n",
    "pca = PCA(n_components=0.95, random_state=42)\n",
    "X_resampled_final = pca.fit_transform(X_resampled)"
   ]
  },
  {
   "cell_type": "code",
   "execution_count": 33,
   "metadata": {},
   "outputs": [],
   "source": [
    "from sklearn.model_selection import train_test_split\n",
    "X_train, X_test, y_train, y_test = train_test_split(\n",
    "    X_resampled_final, y_resampled, test_size=0.2, random_state=42\n",
    ")"
   ]
  },
  {
   "cell_type": "code",
   "execution_count": 38,
   "metadata": {},
   "outputs": [],
   "source": [
    "X_train_manual, X_test_manual, y_train_manual, y_test_manual = train_test_split(\n",
    "    X_resampled_final_manual_drop, y_resampled, test_size=0.2, random_state=42\n",
    ")"
   ]
  },
  {
   "cell_type": "markdown",
   "metadata": {},
   "source": [
    "Random forest model using PCA for feature selection"
   ]
  },
  {
   "cell_type": "code",
   "execution_count": 34,
   "metadata": {},
   "outputs": [
    {
     "name": "stdout",
     "output_type": "stream",
     "text": [
      "MAE: 8.265685586734694\n",
      "Rounded Accuracy: 0.15003188775510204\n",
      "Tolerance Accuracy (±3): 35.30%\n",
      "Tolerance Accuracy (±5): 47.40%\n"
     ]
    }
   ],
   "source": [
    "from sklearn.ensemble import RandomForestRegressor\n",
    "from sklearn.metrics import mean_absolute_error, mean_squared_error, r2_score\n",
    "model = RandomForestRegressor(n_estimators=100, random_state=42)\n",
    "model.fit(X_train, y_train)\n",
    "y_pred = model.predict(X_test)\n",
    "mae = mean_absolute_error(y_test, y_pred)\n",
    "print(f\"MAE: {mae}\")\n",
    "y_pred_rounded = np.round(y_pred)\n",
    "rounded_accuracy = (y_pred_rounded == y_test).mean()\n",
    "print(f\"Rounded Accuracy: {rounded_accuracy}\")\n",
    "tolerance_3_accuracy = ((np.abs(y_pred - y_test) <= 3).sum() / len(y_test)) * 100\n",
    "tolerance_5_accuracy = ((np.abs(y_pred - y_test) <= 5).sum() / len(y_test)) * 100\n",
    "\n",
    "print(f\"Tolerance Accuracy (±3): {tolerance_3_accuracy:.2f}%\")\n",
    "print(f\"Tolerance Accuracy (±5): {tolerance_5_accuracy:.2f}%\")\n"
   ]
  },
  {
   "cell_type": "markdown",
   "metadata": {},
   "source": [
    "Random forest using manual feature selection through VIF, perm importance"
   ]
  },
  {
   "cell_type": "code",
   "execution_count": 40,
   "metadata": {},
   "outputs": [
    {
     "name": "stdout",
     "output_type": "stream",
     "text": [
      "MAE: 7.974329931972789\n",
      "Rounded Accuracy: 0.14301658163265307\n",
      "Tolerance Accuracy (±3): 35.76%\n",
      "Tolerance Accuracy (±5): 48.37%\n"
     ]
    }
   ],
   "source": [
    "model = RandomForestRegressor(n_estimators=100, random_state=42)\n",
    "model.fit(X_train_manual, y_train_manual)\n",
    "y_pred = model.predict(X_test_manual)\n",
    "mae = mean_absolute_error(y_test_manual, y_pred)\n",
    "print(f\"MAE: {mae}\")\n",
    "\n",
    "y_pred_rounded = np.round(y_pred)\n",
    "rounded_accuracy = (y_pred_rounded == y_test_manual).mean()\n",
    "print(f\"Rounded Accuracy: {rounded_accuracy}\")\n",
    "\n",
    "tolerance_3_accuracy = ((np.abs(y_pred - y_test_manual) <= 3).sum() / len(y_test_manual)) * 100\n",
    "tolerance_5_accuracy = ((np.abs(y_pred - y_test_manual) <= 5).sum() / len(y_test_manual)) * 100\n",
    "\n",
    "print(f\"Tolerance Accuracy (±3): {tolerance_3_accuracy:.2f}%\")\n",
    "print(f\"Tolerance Accuracy (±5): {tolerance_5_accuracy:.2f}%\")\n"
   ]
  },
  {
   "cell_type": "markdown",
   "metadata": {},
   "source": [
    "XG Boost model"
   ]
  },
  {
   "cell_type": "code",
   "execution_count": 41,
   "metadata": {},
   "outputs": [
    {
     "name": "stdout",
     "output_type": "stream",
     "text": [
      "Fitting 3 folds for each of 72 candidates, totalling 216 fits\n",
      "Best Parameters: {'colsample_bytree': 1.0, 'learning_rate': 0.2, 'max_depth': 7, 'n_estimators': 200, 'subsample': 1.0}\n",
      "MAE: 8.920864141011036\n",
      "MSE: 158.1536359146956\n",
      "R² Score: 0.8015766109214808\n",
      "Rounded Accuracy: 0.06712372448979592\n",
      "Tolerance Accuracy (±3): 30.74%\n",
      "Tolerance Accuracy (±5): 44.01%\n"
     ]
    }
   ],
   "source": [
    "from sklearn.model_selection import  GridSearchCV\n",
    "from sklearn.metrics import mean_absolute_error, mean_squared_error, r2_score\n",
    "from xgboost import XGBRegressor\n",
    "xgb = XGBRegressor(objective='reg:squarederror', random_state=42)\n",
    "\n",
    "param_grid = {\n",
    "    'n_estimators': [100, 200],\n",
    "    'max_depth': [3, 5, 7],\n",
    "    'learning_rate': [0.01, 0.1, 0.2],\n",
    "    'subsample': [0.8, 1.0],\n",
    "    'colsample_bytree': [0.8, 1.0],\n",
    "}\n",
    "grid_search = GridSearchCV(estimator=xgb, param_grid=param_grid, cv=3, scoring='neg_mean_absolute_error', verbose=1, n_jobs=-1)\n",
    "grid_search.fit(X_train, y_train)\n",
    "\n",
    "best_params = grid_search.best_params_\n",
    "print(\"Best Parameters:\", best_params)\n",
    "\n",
    "best_xgb = grid_search.best_estimator_\n",
    "\n",
    "y_pred = best_xgb.predict(X_test)\n",
    "\n",
    "mae = mean_absolute_error(y_test, y_pred)\n",
    "mse = mean_squared_error(y_test, y_pred)\n",
    "r2 = r2_score(y_test, y_pred)\n",
    "\n",
    "print(f\"MAE: {mae}\")\n",
    "print(f\"MSE: {mse}\")\n",
    "print(f\"R² Score: {r2}\")\n",
    "\n",
    "y_pred_rounded = np.round(y_pred)\n",
    "rounded_accuracy = (y_pred_rounded == y_test).mean()\n",
    "print(f\"Rounded Accuracy: {rounded_accuracy}\")\n",
    "\n",
    "tolerance_3_accuracy = ((np.abs(y_pred - y_test) <= 3).sum() / len(y_test)) * 100\n",
    "tolerance_5_accuracy = ((np.abs(y_pred - y_test) <= 5).sum() / len(y_test)) * 100\n",
    "\n",
    "print(f\"Tolerance Accuracy (±3): {tolerance_3_accuracy:.2f}%\")\n",
    "print(f\"Tolerance Accuracy (±5): {tolerance_5_accuracy:.2f}%\")"
   ]
  },
  {
   "cell_type": "code",
   "execution_count": 42,
   "metadata": {},
   "outputs": [
    {
     "name": "stdout",
     "output_type": "stream",
     "text": [
      "Tolerance Accuracy (±5): 44.01%\n",
      "Tolerance Accuracy (±7): 53.62%\n"
     ]
    }
   ],
   "source": [
    "tolerance_10_accuracy = ((np.abs(y_pred - y_test) <= 5).sum() / len(y_test)) * 100\n",
    "tolerance_15_accuracy = ((np.abs(y_pred - y_test) <= 7).sum() / len(y_test)) * 100\n",
    "\n",
    "print(f\"Tolerance Accuracy (±5): {tolerance_10_accuracy:.2f}%\")\n",
    "print(f\"Tolerance Accuracy (±7): {tolerance_15_accuracy:.2f}%\")"
   ]
  },
  {
   "cell_type": "markdown",
   "metadata": {},
   "source": [
    "Feed forward neural network"
   ]
  },
  {
   "cell_type": "code",
   "execution_count": 43,
   "metadata": {},
   "outputs": [],
   "source": [
    "import tensorflow as tf\n",
    "from tensorflow.keras.models import Sequential\n",
    "from tensorflow.keras.layers import Dense, Dropout, BatchNormalization\n",
    "from tensorflow.keras.optimizers import Adam\n"
   ]
  },
  {
   "cell_type": "code",
   "execution_count": 45,
   "metadata": {},
   "outputs": [],
   "source": [
    "X_train = X_train_manual\n",
    "X_test = X_test_manual\n",
    "y_test = y_test_manual\n",
    "y_train = y_train_manual"
   ]
  },
  {
   "cell_type": "code",
   "execution_count": 46,
   "metadata": {},
   "outputs": [
    {
     "name": "stderr",
     "output_type": "stream",
     "text": [
      "c:\\Users\\lashicr7\\AppData\\Local\\Programs\\Python\\Python311\\Lib\\site-packages\\keras\\src\\layers\\core\\dense.py:87: UserWarning: Do not pass an `input_shape`/`input_dim` argument to a layer. When using Sequential models, prefer using an `Input(shape)` object as the first layer in the model instead.\n",
      "  super().__init__(activity_regularizer=activity_regularizer, **kwargs)\n"
     ]
    },
    {
     "data": {
      "text/html": [
       "<pre style=\"white-space:pre;overflow-x:auto;line-height:normal;font-family:Menlo,'DejaVu Sans Mono',consolas,'Courier New',monospace\"><span style=\"font-weight: bold\">Model: \"sequential_1\"</span>\n",
       "</pre>\n"
      ],
      "text/plain": [
       "\u001b[1mModel: \"sequential_1\"\u001b[0m\n"
      ]
     },
     "metadata": {},
     "output_type": "display_data"
    },
    {
     "data": {
      "text/html": [
       "<pre style=\"white-space:pre;overflow-x:auto;line-height:normal;font-family:Menlo,'DejaVu Sans Mono',consolas,'Courier New',monospace\">┏━━━━━━━━━━━━━━━━━━━━━━━━━━━━━━━━━┳━━━━━━━━━━━━━━━━━━━━━━━━┳━━━━━━━━━━━━━━━┓\n",
       "┃<span style=\"font-weight: bold\"> Layer (type)                    </span>┃<span style=\"font-weight: bold\"> Output Shape           </span>┃<span style=\"font-weight: bold\">       Param # </span>┃\n",
       "┡━━━━━━━━━━━━━━━━━━━━━━━━━━━━━━━━━╇━━━━━━━━━━━━━━━━━━━━━━━━╇━━━━━━━━━━━━━━━┩\n",
       "│ dense_3 (<span style=\"color: #0087ff; text-decoration-color: #0087ff\">Dense</span>)                 │ (<span style=\"color: #00d7ff; text-decoration-color: #00d7ff\">None</span>, <span style=\"color: #00af00; text-decoration-color: #00af00\">16</span>)             │           <span style=\"color: #00af00; text-decoration-color: #00af00\">320</span> │\n",
       "├─────────────────────────────────┼────────────────────────┼───────────────┤\n",
       "│ batch_normalization_1           │ (<span style=\"color: #00d7ff; text-decoration-color: #00d7ff\">None</span>, <span style=\"color: #00af00; text-decoration-color: #00af00\">16</span>)             │            <span style=\"color: #00af00; text-decoration-color: #00af00\">64</span> │\n",
       "│ (<span style=\"color: #0087ff; text-decoration-color: #0087ff\">BatchNormalization</span>)            │                        │               │\n",
       "├─────────────────────────────────┼────────────────────────┼───────────────┤\n",
       "│ dense_4 (<span style=\"color: #0087ff; text-decoration-color: #0087ff\">Dense</span>)                 │ (<span style=\"color: #00d7ff; text-decoration-color: #00d7ff\">None</span>, <span style=\"color: #00af00; text-decoration-color: #00af00\">8</span>)              │           <span style=\"color: #00af00; text-decoration-color: #00af00\">136</span> │\n",
       "├─────────────────────────────────┼────────────────────────┼───────────────┤\n",
       "│ dense_5 (<span style=\"color: #0087ff; text-decoration-color: #0087ff\">Dense</span>)                 │ (<span style=\"color: #00d7ff; text-decoration-color: #00d7ff\">None</span>, <span style=\"color: #00af00; text-decoration-color: #00af00\">1</span>)              │             <span style=\"color: #00af00; text-decoration-color: #00af00\">9</span> │\n",
       "└─────────────────────────────────┴────────────────────────┴───────────────┘\n",
       "</pre>\n"
      ],
      "text/plain": [
       "┏━━━━━━━━━━━━━━━━━━━━━━━━━━━━━━━━━┳━━━━━━━━━━━━━━━━━━━━━━━━┳━━━━━━━━━━━━━━━┓\n",
       "┃\u001b[1m \u001b[0m\u001b[1mLayer (type)                   \u001b[0m\u001b[1m \u001b[0m┃\u001b[1m \u001b[0m\u001b[1mOutput Shape          \u001b[0m\u001b[1m \u001b[0m┃\u001b[1m \u001b[0m\u001b[1m      Param #\u001b[0m\u001b[1m \u001b[0m┃\n",
       "┡━━━━━━━━━━━━━━━━━━━━━━━━━━━━━━━━━╇━━━━━━━━━━━━━━━━━━━━━━━━╇━━━━━━━━━━━━━━━┩\n",
       "│ dense_3 (\u001b[38;5;33mDense\u001b[0m)                 │ (\u001b[38;5;45mNone\u001b[0m, \u001b[38;5;34m16\u001b[0m)             │           \u001b[38;5;34m320\u001b[0m │\n",
       "├─────────────────────────────────┼────────────────────────┼───────────────┤\n",
       "│ batch_normalization_1           │ (\u001b[38;5;45mNone\u001b[0m, \u001b[38;5;34m16\u001b[0m)             │            \u001b[38;5;34m64\u001b[0m │\n",
       "│ (\u001b[38;5;33mBatchNormalization\u001b[0m)            │                        │               │\n",
       "├─────────────────────────────────┼────────────────────────┼───────────────┤\n",
       "│ dense_4 (\u001b[38;5;33mDense\u001b[0m)                 │ (\u001b[38;5;45mNone\u001b[0m, \u001b[38;5;34m8\u001b[0m)              │           \u001b[38;5;34m136\u001b[0m │\n",
       "├─────────────────────────────────┼────────────────────────┼───────────────┤\n",
       "│ dense_5 (\u001b[38;5;33mDense\u001b[0m)                 │ (\u001b[38;5;45mNone\u001b[0m, \u001b[38;5;34m1\u001b[0m)              │             \u001b[38;5;34m9\u001b[0m │\n",
       "└─────────────────────────────────┴────────────────────────┴───────────────┘\n"
      ]
     },
     "metadata": {},
     "output_type": "display_data"
    },
    {
     "data": {
      "text/html": [
       "<pre style=\"white-space:pre;overflow-x:auto;line-height:normal;font-family:Menlo,'DejaVu Sans Mono',consolas,'Courier New',monospace\"><span style=\"font-weight: bold\"> Total params: </span><span style=\"color: #00af00; text-decoration-color: #00af00\">529</span> (2.07 KB)\n",
       "</pre>\n"
      ],
      "text/plain": [
       "\u001b[1m Total params: \u001b[0m\u001b[38;5;34m529\u001b[0m (2.07 KB)\n"
      ]
     },
     "metadata": {},
     "output_type": "display_data"
    },
    {
     "data": {
      "text/html": [
       "<pre style=\"white-space:pre;overflow-x:auto;line-height:normal;font-family:Menlo,'DejaVu Sans Mono',consolas,'Courier New',monospace\"><span style=\"font-weight: bold\"> Trainable params: </span><span style=\"color: #00af00; text-decoration-color: #00af00\">497</span> (1.94 KB)\n",
       "</pre>\n"
      ],
      "text/plain": [
       "\u001b[1m Trainable params: \u001b[0m\u001b[38;5;34m497\u001b[0m (1.94 KB)\n"
      ]
     },
     "metadata": {},
     "output_type": "display_data"
    },
    {
     "data": {
      "text/html": [
       "<pre style=\"white-space:pre;overflow-x:auto;line-height:normal;font-family:Menlo,'DejaVu Sans Mono',consolas,'Courier New',monospace\"><span style=\"font-weight: bold\"> Non-trainable params: </span><span style=\"color: #00af00; text-decoration-color: #00af00\">32</span> (128.00 B)\n",
       "</pre>\n"
      ],
      "text/plain": [
       "\u001b[1m Non-trainable params: \u001b[0m\u001b[38;5;34m32\u001b[0m (128.00 B)\n"
      ]
     },
     "metadata": {},
     "output_type": "display_data"
    },
    {
     "name": "stdout",
     "output_type": "stream",
     "text": [
      "Epoch 1/200\n",
      "\u001b[1m628/628\u001b[0m \u001b[32m━━━━━━━━━━━━━━━━━━━━\u001b[0m\u001b[37m\u001b[0m \u001b[1m4s\u001b[0m 3ms/step - loss: 2712.1270 - mae: 44.6877 - val_loss: 393.4956 - val_mae: 15.8651\n",
      "Epoch 2/200\n",
      "\u001b[1m628/628\u001b[0m \u001b[32m━━━━━━━━━━━━━━━━━━━━\u001b[0m\u001b[37m\u001b[0m \u001b[1m2s\u001b[0m 3ms/step - loss: 379.1059 - mae: 15.3905 - val_loss: 282.4833 - val_mae: 12.8517\n",
      "Epoch 3/200\n",
      "\u001b[1m628/628\u001b[0m \u001b[32m━━━━━━━━━━━━━━━━━━━━\u001b[0m\u001b[37m\u001b[0m \u001b[1m2s\u001b[0m 3ms/step - loss: 273.6189 - mae: 12.8234 - val_loss: 265.2467 - val_mae: 12.3597\n",
      "Epoch 4/200\n",
      "\u001b[1m628/628\u001b[0m \u001b[32m━━━━━━━━━━━━━━━━━━━━\u001b[0m\u001b[37m\u001b[0m \u001b[1m2s\u001b[0m 3ms/step - loss: 275.3049 - mae: 12.8654 - val_loss: 259.3189 - val_mae: 12.0748\n",
      "Epoch 5/200\n",
      "\u001b[1m628/628\u001b[0m \u001b[32m━━━━━━━━━━━━━━━━━━━━\u001b[0m\u001b[37m\u001b[0m \u001b[1m3s\u001b[0m 5ms/step - loss: 263.6676 - mae: 12.5186 - val_loss: 254.2563 - val_mae: 12.1482\n",
      "Epoch 6/200\n",
      "\u001b[1m628/628\u001b[0m \u001b[32m━━━━━━━━━━━━━━━━━━━━\u001b[0m\u001b[37m\u001b[0m \u001b[1m3s\u001b[0m 5ms/step - loss: 253.2450 - mae: 12.3689 - val_loss: 252.0188 - val_mae: 12.0386\n",
      "Epoch 7/200\n",
      "\u001b[1m628/628\u001b[0m \u001b[32m━━━━━━━━━━━━━━━━━━━━\u001b[0m\u001b[37m\u001b[0m \u001b[1m2s\u001b[0m 3ms/step - loss: 257.7725 - mae: 12.4144 - val_loss: 254.4786 - val_mae: 11.8864\n",
      "Epoch 8/200\n",
      "\u001b[1m628/628\u001b[0m \u001b[32m━━━━━━━━━━━━━━━━━━━━\u001b[0m\u001b[37m\u001b[0m \u001b[1m2s\u001b[0m 4ms/step - loss: 252.9799 - mae: 12.3087 - val_loss: 250.1924 - val_mae: 11.9998\n",
      "Epoch 9/200\n",
      "\u001b[1m628/628\u001b[0m \u001b[32m━━━━━━━━━━━━━━━━━━━━\u001b[0m\u001b[37m\u001b[0m \u001b[1m2s\u001b[0m 3ms/step - loss: 256.3854 - mae: 12.3431 - val_loss: 249.0622 - val_mae: 11.8011\n",
      "Epoch 10/200\n",
      "\u001b[1m628/628\u001b[0m \u001b[32m━━━━━━━━━━━━━━━━━━━━\u001b[0m\u001b[37m\u001b[0m \u001b[1m2s\u001b[0m 4ms/step - loss: 257.5266 - mae: 12.3407 - val_loss: 247.8448 - val_mae: 11.9664\n",
      "Epoch 11/200\n",
      "\u001b[1m628/628\u001b[0m \u001b[32m━━━━━━━━━━━━━━━━━━━━\u001b[0m\u001b[37m\u001b[0m \u001b[1m2s\u001b[0m 3ms/step - loss: 255.5497 - mae: 12.3159 - val_loss: 245.9929 - val_mae: 11.6758\n",
      "Epoch 12/200\n",
      "\u001b[1m628/628\u001b[0m \u001b[32m━━━━━━━━━━━━━━━━━━━━\u001b[0m\u001b[37m\u001b[0m \u001b[1m2s\u001b[0m 4ms/step - loss: 249.4640 - mae: 12.1536 - val_loss: 244.2209 - val_mae: 11.7882\n",
      "Epoch 13/200\n",
      "\u001b[1m628/628\u001b[0m \u001b[32m━━━━━━━━━━━━━━━━━━━━\u001b[0m\u001b[37m\u001b[0m \u001b[1m2s\u001b[0m 3ms/step - loss: 248.4130 - mae: 12.1163 - val_loss: 242.9507 - val_mae: 11.7836\n",
      "Epoch 14/200\n",
      "\u001b[1m628/628\u001b[0m \u001b[32m━━━━━━━━━━━━━━━━━━━━\u001b[0m\u001b[37m\u001b[0m \u001b[1m2s\u001b[0m 3ms/step - loss: 249.5485 - mae: 12.1703 - val_loss: 243.1803 - val_mae: 11.8331\n",
      "Epoch 15/200\n",
      "\u001b[1m628/628\u001b[0m \u001b[32m━━━━━━━━━━━━━━━━━━━━\u001b[0m\u001b[37m\u001b[0m \u001b[1m2s\u001b[0m 2ms/step - loss: 253.9557 - mae: 12.3334 - val_loss: 244.2826 - val_mae: 11.6440\n",
      "Epoch 16/200\n",
      "\u001b[1m628/628\u001b[0m \u001b[32m━━━━━━━━━━━━━━━━━━━━\u001b[0m\u001b[37m\u001b[0m \u001b[1m1s\u001b[0m 2ms/step - loss: 251.7315 - mae: 12.2125 - val_loss: 242.1725 - val_mae: 11.7802\n",
      "Epoch 17/200\n",
      "\u001b[1m628/628\u001b[0m \u001b[32m━━━━━━━━━━━━━━━━━━━━\u001b[0m\u001b[37m\u001b[0m \u001b[1m2s\u001b[0m 3ms/step - loss: 250.3942 - mae: 12.2555 - val_loss: 242.1891 - val_mae: 11.7695\n",
      "Epoch 18/200\n",
      "\u001b[1m628/628\u001b[0m \u001b[32m━━━━━━━━━━━━━━━━━━━━\u001b[0m\u001b[37m\u001b[0m \u001b[1m2s\u001b[0m 3ms/step - loss: 247.0334 - mae: 12.1227 - val_loss: 252.4967 - val_mae: 11.9730\n",
      "Epoch 19/200\n",
      "\u001b[1m628/628\u001b[0m \u001b[32m━━━━━━━━━━━━━━━━━━━━\u001b[0m\u001b[37m\u001b[0m \u001b[1m2s\u001b[0m 2ms/step - loss: 242.9686 - mae: 12.0392 - val_loss: 244.6740 - val_mae: 11.8229\n",
      "Epoch 20/200\n",
      "\u001b[1m628/628\u001b[0m \u001b[32m━━━━━━━━━━━━━━━━━━━━\u001b[0m\u001b[37m\u001b[0m \u001b[1m2s\u001b[0m 3ms/step - loss: 243.3160 - mae: 12.0728 - val_loss: 242.9297 - val_mae: 11.8123\n",
      "Epoch 21/200\n",
      "\u001b[1m628/628\u001b[0m \u001b[32m━━━━━━━━━━━━━━━━━━━━\u001b[0m\u001b[37m\u001b[0m \u001b[1m2s\u001b[0m 3ms/step - loss: 245.0477 - mae: 12.0777 - val_loss: 242.2535 - val_mae: 11.9550\n",
      "Epoch 22/200\n",
      "\u001b[1m628/628\u001b[0m \u001b[32m━━━━━━━━━━━━━━━━━━━━\u001b[0m\u001b[37m\u001b[0m \u001b[1m2s\u001b[0m 3ms/step - loss: 246.5918 - mae: 12.0887 - val_loss: 239.4004 - val_mae: 11.7127\n",
      "Epoch 23/200\n",
      "\u001b[1m628/628\u001b[0m \u001b[32m━━━━━━━━━━━━━━━━━━━━\u001b[0m\u001b[37m\u001b[0m \u001b[1m2s\u001b[0m 3ms/step - loss: 241.8234 - mae: 12.0065 - val_loss: 239.2393 - val_mae: 11.7848\n",
      "Epoch 24/200\n",
      "\u001b[1m628/628\u001b[0m \u001b[32m━━━━━━━━━━━━━━━━━━━━\u001b[0m\u001b[37m\u001b[0m \u001b[1m2s\u001b[0m 3ms/step - loss: 241.2379 - mae: 12.0377 - val_loss: 241.2244 - val_mae: 11.8048\n",
      "Epoch 25/200\n",
      "\u001b[1m628/628\u001b[0m \u001b[32m━━━━━━━━━━━━━━━━━━━━\u001b[0m\u001b[37m\u001b[0m \u001b[1m2s\u001b[0m 3ms/step - loss: 243.2666 - mae: 12.0501 - val_loss: 239.0608 - val_mae: 11.7550\n",
      "Epoch 26/200\n",
      "\u001b[1m628/628\u001b[0m \u001b[32m━━━━━━━━━━━━━━━━━━━━\u001b[0m\u001b[37m\u001b[0m \u001b[1m2s\u001b[0m 3ms/step - loss: 239.9180 - mae: 11.9348 - val_loss: 241.2398 - val_mae: 11.9070\n",
      "Epoch 27/200\n",
      "\u001b[1m628/628\u001b[0m \u001b[32m━━━━━━━━━━━━━━━━━━━━\u001b[0m\u001b[37m\u001b[0m \u001b[1m2s\u001b[0m 3ms/step - loss: 243.6212 - mae: 12.0658 - val_loss: 237.4736 - val_mae: 11.5996\n",
      "Epoch 28/200\n",
      "\u001b[1m628/628\u001b[0m \u001b[32m━━━━━━━━━━━━━━━━━━━━\u001b[0m\u001b[37m\u001b[0m \u001b[1m2s\u001b[0m 3ms/step - loss: 242.7164 - mae: 11.9620 - val_loss: 241.7389 - val_mae: 11.5655\n",
      "Epoch 29/200\n",
      "\u001b[1m628/628\u001b[0m \u001b[32m━━━━━━━━━━━━━━━━━━━━\u001b[0m\u001b[37m\u001b[0m \u001b[1m2s\u001b[0m 3ms/step - loss: 241.5505 - mae: 11.9193 - val_loss: 238.2431 - val_mae: 11.6432\n",
      "Epoch 30/200\n",
      "\u001b[1m628/628\u001b[0m \u001b[32m━━━━━━━━━━━━━━━━━━━━\u001b[0m\u001b[37m\u001b[0m \u001b[1m2s\u001b[0m 3ms/step - loss: 246.4709 - mae: 12.0104 - val_loss: 237.3761 - val_mae: 11.5858\n",
      "Epoch 31/200\n",
      "\u001b[1m628/628\u001b[0m \u001b[32m━━━━━━━━━━━━━━━━━━━━\u001b[0m\u001b[37m\u001b[0m \u001b[1m3s\u001b[0m 4ms/step - loss: 247.3279 - mae: 12.0626 - val_loss: 239.8252 - val_mae: 11.7296\n",
      "Epoch 32/200\n",
      "\u001b[1m628/628\u001b[0m \u001b[32m━━━━━━━━━━━━━━━━━━━━\u001b[0m\u001b[37m\u001b[0m \u001b[1m2s\u001b[0m 3ms/step - loss: 243.0988 - mae: 11.9669 - val_loss: 238.0457 - val_mae: 11.6251\n",
      "Epoch 33/200\n",
      "\u001b[1m628/628\u001b[0m \u001b[32m━━━━━━━━━━━━━━━━━━━━\u001b[0m\u001b[37m\u001b[0m \u001b[1m2s\u001b[0m 3ms/step - loss: 237.7324 - mae: 11.7904 - val_loss: 241.0630 - val_mae: 11.8030\n",
      "Epoch 34/200\n",
      "\u001b[1m628/628\u001b[0m \u001b[32m━━━━━━━━━━━━━━━━━━━━\u001b[0m\u001b[37m\u001b[0m \u001b[1m2s\u001b[0m 3ms/step - loss: 242.5386 - mae: 12.0914 - val_loss: 236.2068 - val_mae: 11.5575\n",
      "Epoch 35/200\n",
      "\u001b[1m628/628\u001b[0m \u001b[32m━━━━━━━━━━━━━━━━━━━━\u001b[0m\u001b[37m\u001b[0m \u001b[1m2s\u001b[0m 4ms/step - loss: 243.5069 - mae: 11.9715 - val_loss: 238.3795 - val_mae: 11.6193\n",
      "Epoch 36/200\n",
      "\u001b[1m628/628\u001b[0m \u001b[32m━━━━━━━━━━━━━━━━━━━━\u001b[0m\u001b[37m\u001b[0m \u001b[1m3s\u001b[0m 4ms/step - loss: 237.7112 - mae: 11.8977 - val_loss: 235.6655 - val_mae: 11.5567\n",
      "Epoch 37/200\n",
      "\u001b[1m628/628\u001b[0m \u001b[32m━━━━━━━━━━━━━━━━━━━━\u001b[0m\u001b[37m\u001b[0m \u001b[1m2s\u001b[0m 3ms/step - loss: 238.9808 - mae: 11.9178 - val_loss: 248.4487 - val_mae: 11.8475\n",
      "Epoch 38/200\n",
      "\u001b[1m628/628\u001b[0m \u001b[32m━━━━━━━━━━━━━━━━━━━━\u001b[0m\u001b[37m\u001b[0m \u001b[1m2s\u001b[0m 3ms/step - loss: 236.7015 - mae: 11.8246 - val_loss: 243.5959 - val_mae: 11.8267\n",
      "Epoch 39/200\n",
      "\u001b[1m628/628\u001b[0m \u001b[32m━━━━━━━━━━━━━━━━━━━━\u001b[0m\u001b[37m\u001b[0m \u001b[1m2s\u001b[0m 3ms/step - loss: 243.5828 - mae: 12.0071 - val_loss: 235.8684 - val_mae: 11.6787\n",
      "Epoch 40/200\n",
      "\u001b[1m628/628\u001b[0m \u001b[32m━━━━━━━━━━━━━━━━━━━━\u001b[0m\u001b[37m\u001b[0m \u001b[1m2s\u001b[0m 3ms/step - loss: 240.9087 - mae: 12.0152 - val_loss: 236.2875 - val_mae: 11.5750\n",
      "Epoch 41/200\n",
      "\u001b[1m628/628\u001b[0m \u001b[32m━━━━━━━━━━━━━━━━━━━━\u001b[0m\u001b[37m\u001b[0m \u001b[1m2s\u001b[0m 3ms/step - loss: 242.1766 - mae: 12.0088 - val_loss: 238.8945 - val_mae: 11.6514\n",
      "Epoch 42/200\n",
      "\u001b[1m628/628\u001b[0m \u001b[32m━━━━━━━━━━━━━━━━━━━━\u001b[0m\u001b[37m\u001b[0m \u001b[1m2s\u001b[0m 3ms/step - loss: 237.6684 - mae: 11.8647 - val_loss: 236.9785 - val_mae: 11.6060\n",
      "Epoch 43/200\n",
      "\u001b[1m628/628\u001b[0m \u001b[32m━━━━━━━━━━━━━━━━━━━━\u001b[0m\u001b[37m\u001b[0m \u001b[1m2s\u001b[0m 3ms/step - loss: 235.3712 - mae: 11.8476 - val_loss: 235.4501 - val_mae: 11.6332\n",
      "Epoch 44/200\n",
      "\u001b[1m628/628\u001b[0m \u001b[32m━━━━━━━━━━━━━━━━━━━━\u001b[0m\u001b[37m\u001b[0m \u001b[1m2s\u001b[0m 3ms/step - loss: 241.8443 - mae: 12.0139 - val_loss: 235.9533 - val_mae: 11.5843\n",
      "Epoch 45/200\n",
      "\u001b[1m628/628\u001b[0m \u001b[32m━━━━━━━━━━━━━━━━━━━━\u001b[0m\u001b[37m\u001b[0m \u001b[1m2s\u001b[0m 4ms/step - loss: 237.2409 - mae: 11.8172 - val_loss: 236.9670 - val_mae: 11.6627\n",
      "Epoch 46/200\n",
      "\u001b[1m628/628\u001b[0m \u001b[32m━━━━━━━━━━━━━━━━━━━━\u001b[0m\u001b[37m\u001b[0m \u001b[1m2s\u001b[0m 3ms/step - loss: 238.7527 - mae: 11.8752 - val_loss: 235.3170 - val_mae: 11.5796\n",
      "Epoch 47/200\n",
      "\u001b[1m628/628\u001b[0m \u001b[32m━━━━━━━━━━━━━━━━━━━━\u001b[0m\u001b[37m\u001b[0m \u001b[1m2s\u001b[0m 3ms/step - loss: 237.2047 - mae: 11.8903 - val_loss: 235.8719 - val_mae: 11.6159\n",
      "Epoch 48/200\n",
      "\u001b[1m628/628\u001b[0m \u001b[32m━━━━━━━━━━━━━━━━━━━━\u001b[0m\u001b[37m\u001b[0m \u001b[1m2s\u001b[0m 3ms/step - loss: 228.6560 - mae: 11.6328 - val_loss: 235.6129 - val_mae: 11.6393\n",
      "Epoch 49/200\n",
      "\u001b[1m628/628\u001b[0m \u001b[32m━━━━━━━━━━━━━━━━━━━━\u001b[0m\u001b[37m\u001b[0m \u001b[1m2s\u001b[0m 3ms/step - loss: 242.2517 - mae: 11.9569 - val_loss: 236.9246 - val_mae: 11.5839\n",
      "Epoch 50/200\n",
      "\u001b[1m628/628\u001b[0m \u001b[32m━━━━━━━━━━━━━━━━━━━━\u001b[0m\u001b[37m\u001b[0m \u001b[1m2s\u001b[0m 3ms/step - loss: 234.6234 - mae: 11.7627 - val_loss: 237.8735 - val_mae: 11.6513\n",
      "Epoch 51/200\n",
      "\u001b[1m628/628\u001b[0m \u001b[32m━━━━━━━━━━━━━━━━━━━━\u001b[0m\u001b[37m\u001b[0m \u001b[1m2s\u001b[0m 4ms/step - loss: 240.2051 - mae: 11.8826 - val_loss: 236.5890 - val_mae: 11.5831\n",
      "Epoch 52/200\n",
      "\u001b[1m628/628\u001b[0m \u001b[32m━━━━━━━━━━━━━━━━━━━━\u001b[0m\u001b[37m\u001b[0m \u001b[1m2s\u001b[0m 4ms/step - loss: 234.3906 - mae: 11.7529 - val_loss: 236.0279 - val_mae: 11.6672\n",
      "Epoch 53/200\n",
      "\u001b[1m628/628\u001b[0m \u001b[32m━━━━━━━━━━━━━━━━━━━━\u001b[0m\u001b[37m\u001b[0m \u001b[1m2s\u001b[0m 3ms/step - loss: 239.3975 - mae: 11.8994 - val_loss: 236.3996 - val_mae: 11.5619\n",
      "Epoch 54/200\n",
      "\u001b[1m628/628\u001b[0m \u001b[32m━━━━━━━━━━━━━━━━━━━━\u001b[0m\u001b[37m\u001b[0m \u001b[1m3s\u001b[0m 5ms/step - loss: 237.5788 - mae: 11.8268 - val_loss: 236.3025 - val_mae: 11.6363\n",
      "Epoch 55/200\n",
      "\u001b[1m628/628\u001b[0m \u001b[32m━━━━━━━━━━━━━━━━━━━━\u001b[0m\u001b[37m\u001b[0m \u001b[1m1s\u001b[0m 2ms/step - loss: 235.9205 - mae: 11.7893 - val_loss: 239.3758 - val_mae: 11.6746\n",
      "Epoch 56/200\n",
      "\u001b[1m628/628\u001b[0m \u001b[32m━━━━━━━━━━━━━━━━━━━━\u001b[0m\u001b[37m\u001b[0m \u001b[1m3s\u001b[0m 4ms/step - loss: 233.4146 - mae: 11.7253 - val_loss: 236.4522 - val_mae: 11.6985\n",
      "Epoch 57/200\n",
      "\u001b[1m628/628\u001b[0m \u001b[32m━━━━━━━━━━━━━━━━━━━━\u001b[0m\u001b[37m\u001b[0m \u001b[1m3s\u001b[0m 5ms/step - loss: 235.8585 - mae: 11.8271 - val_loss: 234.9481 - val_mae: 11.5386\n",
      "Epoch 58/200\n",
      "\u001b[1m628/628\u001b[0m \u001b[32m━━━━━━━━━━━━━━━━━━━━\u001b[0m\u001b[37m\u001b[0m \u001b[1m2s\u001b[0m 3ms/step - loss: 235.2570 - mae: 11.7483 - val_loss: 233.7463 - val_mae: 11.5459\n",
      "Epoch 59/200\n",
      "\u001b[1m628/628\u001b[0m \u001b[32m━━━━━━━━━━━━━━━━━━━━\u001b[0m\u001b[37m\u001b[0m \u001b[1m3s\u001b[0m 4ms/step - loss: 236.8438 - mae: 11.8355 - val_loss: 235.5831 - val_mae: 11.5366\n",
      "Epoch 60/200\n",
      "\u001b[1m628/628\u001b[0m \u001b[32m━━━━━━━━━━━━━━━━━━━━\u001b[0m\u001b[37m\u001b[0m \u001b[1m3s\u001b[0m 4ms/step - loss: 235.4857 - mae: 11.7877 - val_loss: 234.1513 - val_mae: 11.6259\n",
      "Epoch 61/200\n",
      "\u001b[1m628/628\u001b[0m \u001b[32m━━━━━━━━━━━━━━━━━━━━\u001b[0m\u001b[37m\u001b[0m \u001b[1m2s\u001b[0m 3ms/step - loss: 237.5971 - mae: 11.8840 - val_loss: 236.2427 - val_mae: 11.5267\n",
      "Epoch 62/200\n",
      "\u001b[1m628/628\u001b[0m \u001b[32m━━━━━━━━━━━━━━━━━━━━\u001b[0m\u001b[37m\u001b[0m \u001b[1m3s\u001b[0m 5ms/step - loss: 239.0057 - mae: 11.8281 - val_loss: 234.7687 - val_mae: 11.5865\n",
      "Epoch 63/200\n",
      "\u001b[1m628/628\u001b[0m \u001b[32m━━━━━━━━━━━━━━━━━━━━\u001b[0m\u001b[37m\u001b[0m \u001b[1m2s\u001b[0m 2ms/step - loss: 237.6959 - mae: 11.8619 - val_loss: 233.4595 - val_mae: 11.4924\n",
      "Epoch 64/200\n",
      "\u001b[1m628/628\u001b[0m \u001b[32m━━━━━━━━━━━━━━━━━━━━\u001b[0m\u001b[37m\u001b[0m \u001b[1m2s\u001b[0m 3ms/step - loss: 231.2126 - mae: 11.6644 - val_loss: 233.9574 - val_mae: 11.5655\n",
      "Epoch 65/200\n",
      "\u001b[1m628/628\u001b[0m \u001b[32m━━━━━━━━━━━━━━━━━━━━\u001b[0m\u001b[37m\u001b[0m \u001b[1m3s\u001b[0m 4ms/step - loss: 233.1168 - mae: 11.7151 - val_loss: 232.5786 - val_mae: 11.5466\n",
      "Epoch 66/200\n",
      "\u001b[1m628/628\u001b[0m \u001b[32m━━━━━━━━━━━━━━━━━━━━\u001b[0m\u001b[37m\u001b[0m \u001b[1m3s\u001b[0m 4ms/step - loss: 231.4091 - mae: 11.6934 - val_loss: 235.1197 - val_mae: 11.6239\n",
      "Epoch 67/200\n",
      "\u001b[1m628/628\u001b[0m \u001b[32m━━━━━━━━━━━━━━━━━━━━\u001b[0m\u001b[37m\u001b[0m \u001b[1m3s\u001b[0m 4ms/step - loss: 232.3162 - mae: 11.7281 - val_loss: 237.8912 - val_mae: 11.6407\n",
      "Epoch 68/200\n",
      "\u001b[1m628/628\u001b[0m \u001b[32m━━━━━━━━━━━━━━━━━━━━\u001b[0m\u001b[37m\u001b[0m \u001b[1m2s\u001b[0m 2ms/step - loss: 230.5134 - mae: 11.6951 - val_loss: 232.8220 - val_mae: 11.5583\n",
      "Epoch 69/200\n",
      "\u001b[1m628/628\u001b[0m \u001b[32m━━━━━━━━━━━━━━━━━━━━\u001b[0m\u001b[37m\u001b[0m \u001b[1m3s\u001b[0m 4ms/step - loss: 237.7539 - mae: 11.8242 - val_loss: 234.6052 - val_mae: 11.5823\n",
      "Epoch 70/200\n",
      "\u001b[1m628/628\u001b[0m \u001b[32m━━━━━━━━━━━━━━━━━━━━\u001b[0m\u001b[37m\u001b[0m \u001b[1m2s\u001b[0m 4ms/step - loss: 235.3791 - mae: 11.8046 - val_loss: 243.3366 - val_mae: 11.9436\n",
      "Epoch 71/200\n",
      "\u001b[1m628/628\u001b[0m \u001b[32m━━━━━━━━━━━━━━━━━━━━\u001b[0m\u001b[37m\u001b[0m \u001b[1m3s\u001b[0m 4ms/step - loss: 228.4266 - mae: 11.6763 - val_loss: 233.6063 - val_mae: 11.5508\n",
      "Epoch 72/200\n",
      "\u001b[1m628/628\u001b[0m \u001b[32m━━━━━━━━━━━━━━━━━━━━\u001b[0m\u001b[37m\u001b[0m \u001b[1m2s\u001b[0m 4ms/step - loss: 230.6652 - mae: 11.7562 - val_loss: 231.5405 - val_mae: 11.5732\n",
      "Epoch 73/200\n",
      "\u001b[1m628/628\u001b[0m \u001b[32m━━━━━━━━━━━━━━━━━━━━\u001b[0m\u001b[37m\u001b[0m \u001b[1m2s\u001b[0m 3ms/step - loss: 234.3704 - mae: 11.8066 - val_loss: 233.6884 - val_mae: 11.6556\n",
      "Epoch 74/200\n",
      "\u001b[1m628/628\u001b[0m \u001b[32m━━━━━━━━━━━━━━━━━━━━\u001b[0m\u001b[37m\u001b[0m \u001b[1m2s\u001b[0m 3ms/step - loss: 234.2055 - mae: 11.8211 - val_loss: 233.1812 - val_mae: 11.5996\n",
      "Epoch 75/200\n",
      "\u001b[1m628/628\u001b[0m \u001b[32m━━━━━━━━━━━━━━━━━━━━\u001b[0m\u001b[37m\u001b[0m \u001b[1m2s\u001b[0m 3ms/step - loss: 233.6665 - mae: 11.7618 - val_loss: 232.7200 - val_mae: 11.4694\n",
      "Epoch 76/200\n",
      "\u001b[1m628/628\u001b[0m \u001b[32m━━━━━━━━━━━━━━━━━━━━\u001b[0m\u001b[37m\u001b[0m \u001b[1m3s\u001b[0m 4ms/step - loss: 231.7867 - mae: 11.6995 - val_loss: 234.6099 - val_mae: 11.6873\n",
      "Epoch 77/200\n",
      "\u001b[1m628/628\u001b[0m \u001b[32m━━━━━━━━━━━━━━━━━━━━\u001b[0m\u001b[37m\u001b[0m \u001b[1m2s\u001b[0m 3ms/step - loss: 233.7882 - mae: 11.7158 - val_loss: 232.2925 - val_mae: 11.4926\n",
      "Epoch 78/200\n",
      "\u001b[1m628/628\u001b[0m \u001b[32m━━━━━━━━━━━━━━━━━━━━\u001b[0m\u001b[37m\u001b[0m \u001b[1m2s\u001b[0m 3ms/step - loss: 234.3334 - mae: 11.7491 - val_loss: 235.3151 - val_mae: 11.6680\n",
      "Epoch 79/200\n",
      "\u001b[1m628/628\u001b[0m \u001b[32m━━━━━━━━━━━━━━━━━━━━\u001b[0m\u001b[37m\u001b[0m \u001b[1m2s\u001b[0m 3ms/step - loss: 227.4904 - mae: 11.5868 - val_loss: 232.1398 - val_mae: 11.5817\n",
      "Epoch 80/200\n",
      "\u001b[1m628/628\u001b[0m \u001b[32m━━━━━━━━━━━━━━━━━━━━\u001b[0m\u001b[37m\u001b[0m \u001b[1m2s\u001b[0m 3ms/step - loss: 231.5553 - mae: 11.7333 - val_loss: 231.3493 - val_mae: 11.5348\n",
      "Epoch 81/200\n",
      "\u001b[1m628/628\u001b[0m \u001b[32m━━━━━━━━━━━━━━━━━━━━\u001b[0m\u001b[37m\u001b[0m \u001b[1m2s\u001b[0m 3ms/step - loss: 226.9626 - mae: 11.5788 - val_loss: 230.3419 - val_mae: 11.4842\n",
      "Epoch 82/200\n",
      "\u001b[1m628/628\u001b[0m \u001b[32m━━━━━━━━━━━━━━━━━━━━\u001b[0m\u001b[37m\u001b[0m \u001b[1m3s\u001b[0m 4ms/step - loss: 238.1828 - mae: 11.8541 - val_loss: 231.5005 - val_mae: 11.4905\n",
      "Epoch 83/200\n",
      "\u001b[1m628/628\u001b[0m \u001b[32m━━━━━━━━━━━━━━━━━━━━\u001b[0m\u001b[37m\u001b[0m \u001b[1m2s\u001b[0m 4ms/step - loss: 229.9199 - mae: 11.6668 - val_loss: 232.0576 - val_mae: 11.5411\n",
      "Epoch 84/200\n",
      "\u001b[1m628/628\u001b[0m \u001b[32m━━━━━━━━━━━━━━━━━━━━\u001b[0m\u001b[37m\u001b[0m \u001b[1m2s\u001b[0m 4ms/step - loss: 234.6115 - mae: 11.7537 - val_loss: 231.4119 - val_mae: 11.5248\n",
      "Epoch 85/200\n",
      "\u001b[1m628/628\u001b[0m \u001b[32m━━━━━━━━━━━━━━━━━━━━\u001b[0m\u001b[37m\u001b[0m \u001b[1m2s\u001b[0m 3ms/step - loss: 233.9512 - mae: 11.7727 - val_loss: 232.5217 - val_mae: 11.5531\n",
      "Epoch 86/200\n",
      "\u001b[1m628/628\u001b[0m \u001b[32m━━━━━━━━━━━━━━━━━━━━\u001b[0m\u001b[37m\u001b[0m \u001b[1m2s\u001b[0m 3ms/step - loss: 233.4994 - mae: 11.7389 - val_loss: 230.7259 - val_mae: 11.4922\n",
      "Epoch 87/200\n",
      "\u001b[1m628/628\u001b[0m \u001b[32m━━━━━━━━━━━━━━━━━━━━\u001b[0m\u001b[37m\u001b[0m \u001b[1m2s\u001b[0m 3ms/step - loss: 232.4483 - mae: 11.6790 - val_loss: 230.9757 - val_mae: 11.5532\n",
      "Epoch 88/200\n",
      "\u001b[1m628/628\u001b[0m \u001b[32m━━━━━━━━━━━━━━━━━━━━\u001b[0m\u001b[37m\u001b[0m \u001b[1m2s\u001b[0m 3ms/step - loss: 229.5373 - mae: 11.7116 - val_loss: 229.7514 - val_mae: 11.3900\n",
      "Epoch 89/200\n",
      "\u001b[1m628/628\u001b[0m \u001b[32m━━━━━━━━━━━━━━━━━━━━\u001b[0m\u001b[37m\u001b[0m \u001b[1m1s\u001b[0m 2ms/step - loss: 238.1265 - mae: 11.8597 - val_loss: 229.4024 - val_mae: 11.4639\n",
      "Epoch 90/200\n",
      "\u001b[1m628/628\u001b[0m \u001b[32m━━━━━━━━━━━━━━━━━━━━\u001b[0m\u001b[37m\u001b[0m \u001b[1m3s\u001b[0m 4ms/step - loss: 233.2751 - mae: 11.7268 - val_loss: 229.7344 - val_mae: 11.4507\n",
      "Epoch 91/200\n",
      "\u001b[1m628/628\u001b[0m \u001b[32m━━━━━━━━━━━━━━━━━━━━\u001b[0m\u001b[37m\u001b[0m \u001b[1m2s\u001b[0m 3ms/step - loss: 226.0736 - mae: 11.5752 - val_loss: 239.4863 - val_mae: 11.7928\n",
      "Epoch 92/200\n",
      "\u001b[1m628/628\u001b[0m \u001b[32m━━━━━━━━━━━━━━━━━━━━\u001b[0m\u001b[37m\u001b[0m \u001b[1m2s\u001b[0m 3ms/step - loss: 231.9601 - mae: 11.6983 - val_loss: 230.2521 - val_mae: 11.5046\n",
      "Epoch 93/200\n",
      "\u001b[1m628/628\u001b[0m \u001b[32m━━━━━━━━━━━━━━━━━━━━\u001b[0m\u001b[37m\u001b[0m \u001b[1m2s\u001b[0m 3ms/step - loss: 233.0681 - mae: 11.6987 - val_loss: 234.5796 - val_mae: 11.5785\n",
      "Epoch 94/200\n",
      "\u001b[1m628/628\u001b[0m \u001b[32m━━━━━━━━━━━━━━━━━━━━\u001b[0m\u001b[37m\u001b[0m \u001b[1m3s\u001b[0m 4ms/step - loss: 231.0630 - mae: 11.6422 - val_loss: 229.3650 - val_mae: 11.4199\n",
      "Epoch 95/200\n",
      "\u001b[1m628/628\u001b[0m \u001b[32m━━━━━━━━━━━━━━━━━━━━\u001b[0m\u001b[37m\u001b[0m \u001b[1m3s\u001b[0m 4ms/step - loss: 231.7829 - mae: 11.6468 - val_loss: 229.0332 - val_mae: 11.4355\n",
      "Epoch 96/200\n",
      "\u001b[1m628/628\u001b[0m \u001b[32m━━━━━━━━━━━━━━━━━━━━\u001b[0m\u001b[37m\u001b[0m \u001b[1m3s\u001b[0m 4ms/step - loss: 229.2110 - mae: 11.6492 - val_loss: 228.7305 - val_mae: 11.4671\n",
      "Epoch 97/200\n",
      "\u001b[1m628/628\u001b[0m \u001b[32m━━━━━━━━━━━━━━━━━━━━\u001b[0m\u001b[37m\u001b[0m \u001b[1m3s\u001b[0m 4ms/step - loss: 228.9924 - mae: 11.6697 - val_loss: 230.7478 - val_mae: 11.4422\n",
      "Epoch 98/200\n",
      "\u001b[1m628/628\u001b[0m \u001b[32m━━━━━━━━━━━━━━━━━━━━\u001b[0m\u001b[37m\u001b[0m \u001b[1m2s\u001b[0m 4ms/step - loss: 228.2408 - mae: 11.6215 - val_loss: 230.8912 - val_mae: 11.5247\n",
      "Epoch 99/200\n",
      "\u001b[1m628/628\u001b[0m \u001b[32m━━━━━━━━━━━━━━━━━━━━\u001b[0m\u001b[37m\u001b[0m \u001b[1m3s\u001b[0m 5ms/step - loss: 229.1133 - mae: 11.6467 - val_loss: 230.3648 - val_mae: 11.5248\n",
      "Epoch 100/200\n",
      "\u001b[1m628/628\u001b[0m \u001b[32m━━━━━━━━━━━━━━━━━━━━\u001b[0m\u001b[37m\u001b[0m \u001b[1m2s\u001b[0m 3ms/step - loss: 234.0339 - mae: 11.7720 - val_loss: 227.6347 - val_mae: 11.4218\n",
      "Epoch 101/200\n",
      "\u001b[1m628/628\u001b[0m \u001b[32m━━━━━━━━━━━━━━━━━━━━\u001b[0m\u001b[37m\u001b[0m \u001b[1m3s\u001b[0m 5ms/step - loss: 230.5811 - mae: 11.6946 - val_loss: 227.3992 - val_mae: 11.3796\n",
      "Epoch 102/200\n",
      "\u001b[1m628/628\u001b[0m \u001b[32m━━━━━━━━━━━━━━━━━━━━\u001b[0m\u001b[37m\u001b[0m \u001b[1m1s\u001b[0m 2ms/step - loss: 235.2876 - mae: 11.8127 - val_loss: 231.6182 - val_mae: 11.5502\n",
      "Epoch 103/200\n",
      "\u001b[1m628/628\u001b[0m \u001b[32m━━━━━━━━━━━━━━━━━━━━\u001b[0m\u001b[37m\u001b[0m \u001b[1m2s\u001b[0m 3ms/step - loss: 234.5894 - mae: 11.7434 - val_loss: 229.9134 - val_mae: 11.5325\n",
      "Epoch 104/200\n",
      "\u001b[1m628/628\u001b[0m \u001b[32m━━━━━━━━━━━━━━━━━━━━\u001b[0m\u001b[37m\u001b[0m \u001b[1m2s\u001b[0m 3ms/step - loss: 232.3832 - mae: 11.7288 - val_loss: 227.5552 - val_mae: 11.3724\n",
      "Epoch 105/200\n",
      "\u001b[1m628/628\u001b[0m \u001b[32m━━━━━━━━━━━━━━━━━━━━\u001b[0m\u001b[37m\u001b[0m \u001b[1m2s\u001b[0m 3ms/step - loss: 229.1500 - mae: 11.6141 - val_loss: 227.1892 - val_mae: 11.4469\n",
      "Epoch 106/200\n",
      "\u001b[1m628/628\u001b[0m \u001b[32m━━━━━━━━━━━━━━━━━━━━\u001b[0m\u001b[37m\u001b[0m \u001b[1m2s\u001b[0m 4ms/step - loss: 231.9300 - mae: 11.7104 - val_loss: 233.1891 - val_mae: 11.5298\n",
      "Epoch 107/200\n",
      "\u001b[1m628/628\u001b[0m \u001b[32m━━━━━━━━━━━━━━━━━━━━\u001b[0m\u001b[37m\u001b[0m \u001b[1m4s\u001b[0m 6ms/step - loss: 229.2231 - mae: 11.6382 - val_loss: 228.1871 - val_mae: 11.4602\n",
      "Epoch 108/200\n",
      "\u001b[1m628/628\u001b[0m \u001b[32m━━━━━━━━━━━━━━━━━━━━\u001b[0m\u001b[37m\u001b[0m \u001b[1m2s\u001b[0m 2ms/step - loss: 235.1894 - mae: 11.7933 - val_loss: 231.0583 - val_mae: 11.4920\n",
      "Epoch 109/200\n",
      "\u001b[1m628/628\u001b[0m \u001b[32m━━━━━━━━━━━━━━━━━━━━\u001b[0m\u001b[37m\u001b[0m \u001b[1m3s\u001b[0m 5ms/step - loss: 231.4745 - mae: 11.7477 - val_loss: 228.1927 - val_mae: 11.3735\n",
      "Epoch 110/200\n",
      "\u001b[1m628/628\u001b[0m \u001b[32m━━━━━━━━━━━━━━━━━━━━\u001b[0m\u001b[37m\u001b[0m \u001b[1m2s\u001b[0m 3ms/step - loss: 225.7174 - mae: 11.5335 - val_loss: 236.0324 - val_mae: 11.7033\n",
      "Epoch 111/200\n",
      "\u001b[1m628/628\u001b[0m \u001b[32m━━━━━━━━━━━━━━━━━━━━\u001b[0m\u001b[37m\u001b[0m \u001b[1m3s\u001b[0m 4ms/step - loss: 231.2572 - mae: 11.6960 - val_loss: 231.7662 - val_mae: 11.4961\n",
      "Epoch 112/200\n",
      "\u001b[1m628/628\u001b[0m \u001b[32m━━━━━━━━━━━━━━━━━━━━\u001b[0m\u001b[37m\u001b[0m \u001b[1m2s\u001b[0m 3ms/step - loss: 229.7421 - mae: 11.6850 - val_loss: 231.0827 - val_mae: 11.4819\n",
      "Epoch 113/200\n",
      "\u001b[1m628/628\u001b[0m \u001b[32m━━━━━━━━━━━━━━━━━━━━\u001b[0m\u001b[37m\u001b[0m \u001b[1m2s\u001b[0m 4ms/step - loss: 234.4464 - mae: 11.7718 - val_loss: 228.9251 - val_mae: 11.5352\n",
      "Epoch 114/200\n",
      "\u001b[1m628/628\u001b[0m \u001b[32m━━━━━━━━━━━━━━━━━━━━\u001b[0m\u001b[37m\u001b[0m \u001b[1m1s\u001b[0m 2ms/step - loss: 229.9311 - mae: 11.6058 - val_loss: 227.0597 - val_mae: 11.3906\n",
      "Epoch 115/200\n",
      "\u001b[1m628/628\u001b[0m \u001b[32m━━━━━━━━━━━━━━━━━━━━\u001b[0m\u001b[37m\u001b[0m \u001b[1m2s\u001b[0m 2ms/step - loss: 225.8943 - mae: 11.5978 - val_loss: 225.7972 - val_mae: 11.3099\n",
      "Epoch 116/200\n",
      "\u001b[1m628/628\u001b[0m \u001b[32m━━━━━━━━━━━━━━━━━━━━\u001b[0m\u001b[37m\u001b[0m \u001b[1m3s\u001b[0m 4ms/step - loss: 227.2746 - mae: 11.5655 - val_loss: 226.4588 - val_mae: 11.3141\n",
      "Epoch 117/200\n",
      "\u001b[1m628/628\u001b[0m \u001b[32m━━━━━━━━━━━━━━━━━━━━\u001b[0m\u001b[37m\u001b[0m \u001b[1m3s\u001b[0m 5ms/step - loss: 230.4637 - mae: 11.6801 - val_loss: 226.3981 - val_mae: 11.3637\n",
      "Epoch 118/200\n",
      "\u001b[1m628/628\u001b[0m \u001b[32m━━━━━━━━━━━━━━━━━━━━\u001b[0m\u001b[37m\u001b[0m \u001b[1m2s\u001b[0m 3ms/step - loss: 227.8957 - mae: 11.5870 - val_loss: 228.7218 - val_mae: 11.4651\n",
      "Epoch 119/200\n",
      "\u001b[1m628/628\u001b[0m \u001b[32m━━━━━━━━━━━━━━━━━━━━\u001b[0m\u001b[37m\u001b[0m \u001b[1m2s\u001b[0m 4ms/step - loss: 229.7942 - mae: 11.6641 - val_loss: 230.1790 - val_mae: 11.4887\n",
      "Epoch 120/200\n",
      "\u001b[1m628/628\u001b[0m \u001b[32m━━━━━━━━━━━━━━━━━━━━\u001b[0m\u001b[37m\u001b[0m \u001b[1m3s\u001b[0m 5ms/step - loss: 229.8743 - mae: 11.6693 - val_loss: 227.6052 - val_mae: 11.3775\n",
      "Epoch 121/200\n",
      "\u001b[1m628/628\u001b[0m \u001b[32m━━━━━━━━━━━━━━━━━━━━\u001b[0m\u001b[37m\u001b[0m \u001b[1m2s\u001b[0m 4ms/step - loss: 225.6335 - mae: 11.5306 - val_loss: 228.2174 - val_mae: 11.4280\n",
      "Epoch 122/200\n",
      "\u001b[1m628/628\u001b[0m \u001b[32m━━━━━━━━━━━━━━━━━━━━\u001b[0m\u001b[37m\u001b[0m \u001b[1m3s\u001b[0m 4ms/step - loss: 228.9721 - mae: 11.6249 - val_loss: 225.7365 - val_mae: 11.3521\n",
      "Epoch 123/200\n",
      "\u001b[1m628/628\u001b[0m \u001b[32m━━━━━━━━━━━━━━━━━━━━\u001b[0m\u001b[37m\u001b[0m \u001b[1m2s\u001b[0m 2ms/step - loss: 234.2683 - mae: 11.7815 - val_loss: 232.2474 - val_mae: 11.4124\n",
      "Epoch 124/200\n",
      "\u001b[1m628/628\u001b[0m \u001b[32m━━━━━━━━━━━━━━━━━━━━\u001b[0m\u001b[37m\u001b[0m \u001b[1m2s\u001b[0m 3ms/step - loss: 232.8859 - mae: 11.7125 - val_loss: 229.8631 - val_mae: 11.4353\n",
      "Epoch 125/200\n",
      "\u001b[1m628/628\u001b[0m \u001b[32m━━━━━━━━━━━━━━━━━━━━\u001b[0m\u001b[37m\u001b[0m \u001b[1m2s\u001b[0m 3ms/step - loss: 229.0210 - mae: 11.6322 - val_loss: 230.7020 - val_mae: 11.4941\n",
      "Epoch 126/200\n",
      "\u001b[1m628/628\u001b[0m \u001b[32m━━━━━━━━━━━━━━━━━━━━\u001b[0m\u001b[37m\u001b[0m \u001b[1m3s\u001b[0m 5ms/step - loss: 228.8544 - mae: 11.6380 - val_loss: 228.2067 - val_mae: 11.4106\n",
      "Epoch 127/200\n",
      "\u001b[1m628/628\u001b[0m \u001b[32m━━━━━━━━━━━━━━━━━━━━\u001b[0m\u001b[37m\u001b[0m \u001b[1m3s\u001b[0m 5ms/step - loss: 230.1973 - mae: 11.6499 - val_loss: 227.4560 - val_mae: 11.3693\n",
      "Epoch 128/200\n",
      "\u001b[1m628/628\u001b[0m \u001b[32m━━━━━━━━━━━━━━━━━━━━\u001b[0m\u001b[37m\u001b[0m \u001b[1m1s\u001b[0m 2ms/step - loss: 228.3706 - mae: 11.6293 - val_loss: 228.1276 - val_mae: 11.4710\n",
      "Epoch 129/200\n",
      "\u001b[1m628/628\u001b[0m \u001b[32m━━━━━━━━━━━━━━━━━━━━\u001b[0m\u001b[37m\u001b[0m \u001b[1m2s\u001b[0m 3ms/step - loss: 234.9848 - mae: 11.7278 - val_loss: 228.4079 - val_mae: 11.4091\n",
      "Epoch 130/200\n",
      "\u001b[1m628/628\u001b[0m \u001b[32m━━━━━━━━━━━━━━━━━━━━\u001b[0m\u001b[37m\u001b[0m \u001b[1m2s\u001b[0m 3ms/step - loss: 228.8669 - mae: 11.5845 - val_loss: 227.9549 - val_mae: 11.4637\n",
      "Epoch 131/200\n",
      "\u001b[1m628/628\u001b[0m \u001b[32m━━━━━━━━━━━━━━━━━━━━\u001b[0m\u001b[37m\u001b[0m \u001b[1m2s\u001b[0m 3ms/step - loss: 229.5887 - mae: 11.6472 - val_loss: 226.7107 - val_mae: 11.3821\n",
      "Epoch 132/200\n",
      "\u001b[1m628/628\u001b[0m \u001b[32m━━━━━━━━━━━━━━━━━━━━\u001b[0m\u001b[37m\u001b[0m \u001b[1m2s\u001b[0m 3ms/step - loss: 227.5334 - mae: 11.5442 - val_loss: 226.8630 - val_mae: 11.3623\n",
      "Epoch 133/200\n",
      "\u001b[1m628/628\u001b[0m \u001b[32m━━━━━━━━━━━━━━━━━━━━\u001b[0m\u001b[37m\u001b[0m \u001b[1m3s\u001b[0m 4ms/step - loss: 229.0666 - mae: 11.5647 - val_loss: 225.6233 - val_mae: 11.3414\n",
      "Epoch 134/200\n",
      "\u001b[1m628/628\u001b[0m \u001b[32m━━━━━━━━━━━━━━━━━━━━\u001b[0m\u001b[37m\u001b[0m \u001b[1m2s\u001b[0m 4ms/step - loss: 227.8849 - mae: 11.5880 - val_loss: 227.0851 - val_mae: 11.4435\n",
      "Epoch 135/200\n",
      "\u001b[1m628/628\u001b[0m \u001b[32m━━━━━━━━━━━━━━━━━━━━\u001b[0m\u001b[37m\u001b[0m \u001b[1m3s\u001b[0m 4ms/step - loss: 234.4356 - mae: 11.7250 - val_loss: 226.2714 - val_mae: 11.4163\n",
      "Epoch 136/200\n",
      "\u001b[1m628/628\u001b[0m \u001b[32m━━━━━━━━━━━━━━━━━━━━\u001b[0m\u001b[37m\u001b[0m \u001b[1m3s\u001b[0m 4ms/step - loss: 229.3157 - mae: 11.6813 - val_loss: 227.1673 - val_mae: 11.4715\n",
      "Epoch 137/200\n",
      "\u001b[1m628/628\u001b[0m \u001b[32m━━━━━━━━━━━━━━━━━━━━\u001b[0m\u001b[37m\u001b[0m \u001b[1m2s\u001b[0m 4ms/step - loss: 225.4601 - mae: 11.4890 - val_loss: 228.0279 - val_mae: 11.3027\n",
      "Epoch 138/200\n",
      "\u001b[1m628/628\u001b[0m \u001b[32m━━━━━━━━━━━━━━━━━━━━\u001b[0m\u001b[37m\u001b[0m \u001b[1m3s\u001b[0m 4ms/step - loss: 226.0229 - mae: 11.5635 - val_loss: 228.0155 - val_mae: 11.3324\n",
      "Epoch 139/200\n",
      "\u001b[1m628/628\u001b[0m \u001b[32m━━━━━━━━━━━━━━━━━━━━\u001b[0m\u001b[37m\u001b[0m \u001b[1m3s\u001b[0m 5ms/step - loss: 224.0653 - mae: 11.4951 - val_loss: 228.4711 - val_mae: 11.4534\n",
      "Epoch 140/200\n",
      "\u001b[1m628/628\u001b[0m \u001b[32m━━━━━━━━━━━━━━━━━━━━\u001b[0m\u001b[37m\u001b[0m \u001b[1m2s\u001b[0m 3ms/step - loss: 229.2312 - mae: 11.6795 - val_loss: 225.8975 - val_mae: 11.3604\n",
      "Epoch 141/200\n",
      "\u001b[1m628/628\u001b[0m \u001b[32m━━━━━━━━━━━━━━━━━━━━\u001b[0m\u001b[37m\u001b[0m \u001b[1m2s\u001b[0m 4ms/step - loss: 227.9259 - mae: 11.5592 - val_loss: 225.9028 - val_mae: 11.4053\n",
      "Epoch 142/200\n",
      "\u001b[1m628/628\u001b[0m \u001b[32m━━━━━━━━━━━━━━━━━━━━\u001b[0m\u001b[37m\u001b[0m \u001b[1m3s\u001b[0m 5ms/step - loss: 229.7236 - mae: 11.6406 - val_loss: 226.0145 - val_mae: 11.3923\n",
      "Epoch 143/200\n",
      "\u001b[1m628/628\u001b[0m \u001b[32m━━━━━━━━━━━━━━━━━━━━\u001b[0m\u001b[37m\u001b[0m \u001b[1m2s\u001b[0m 3ms/step - loss: 224.3430 - mae: 11.4710 - val_loss: 228.9350 - val_mae: 11.5372\n",
      "Epoch 144/200\n",
      "\u001b[1m628/628\u001b[0m \u001b[32m━━━━━━━━━━━━━━━━━━━━\u001b[0m\u001b[37m\u001b[0m \u001b[1m2s\u001b[0m 3ms/step - loss: 232.5042 - mae: 11.7170 - val_loss: 226.4455 - val_mae: 11.3957\n",
      "Epoch 145/200\n",
      "\u001b[1m628/628\u001b[0m \u001b[32m━━━━━━━━━━━━━━━━━━━━\u001b[0m\u001b[37m\u001b[0m \u001b[1m3s\u001b[0m 4ms/step - loss: 229.5436 - mae: 11.6325 - val_loss: 226.1517 - val_mae: 11.4165\n",
      "Epoch 146/200\n",
      "\u001b[1m628/628\u001b[0m \u001b[32m━━━━━━━━━━━━━━━━━━━━\u001b[0m\u001b[37m\u001b[0m \u001b[1m2s\u001b[0m 3ms/step - loss: 233.4130 - mae: 11.7097 - val_loss: 224.7995 - val_mae: 11.3309\n",
      "Epoch 147/200\n",
      "\u001b[1m628/628\u001b[0m \u001b[32m━━━━━━━━━━━━━━━━━━━━\u001b[0m\u001b[37m\u001b[0m \u001b[1m2s\u001b[0m 3ms/step - loss: 228.8226 - mae: 11.5588 - val_loss: 225.4573 - val_mae: 11.3874\n",
      "Epoch 148/200\n",
      "\u001b[1m628/628\u001b[0m \u001b[32m━━━━━━━━━━━━━━━━━━━━\u001b[0m\u001b[37m\u001b[0m \u001b[1m2s\u001b[0m 3ms/step - loss: 235.2701 - mae: 11.7641 - val_loss: 226.7855 - val_mae: 11.2670\n",
      "Epoch 149/200\n",
      "\u001b[1m628/628\u001b[0m \u001b[32m━━━━━━━━━━━━━━━━━━━━\u001b[0m\u001b[37m\u001b[0m \u001b[1m3s\u001b[0m 4ms/step - loss: 231.0541 - mae: 11.6666 - val_loss: 229.4592 - val_mae: 11.4907\n",
      "Epoch 150/200\n",
      "\u001b[1m628/628\u001b[0m \u001b[32m━━━━━━━━━━━━━━━━━━━━\u001b[0m\u001b[37m\u001b[0m \u001b[1m2s\u001b[0m 3ms/step - loss: 219.3028 - mae: 11.3164 - val_loss: 225.4140 - val_mae: 11.3566\n",
      "Epoch 151/200\n",
      "\u001b[1m628/628\u001b[0m \u001b[32m━━━━━━━━━━━━━━━━━━━━\u001b[0m\u001b[37m\u001b[0m \u001b[1m2s\u001b[0m 4ms/step - loss: 227.8951 - mae: 11.6476 - val_loss: 229.2644 - val_mae: 11.4153\n",
      "Epoch 152/200\n",
      "\u001b[1m628/628\u001b[0m \u001b[32m━━━━━━━━━━━━━━━━━━━━\u001b[0m\u001b[37m\u001b[0m \u001b[1m1s\u001b[0m 2ms/step - loss: 228.4387 - mae: 11.5497 - val_loss: 226.1245 - val_mae: 11.3643\n",
      "Epoch 153/200\n",
      "\u001b[1m628/628\u001b[0m \u001b[32m━━━━━━━━━━━━━━━━━━━━\u001b[0m\u001b[37m\u001b[0m \u001b[1m2s\u001b[0m 3ms/step - loss: 230.0965 - mae: 11.6099 - val_loss: 228.1150 - val_mae: 11.4668\n",
      "Epoch 154/200\n",
      "\u001b[1m628/628\u001b[0m \u001b[32m━━━━━━━━━━━━━━━━━━━━\u001b[0m\u001b[37m\u001b[0m \u001b[1m3s\u001b[0m 5ms/step - loss: 231.6096 - mae: 11.6446 - val_loss: 226.8310 - val_mae: 11.3468\n",
      "Epoch 155/200\n",
      "\u001b[1m628/628\u001b[0m \u001b[32m━━━━━━━━━━━━━━━━━━━━\u001b[0m\u001b[37m\u001b[0m \u001b[1m2s\u001b[0m 3ms/step - loss: 227.8000 - mae: 11.5955 - val_loss: 225.8632 - val_mae: 11.4291\n",
      "Epoch 156/200\n",
      "\u001b[1m628/628\u001b[0m \u001b[32m━━━━━━━━━━━━━━━━━━━━\u001b[0m\u001b[37m\u001b[0m \u001b[1m3s\u001b[0m 4ms/step - loss: 225.8076 - mae: 11.5608 - val_loss: 227.5708 - val_mae: 11.4272\n",
      "Epoch 157/200\n",
      "\u001b[1m628/628\u001b[0m \u001b[32m━━━━━━━━━━━━━━━━━━━━\u001b[0m\u001b[37m\u001b[0m \u001b[1m3s\u001b[0m 4ms/step - loss: 225.2443 - mae: 11.4922 - val_loss: 228.9800 - val_mae: 11.5851\n",
      "Epoch 158/200\n",
      "\u001b[1m628/628\u001b[0m \u001b[32m━━━━━━━━━━━━━━━━━━━━\u001b[0m\u001b[37m\u001b[0m \u001b[1m2s\u001b[0m 3ms/step - loss: 223.0148 - mae: 11.4604 - val_loss: 225.1879 - val_mae: 11.4399\n",
      "Epoch 159/200\n",
      "\u001b[1m628/628\u001b[0m \u001b[32m━━━━━━━━━━━━━━━━━━━━\u001b[0m\u001b[37m\u001b[0m \u001b[1m2s\u001b[0m 2ms/step - loss: 235.3955 - mae: 11.7790 - val_loss: 224.3197 - val_mae: 11.3160\n",
      "Epoch 160/200\n",
      "\u001b[1m628/628\u001b[0m \u001b[32m━━━━━━━━━━━━━━━━━━━━\u001b[0m\u001b[37m\u001b[0m \u001b[1m2s\u001b[0m 3ms/step - loss: 226.5376 - mae: 11.4289 - val_loss: 225.3746 - val_mae: 11.3325\n",
      "Epoch 161/200\n",
      "\u001b[1m628/628\u001b[0m \u001b[32m━━━━━━━━━━━━━━━━━━━━\u001b[0m\u001b[37m\u001b[0m \u001b[1m2s\u001b[0m 3ms/step - loss: 228.2027 - mae: 11.5703 - val_loss: 226.7237 - val_mae: 11.4622\n",
      "Epoch 162/200\n",
      "\u001b[1m628/628\u001b[0m \u001b[32m━━━━━━━━━━━━━━━━━━━━\u001b[0m\u001b[37m\u001b[0m \u001b[1m2s\u001b[0m 3ms/step - loss: 229.1096 - mae: 11.6090 - val_loss: 225.4230 - val_mae: 11.4233\n",
      "Epoch 163/200\n",
      "\u001b[1m628/628\u001b[0m \u001b[32m━━━━━━━━━━━━━━━━━━━━\u001b[0m\u001b[37m\u001b[0m \u001b[1m2s\u001b[0m 4ms/step - loss: 233.9604 - mae: 11.7264 - val_loss: 228.6274 - val_mae: 11.4577\n",
      "Epoch 164/200\n",
      "\u001b[1m628/628\u001b[0m \u001b[32m━━━━━━━━━━━━━━━━━━━━\u001b[0m\u001b[37m\u001b[0m \u001b[1m2s\u001b[0m 3ms/step - loss: 226.2384 - mae: 11.5586 - val_loss: 224.8096 - val_mae: 11.4098\n",
      "Epoch 165/200\n",
      "\u001b[1m628/628\u001b[0m \u001b[32m━━━━━━━━━━━━━━━━━━━━\u001b[0m\u001b[37m\u001b[0m \u001b[1m2s\u001b[0m 3ms/step - loss: 232.6981 - mae: 11.6574 - val_loss: 225.8747 - val_mae: 11.3677\n",
      "Epoch 166/200\n",
      "\u001b[1m628/628\u001b[0m \u001b[32m━━━━━━━━━━━━━━━━━━━━\u001b[0m\u001b[37m\u001b[0m \u001b[1m2s\u001b[0m 3ms/step - loss: 226.9106 - mae: 11.5777 - val_loss: 226.0317 - val_mae: 11.3652\n",
      "Epoch 167/200\n",
      "\u001b[1m628/628\u001b[0m \u001b[32m━━━━━━━━━━━━━━━━━━━━\u001b[0m\u001b[37m\u001b[0m \u001b[1m3s\u001b[0m 4ms/step - loss: 233.7821 - mae: 11.6917 - val_loss: 229.3757 - val_mae: 11.4471\n",
      "Epoch 168/200\n",
      "\u001b[1m628/628\u001b[0m \u001b[32m━━━━━━━━━━━━━━━━━━━━\u001b[0m\u001b[37m\u001b[0m \u001b[1m2s\u001b[0m 4ms/step - loss: 227.8978 - mae: 11.5995 - val_loss: 229.2608 - val_mae: 11.6352\n",
      "Epoch 169/200\n",
      "\u001b[1m628/628\u001b[0m \u001b[32m━━━━━━━━━━━━━━━━━━━━\u001b[0m\u001b[37m\u001b[0m \u001b[1m3s\u001b[0m 4ms/step - loss: 231.5645 - mae: 11.6848 - val_loss: 226.2841 - val_mae: 11.2979\n",
      "Epoch 170/200\n",
      "\u001b[1m628/628\u001b[0m \u001b[32m━━━━━━━━━━━━━━━━━━━━\u001b[0m\u001b[37m\u001b[0m \u001b[1m3s\u001b[0m 4ms/step - loss: 226.0677 - mae: 11.5100 - val_loss: 226.8999 - val_mae: 11.3970\n",
      "Epoch 171/200\n",
      "\u001b[1m628/628\u001b[0m \u001b[32m━━━━━━━━━━━━━━━━━━━━\u001b[0m\u001b[37m\u001b[0m \u001b[1m3s\u001b[0m 5ms/step - loss: 226.7871 - mae: 11.5244 - val_loss: 227.2594 - val_mae: 11.3419\n",
      "Epoch 172/200\n",
      "\u001b[1m628/628\u001b[0m \u001b[32m━━━━━━━━━━━━━━━━━━━━\u001b[0m\u001b[37m\u001b[0m \u001b[1m2s\u001b[0m 3ms/step - loss: 225.2374 - mae: 11.5096 - val_loss: 229.2704 - val_mae: 11.4955\n",
      "Epoch 173/200\n",
      "\u001b[1m628/628\u001b[0m \u001b[32m━━━━━━━━━━━━━━━━━━━━\u001b[0m\u001b[37m\u001b[0m \u001b[1m2s\u001b[0m 2ms/step - loss: 224.5537 - mae: 11.4658 - val_loss: 226.1299 - val_mae: 11.4024\n",
      "Epoch 174/200\n",
      "\u001b[1m628/628\u001b[0m \u001b[32m━━━━━━━━━━━━━━━━━━━━\u001b[0m\u001b[37m\u001b[0m \u001b[1m2s\u001b[0m 3ms/step - loss: 225.5478 - mae: 11.5621 - val_loss: 226.7294 - val_mae: 11.4304\n",
      "Epoch 175/200\n",
      "\u001b[1m628/628\u001b[0m \u001b[32m━━━━━━━━━━━━━━━━━━━━\u001b[0m\u001b[37m\u001b[0m \u001b[1m2s\u001b[0m 4ms/step - loss: 223.9734 - mae: 11.4555 - val_loss: 225.5684 - val_mae: 11.3089\n",
      "Epoch 176/200\n",
      "\u001b[1m628/628\u001b[0m \u001b[32m━━━━━━━━━━━━━━━━━━━━\u001b[0m\u001b[37m\u001b[0m \u001b[1m3s\u001b[0m 4ms/step - loss: 224.7545 - mae: 11.4500 - val_loss: 229.1216 - val_mae: 11.4719\n",
      "Epoch 177/200\n",
      "\u001b[1m628/628\u001b[0m \u001b[32m━━━━━━━━━━━━━━━━━━━━\u001b[0m\u001b[37m\u001b[0m \u001b[1m3s\u001b[0m 4ms/step - loss: 231.2842 - mae: 11.6770 - val_loss: 226.7494 - val_mae: 11.4678\n",
      "Epoch 178/200\n",
      "\u001b[1m628/628\u001b[0m \u001b[32m━━━━━━━━━━━━━━━━━━━━\u001b[0m\u001b[37m\u001b[0m \u001b[1m2s\u001b[0m 3ms/step - loss: 230.8234 - mae: 11.6282 - val_loss: 225.8685 - val_mae: 11.2845\n",
      "Epoch 179/200\n",
      "\u001b[1m628/628\u001b[0m \u001b[32m━━━━━━━━━━━━━━━━━━━━\u001b[0m\u001b[37m\u001b[0m \u001b[1m3s\u001b[0m 4ms/step - loss: 231.1429 - mae: 11.6249 - val_loss: 224.8288 - val_mae: 11.3705\n",
      "Epoch 180/200\n",
      "\u001b[1m628/628\u001b[0m \u001b[32m━━━━━━━━━━━━━━━━━━━━\u001b[0m\u001b[37m\u001b[0m \u001b[1m2s\u001b[0m 3ms/step - loss: 225.3433 - mae: 11.5072 - val_loss: 226.5388 - val_mae: 11.4341\n",
      "Epoch 181/200\n",
      "\u001b[1m628/628\u001b[0m \u001b[32m━━━━━━━━━━━━━━━━━━━━\u001b[0m\u001b[37m\u001b[0m \u001b[1m2s\u001b[0m 3ms/step - loss: 224.7636 - mae: 11.4941 - val_loss: 224.3958 - val_mae: 11.3096\n",
      "Epoch 182/200\n",
      "\u001b[1m628/628\u001b[0m \u001b[32m━━━━━━━━━━━━━━━━━━━━\u001b[0m\u001b[37m\u001b[0m \u001b[1m3s\u001b[0m 4ms/step - loss: 221.9643 - mae: 11.4241 - val_loss: 230.3172 - val_mae: 11.6041\n",
      "Epoch 183/200\n",
      "\u001b[1m628/628\u001b[0m \u001b[32m━━━━━━━━━━━━━━━━━━━━\u001b[0m\u001b[37m\u001b[0m \u001b[1m2s\u001b[0m 3ms/step - loss: 224.2175 - mae: 11.4922 - val_loss: 225.6166 - val_mae: 11.4395\n",
      "Epoch 184/200\n",
      "\u001b[1m628/628\u001b[0m \u001b[32m━━━━━━━━━━━━━━━━━━━━\u001b[0m\u001b[37m\u001b[0m \u001b[1m2s\u001b[0m 4ms/step - loss: 227.7524 - mae: 11.5527 - val_loss: 227.5921 - val_mae: 11.4988\n",
      "Epoch 185/200\n",
      "\u001b[1m628/628\u001b[0m \u001b[32m━━━━━━━━━━━━━━━━━━━━\u001b[0m\u001b[37m\u001b[0m \u001b[1m3s\u001b[0m 4ms/step - loss: 227.4265 - mae: 11.5794 - val_loss: 225.8573 - val_mae: 11.3471\n",
      "Epoch 186/200\n",
      "\u001b[1m628/628\u001b[0m \u001b[32m━━━━━━━━━━━━━━━━━━━━\u001b[0m\u001b[37m\u001b[0m \u001b[1m2s\u001b[0m 3ms/step - loss: 229.5454 - mae: 11.5829 - val_loss: 225.3559 - val_mae: 11.3500\n",
      "Epoch 187/200\n",
      "\u001b[1m628/628\u001b[0m \u001b[32m━━━━━━━━━━━━━━━━━━━━\u001b[0m\u001b[37m\u001b[0m \u001b[1m2s\u001b[0m 3ms/step - loss: 230.7346 - mae: 11.6126 - val_loss: 224.0286 - val_mae: 11.3113\n",
      "Epoch 188/200\n",
      "\u001b[1m628/628\u001b[0m \u001b[32m━━━━━━━━━━━━━━━━━━━━\u001b[0m\u001b[37m\u001b[0m \u001b[1m2s\u001b[0m 4ms/step - loss: 224.0632 - mae: 11.5260 - val_loss: 228.0199 - val_mae: 11.3922\n",
      "Epoch 189/200\n",
      "\u001b[1m628/628\u001b[0m \u001b[32m━━━━━━━━━━━━━━━━━━━━\u001b[0m\u001b[37m\u001b[0m \u001b[1m2s\u001b[0m 3ms/step - loss: 223.0954 - mae: 11.4588 - val_loss: 233.9322 - val_mae: 11.6143\n",
      "Epoch 190/200\n",
      "\u001b[1m628/628\u001b[0m \u001b[32m━━━━━━━━━━━━━━━━━━━━\u001b[0m\u001b[37m\u001b[0m \u001b[1m2s\u001b[0m 3ms/step - loss: 220.2855 - mae: 11.3914 - val_loss: 225.6805 - val_mae: 11.3576\n",
      "Epoch 191/200\n",
      "\u001b[1m628/628\u001b[0m \u001b[32m━━━━━━━━━━━━━━━━━━━━\u001b[0m\u001b[37m\u001b[0m \u001b[1m3s\u001b[0m 4ms/step - loss: 227.6905 - mae: 11.5721 - val_loss: 224.5889 - val_mae: 11.3556\n",
      "Epoch 192/200\n",
      "\u001b[1m628/628\u001b[0m \u001b[32m━━━━━━━━━━━━━━━━━━━━\u001b[0m\u001b[37m\u001b[0m \u001b[1m2s\u001b[0m 4ms/step - loss: 223.2807 - mae: 11.4491 - val_loss: 225.0594 - val_mae: 11.3762\n",
      "Epoch 193/200\n",
      "\u001b[1m628/628\u001b[0m \u001b[32m━━━━━━━━━━━━━━━━━━━━\u001b[0m\u001b[37m\u001b[0m \u001b[1m2s\u001b[0m 3ms/step - loss: 232.9675 - mae: 11.6693 - val_loss: 228.9310 - val_mae: 11.5463\n",
      "Epoch 194/200\n",
      "\u001b[1m628/628\u001b[0m \u001b[32m━━━━━━━━━━━━━━━━━━━━\u001b[0m\u001b[37m\u001b[0m \u001b[1m2s\u001b[0m 3ms/step - loss: 226.1612 - mae: 11.5858 - val_loss: 226.1543 - val_mae: 11.4296\n",
      "Epoch 195/200\n",
      "\u001b[1m628/628\u001b[0m \u001b[32m━━━━━━━━━━━━━━━━━━━━\u001b[0m\u001b[37m\u001b[0m \u001b[1m2s\u001b[0m 3ms/step - loss: 230.9624 - mae: 11.6476 - val_loss: 224.4734 - val_mae: 11.3866\n",
      "Epoch 196/200\n",
      "\u001b[1m628/628\u001b[0m \u001b[32m━━━━━━━━━━━━━━━━━━━━\u001b[0m\u001b[37m\u001b[0m \u001b[1m2s\u001b[0m 4ms/step - loss: 223.3676 - mae: 11.4440 - val_loss: 225.2833 - val_mae: 11.2857\n",
      "Epoch 197/200\n",
      "\u001b[1m628/628\u001b[0m \u001b[32m━━━━━━━━━━━━━━━━━━━━\u001b[0m\u001b[37m\u001b[0m \u001b[1m2s\u001b[0m 3ms/step - loss: 225.0985 - mae: 11.5361 - val_loss: 225.0189 - val_mae: 11.3510\n",
      "Epoch 198/200\n",
      "\u001b[1m628/628\u001b[0m \u001b[32m━━━━━━━━━━━━━━━━━━━━\u001b[0m\u001b[37m\u001b[0m \u001b[1m3s\u001b[0m 4ms/step - loss: 224.6435 - mae: 11.5312 - val_loss: 225.4926 - val_mae: 11.4168\n",
      "Epoch 199/200\n",
      "\u001b[1m628/628\u001b[0m \u001b[32m━━━━━━━━━━━━━━━━━━━━\u001b[0m\u001b[37m\u001b[0m \u001b[1m2s\u001b[0m 3ms/step - loss: 227.7296 - mae: 11.5686 - val_loss: 223.4765 - val_mae: 11.2335\n",
      "Epoch 200/200\n",
      "\u001b[1m628/628\u001b[0m \u001b[32m━━━━━━━━━━━━━━━━━━━━\u001b[0m\u001b[37m\u001b[0m \u001b[1m2s\u001b[0m 3ms/step - loss: 227.8013 - mae: 11.6064 - val_loss: 225.3796 - val_mae: 11.2981\n",
      "\u001b[1m196/196\u001b[0m \u001b[32m━━━━━━━━━━━━━━━━━━━━\u001b[0m\u001b[37m\u001b[0m \u001b[1m0s\u001b[0m 2ms/step - loss: 212.7870 - mae: 11.1316\n",
      "Test Loss: 217.83615112304688, Test MAE: 11.162039756774902\n"
     ]
    }
   ],
   "source": [
    "\n",
    "model = Sequential()\n",
    "model.add(Dense(16, activation='relu', input_shape=(19,)))\n",
    "model.add(BatchNormalization())\n",
    "model.add(Dense(8, activation='relu'))\n",
    "model.add(Dense(1, activation='linear'))\n",
    "\n",
    "\n",
    "model.compile(optimizer=Adam(learning_rate=0.001), loss='mean_squared_error', metrics=['mae'])\n",
    "\n",
    "\n",
    "model.summary()\n",
    "\n",
    "history = model.fit(\n",
    "    X_train, \n",
    "    y_train, \n",
    "    validation_split=0.2,\n",
    "    epochs=200,\n",
    "    batch_size=32,\n",
    "    verbose=1,\n",
    ")\n",
    "\n",
    "loss, mae = model.evaluate(X_test, y_test)\n",
    "print(f\"Test Loss: {loss}, Test MAE: {mae}\")\n"
   ]
  },
  {
   "cell_type": "code",
   "execution_count": 47,
   "metadata": {},
   "outputs": [
    {
     "name": "stdout",
     "output_type": "stream",
     "text": [
      "\u001b[1m196/196\u001b[0m \u001b[32m━━━━━━━━━━━━━━━━━━━━\u001b[0m\u001b[37m\u001b[0m \u001b[1m0s\u001b[0m 1ms/step\n",
      "Tolerance Accuracy (±3): 19.04%\n",
      "Tolerance Accuracy (±5): 30.96%\n"
     ]
    }
   ],
   "source": [
    "y_pred = model.predict(X_test).flatten()\n",
    "tolerance_3_accuracy = ((np.abs(y_pred - y_test) <= 3).sum() / len(y_test)) * 100\n",
    "tolerance_5_accuracy = ((np.abs(y_pred - y_test) <= 5).sum() / len(y_test)) * 100\n",
    "\n",
    "print(f\"Tolerance Accuracy (±3): {tolerance_3_accuracy:.2f}%\")\n",
    "print(f\"Tolerance Accuracy (±5): {tolerance_5_accuracy:.2f}%\")"
   ]
  },
  {
   "cell_type": "markdown",
   "metadata": {},
   "source": [
    "SEMANTIC MODEL ( we take movie info(to understand context/ story line), which may also have influence on the movie result)"
   ]
  },
  {
   "cell_type": "code",
   "execution_count": 65,
   "metadata": {},
   "outputs": [],
   "source": [
    "import pandas as pd\n",
    "df = pd.read_csv('Rotten_Tomatoes_Movies3.csv')"
   ]
  },
  {
   "cell_type": "code",
   "execution_count": 156,
   "metadata": {},
   "outputs": [
    {
     "data": {
      "text/plain": [
       "Index(['movie_title', 'movie_info', 'critics_consensus', 'rating', 'genre',\n",
       "       'directors', 'writers', 'cast', 'in_theaters_date', 'on_streaming_date',\n",
       "       'runtime_in_minutes', 'studio_name', 'tomatometer_status',\n",
       "       'tomatometer_rating', 'tomatometer_count', 'audience_rating'],\n",
       "      dtype='object')"
      ]
     },
     "execution_count": 156,
     "metadata": {},
     "output_type": "execute_result"
    }
   ],
   "source": [
    "df.columns"
   ]
  },
  {
   "cell_type": "code",
   "execution_count": 1,
   "metadata": {},
   "outputs": [
    {
     "name": "stdout",
     "output_type": "stream",
     "text": [
      "Requirement already satisfied: tensorflow==2.18.0 in c:\\users\\lashicr7\\appdata\\local\\programs\\python\\python311\\lib\\site-packages (2.18.0)\n",
      "Requirement already satisfied: tf-keras in c:\\users\\lashicr7\\appdata\\local\\programs\\python\\python311\\lib\\site-packages (2.18.0)\n",
      "Requirement already satisfied: transformers in c:\\users\\lashicr7\\appdata\\local\\programs\\python\\python311\\lib\\site-packages (4.47.1)\n",
      "Requirement already satisfied: tensorflow-intel==2.18.0 in c:\\users\\lashicr7\\appdata\\local\\programs\\python\\python311\\lib\\site-packages (from tensorflow==2.18.0) (2.18.0)\n",
      "Requirement already satisfied: absl-py>=1.0.0 in c:\\users\\lashicr7\\appdata\\local\\programs\\python\\python311\\lib\\site-packages (from tensorflow-intel==2.18.0->tensorflow==2.18.0) (2.1.0)\n",
      "Requirement already satisfied: astunparse>=1.6.0 in c:\\users\\lashicr7\\appdata\\local\\programs\\python\\python311\\lib\\site-packages (from tensorflow-intel==2.18.0->tensorflow==2.18.0) (1.6.3)\n",
      "Requirement already satisfied: flatbuffers>=24.3.25 in c:\\users\\lashicr7\\appdata\\local\\programs\\python\\python311\\lib\\site-packages (from tensorflow-intel==2.18.0->tensorflow==2.18.0) (24.3.25)\n",
      "Requirement already satisfied: gast!=0.5.0,!=0.5.1,!=0.5.2,>=0.2.1 in c:\\users\\lashicr7\\appdata\\local\\programs\\python\\python311\\lib\\site-packages (from tensorflow-intel==2.18.0->tensorflow==2.18.0) (0.5.4)\n",
      "Requirement already satisfied: google-pasta>=0.1.1 in c:\\users\\lashicr7\\appdata\\local\\programs\\python\\python311\\lib\\site-packages (from tensorflow-intel==2.18.0->tensorflow==2.18.0) (0.2.0)\n",
      "Requirement already satisfied: libclang>=13.0.0 in c:\\users\\lashicr7\\appdata\\local\\programs\\python\\python311\\lib\\site-packages (from tensorflow-intel==2.18.0->tensorflow==2.18.0) (18.1.1)\n",
      "Requirement already satisfied: opt-einsum>=2.3.2 in c:\\users\\lashicr7\\appdata\\local\\programs\\python\\python311\\lib\\site-packages (from tensorflow-intel==2.18.0->tensorflow==2.18.0) (3.3.0)\n",
      "Requirement already satisfied: packaging in c:\\users\\lashicr7\\appdata\\local\\programs\\python\\python311\\lib\\site-packages (from tensorflow-intel==2.18.0->tensorflow==2.18.0) (23.1)\n",
      "Requirement already satisfied: protobuf!=4.21.0,!=4.21.1,!=4.21.2,!=4.21.3,!=4.21.4,!=4.21.5,<6.0.0dev,>=3.20.3 in c:\\users\\lashicr7\\appdata\\local\\programs\\python\\python311\\lib\\site-packages (from tensorflow-intel==2.18.0->tensorflow==2.18.0) (4.24.3)\n",
      "Requirement already satisfied: requests<3,>=2.21.0 in c:\\users\\lashicr7\\appdata\\local\\programs\\python\\python311\\lib\\site-packages (from tensorflow-intel==2.18.0->tensorflow==2.18.0) (2.31.0)\n",
      "Requirement already satisfied: setuptools in c:\\users\\lashicr7\\appdata\\local\\programs\\python\\python311\\lib\\site-packages (from tensorflow-intel==2.18.0->tensorflow==2.18.0) (65.5.0)\n",
      "Requirement already satisfied: six>=1.12.0 in c:\\users\\lashicr7\\appdata\\local\\programs\\python\\python311\\lib\\site-packages (from tensorflow-intel==2.18.0->tensorflow==2.18.0) (1.16.0)\n",
      "Requirement already satisfied: termcolor>=1.1.0 in c:\\users\\lashicr7\\appdata\\local\\programs\\python\\python311\\lib\\site-packages (from tensorflow-intel==2.18.0->tensorflow==2.18.0) (2.4.0)\n",
      "Requirement already satisfied: typing-extensions>=3.6.6 in c:\\users\\lashicr7\\appdata\\local\\programs\\python\\python311\\lib\\site-packages (from tensorflow-intel==2.18.0->tensorflow==2.18.0) (4.8.0)\n",
      "Requirement already satisfied: wrapt>=1.11.0 in c:\\users\\lashicr7\\appdata\\local\\programs\\python\\python311\\lib\\site-packages (from tensorflow-intel==2.18.0->tensorflow==2.18.0) (1.15.0)\n",
      "Requirement already satisfied: grpcio<2.0,>=1.24.3 in c:\\users\\lashicr7\\appdata\\local\\programs\\python\\python311\\lib\\site-packages (from tensorflow-intel==2.18.0->tensorflow==2.18.0) (1.59.0)\n",
      "Requirement already satisfied: tensorboard<2.19,>=2.18 in c:\\users\\lashicr7\\appdata\\local\\programs\\python\\python311\\lib\\site-packages (from tensorflow-intel==2.18.0->tensorflow==2.18.0) (2.18.0)\n",
      "Requirement already satisfied: keras>=3.5.0 in c:\\users\\lashicr7\\appdata\\local\\programs\\python\\python311\\lib\\site-packages (from tensorflow-intel==2.18.0->tensorflow==2.18.0) (3.7.0)\n",
      "Requirement already satisfied: numpy<2.1.0,>=1.26.0 in c:\\users\\lashicr7\\appdata\\local\\programs\\python\\python311\\lib\\site-packages (from tensorflow-intel==2.18.0->tensorflow==2.18.0) (1.26.0)\n",
      "Requirement already satisfied: h5py>=3.11.0 in c:\\users\\lashicr7\\appdata\\local\\programs\\python\\python311\\lib\\site-packages (from tensorflow-intel==2.18.0->tensorflow==2.18.0) (3.12.1)\n",
      "Requirement already satisfied: ml-dtypes<0.5.0,>=0.4.0 in c:\\users\\lashicr7\\appdata\\local\\programs\\python\\python311\\lib\\site-packages (from tensorflow-intel==2.18.0->tensorflow==2.18.0) (0.4.1)\n",
      "Requirement already satisfied: tensorflow-io-gcs-filesystem>=0.23.1 in c:\\users\\lashicr7\\appdata\\local\\programs\\python\\python311\\lib\\site-packages (from tensorflow-intel==2.18.0->tensorflow==2.18.0) (0.31.0)\n",
      "Requirement already satisfied: filelock in c:\\users\\lashicr7\\appdata\\local\\programs\\python\\python311\\lib\\site-packages (from transformers) (3.12.4)\n",
      "Requirement already satisfied: huggingface-hub<1.0,>=0.24.0 in c:\\users\\lashicr7\\appdata\\local\\programs\\python\\python311\\lib\\site-packages (from transformers) (0.27.0)\n",
      "Requirement already satisfied: pyyaml>=5.1 in c:\\users\\lashicr7\\appdata\\local\\programs\\python\\python311\\lib\\site-packages (from transformers) (6.0.1)\n",
      "Requirement already satisfied: regex!=2019.12.17 in c:\\users\\lashicr7\\appdata\\local\\programs\\python\\python311\\lib\\site-packages (from transformers) (2023.8.8)\n",
      "Requirement already satisfied: tokenizers<0.22,>=0.21 in c:\\users\\lashicr7\\appdata\\local\\programs\\python\\python311\\lib\\site-packages (from transformers) (0.21.0)\n",
      "Requirement already satisfied: safetensors>=0.4.1 in c:\\users\\lashicr7\\appdata\\local\\programs\\python\\python311\\lib\\site-packages (from transformers) (0.4.5)\n",
      "Requirement already satisfied: tqdm>=4.27 in c:\\users\\lashicr7\\appdata\\local\\programs\\python\\python311\\lib\\site-packages (from transformers) (4.66.1)\n",
      "Requirement already satisfied: fsspec>=2023.5.0 in c:\\users\\lashicr7\\appdata\\local\\programs\\python\\python311\\lib\\site-packages (from huggingface-hub<1.0,>=0.24.0->transformers) (2023.9.2)\n",
      "Requirement already satisfied: charset-normalizer<4,>=2 in c:\\users\\lashicr7\\appdata\\local\\programs\\python\\python311\\lib\\site-packages (from requests<3,>=2.21.0->tensorflow-intel==2.18.0->tensorflow==2.18.0) (3.2.0)\n",
      "Requirement already satisfied: idna<4,>=2.5 in c:\\users\\lashicr7\\appdata\\local\\programs\\python\\python311\\lib\\site-packages (from requests<3,>=2.21.0->tensorflow-intel==2.18.0->tensorflow==2.18.0) (3.4)\n",
      "Requirement already satisfied: urllib3<3,>=1.21.1 in c:\\users\\lashicr7\\appdata\\local\\programs\\python\\python311\\lib\\site-packages (from requests<3,>=2.21.0->tensorflow-intel==2.18.0->tensorflow==2.18.0) (2.0.5)\n",
      "Requirement already satisfied: certifi>=2017.4.17 in c:\\users\\lashicr7\\appdata\\local\\programs\\python\\python311\\lib\\site-packages (from requests<3,>=2.21.0->tensorflow-intel==2.18.0->tensorflow==2.18.0) (2023.7.22)\n",
      "Requirement already satisfied: colorama in c:\\users\\lashicr7\\appdata\\local\\programs\\python\\python311\\lib\\site-packages (from tqdm>=4.27->transformers) (0.4.6)\n",
      "Requirement already satisfied: wheel<1.0,>=0.23.0 in c:\\users\\lashicr7\\appdata\\local\\programs\\python\\python311\\lib\\site-packages (from astunparse>=1.6.0->tensorflow-intel==2.18.0->tensorflow==2.18.0) (0.43.0)\n",
      "Requirement already satisfied: rich in c:\\users\\lashicr7\\appdata\\local\\programs\\python\\python311\\lib\\site-packages (from keras>=3.5.0->tensorflow-intel==2.18.0->tensorflow==2.18.0) (13.7.1)\n",
      "Requirement already satisfied: namex in c:\\users\\lashicr7\\appdata\\local\\programs\\python\\python311\\lib\\site-packages (from keras>=3.5.0->tensorflow-intel==2.18.0->tensorflow==2.18.0) (0.0.7)\n",
      "Requirement already satisfied: optree in c:\\users\\lashicr7\\appdata\\local\\programs\\python\\python311\\lib\\site-packages (from keras>=3.5.0->tensorflow-intel==2.18.0->tensorflow==2.18.0) (0.11.0)\n",
      "Requirement already satisfied: markdown>=2.6.8 in c:\\users\\lashicr7\\appdata\\local\\programs\\python\\python311\\lib\\site-packages (from tensorboard<2.19,>=2.18->tensorflow-intel==2.18.0->tensorflow==2.18.0) (3.6)\n",
      "Requirement already satisfied: tensorboard-data-server<0.8.0,>=0.7.0 in c:\\users\\lashicr7\\appdata\\local\\programs\\python\\python311\\lib\\site-packages (from tensorboard<2.19,>=2.18->tensorflow-intel==2.18.0->tensorflow==2.18.0) (0.7.2)\n",
      "Requirement already satisfied: werkzeug>=1.0.1 in c:\\users\\lashicr7\\appdata\\local\\programs\\python\\python311\\lib\\site-packages (from tensorboard<2.19,>=2.18->tensorflow-intel==2.18.0->tensorflow==2.18.0) (3.0.1)\n",
      "Requirement already satisfied: MarkupSafe>=2.1.1 in c:\\users\\lashicr7\\appdata\\local\\programs\\python\\python311\\lib\\site-packages (from werkzeug>=1.0.1->tensorboard<2.19,>=2.18->tensorflow-intel==2.18.0->tensorflow==2.18.0) (2.1.3)\n",
      "Requirement already satisfied: markdown-it-py>=2.2.0 in c:\\users\\lashicr7\\appdata\\local\\programs\\python\\python311\\lib\\site-packages (from rich->keras>=3.5.0->tensorflow-intel==2.18.0->tensorflow==2.18.0) (3.0.0)\n",
      "Requirement already satisfied: pygments<3.0.0,>=2.13.0 in c:\\users\\lashicr7\\appdata\\roaming\\python\\python311\\site-packages (from rich->keras>=3.5.0->tensorflow-intel==2.18.0->tensorflow==2.18.0) (2.17.2)\n",
      "Requirement already satisfied: mdurl~=0.1 in c:\\users\\lashicr7\\appdata\\local\\programs\\python\\python311\\lib\\site-packages (from markdown-it-py>=2.2.0->rich->keras>=3.5.0->tensorflow-intel==2.18.0->tensorflow==2.18.0) (0.1.2)\n",
      "Note: you may need to restart the kernel to use updated packages.\n"
     ]
    }
   ],
   "source": [
    "!pip install tensorflow==2.18.0 tf-keras transformers\n",
    "!pip install sentence-transformers\n"
   ]
  },
  {
   "cell_type": "code",
   "execution_count": 7,
   "metadata": {},
   "outputs": [],
   "source": [
    "import pandas as pd\n",
    "from sentence_transformers import SentenceTransformer\n",
    "import numpy as np\n",
    "\n",
    "sentence_model = SentenceTransformer('all-MiniLM-L6-v2') \n",
    "def compute_sentence_embeddings(texts):\n",
    "    \"\"\"Compute sentence embeddings for a list of texts.\"\"\"\n",
    "    embeddings = []\n",
    "    for text in texts:\n",
    "        if not text or pd.isna(text): \n",
    "            embeddings.append(np.zeros(sentence_model.get_sentence_embedding_dimension()))\n",
    "        else:\n",
    "            embedding = sentence_model.encode(text, show_progress_bar=False)\n",
    "            embeddings.append(embedding)\n",
    "    return np.array(embeddings)\n",
    "movie_info_embeddings = compute_sentence_embeddings(df['movie_info'])\n"
   ]
  },
  {
   "cell_type": "markdown",
   "metadata": {},
   "source": [
    "Use this code for saving embeddings and reloading which can help in modular code running"
   ]
  },
  {
   "cell_type": "code",
   "execution_count": 9,
   "metadata": {},
   "outputs": [
    {
     "name": "stdout",
     "output_type": "stream",
     "text": [
      "(16638, 384)\n",
      "True\n"
     ]
    }
   ],
   "source": [
    "np.savetxt('sentence_embeddings.txt', movie_info_embeddings, delimiter=' ')\n",
    "loaded_data = np.loadtxt('sentence_embeddings.txt', delimiter=' ')\n",
    "print(loaded_data.shape) \n",
    "print(np.array_equal( movie_info_embeddings, loaded_data))"
   ]
  },
  {
   "cell_type": "code",
   "execution_count": 14,
   "metadata": {},
   "outputs": [],
   "source": [
    "from sklearn.decomposition import PCA\n",
    "pca = PCA(n_components=0.95, random_state=42)\n",
    "reduced_embeddings = pca.fit_transform(movie_info_embeddings)"
   ]
  },
  {
   "cell_type": "code",
   "execution_count": 15,
   "metadata": {},
   "outputs": [
    {
     "data": {
      "text/plain": [
       "(16638, 218)"
      ]
     },
     "execution_count": 15,
     "metadata": {},
     "output_type": "execute_result"
    }
   ],
   "source": [
    "reduced_embeddings.shape"
   ]
  },
  {
   "cell_type": "code",
   "execution_count": 66,
   "metadata": {},
   "outputs": [],
   "source": [
    "embeddings_df = pd.DataFrame(reduced_embeddings)\n",
    "df = pd.concat([df, embeddings_df], axis=1)"
   ]
  },
  {
   "cell_type": "code",
   "execution_count": 67,
   "metadata": {},
   "outputs": [
    {
     "data": {
      "text/html": [
       "<div>\n",
       "<style scoped>\n",
       "    .dataframe tbody tr th:only-of-type {\n",
       "        vertical-align: middle;\n",
       "    }\n",
       "\n",
       "    .dataframe tbody tr th {\n",
       "        vertical-align: top;\n",
       "    }\n",
       "\n",
       "    .dataframe thead th {\n",
       "        text-align: right;\n",
       "    }\n",
       "</style>\n",
       "<table border=\"1\" class=\"dataframe\">\n",
       "  <thead>\n",
       "    <tr style=\"text-align: right;\">\n",
       "      <th></th>\n",
       "      <th>movie_title</th>\n",
       "      <th>movie_info</th>\n",
       "      <th>critics_consensus</th>\n",
       "      <th>rating</th>\n",
       "      <th>genre</th>\n",
       "      <th>directors</th>\n",
       "      <th>writers</th>\n",
       "      <th>cast</th>\n",
       "      <th>in_theaters_date</th>\n",
       "      <th>on_streaming_date</th>\n",
       "      <th>...</th>\n",
       "      <th>208</th>\n",
       "      <th>209</th>\n",
       "      <th>210</th>\n",
       "      <th>211</th>\n",
       "      <th>212</th>\n",
       "      <th>213</th>\n",
       "      <th>214</th>\n",
       "      <th>215</th>\n",
       "      <th>216</th>\n",
       "      <th>217</th>\n",
       "    </tr>\n",
       "  </thead>\n",
       "  <tbody>\n",
       "    <tr>\n",
       "      <th>0</th>\n",
       "      <td>Percy Jackson &amp; the Olympians: The Lightning T...</td>\n",
       "      <td>A teenager discovers he's the descendant of a ...</td>\n",
       "      <td>Though it may seem like just another Harry Pot...</td>\n",
       "      <td>PG</td>\n",
       "      <td>Action &amp; Adventure, Comedy, Drama, Science Fic...</td>\n",
       "      <td>Chris Columbus</td>\n",
       "      <td>Craig Titley</td>\n",
       "      <td>Logan Lerman, Brandon T. Jackson, Alexandra Da...</td>\n",
       "      <td>2/12/2010</td>\n",
       "      <td>6/29/2010</td>\n",
       "      <td>...</td>\n",
       "      <td>-0.006604</td>\n",
       "      <td>0.004451</td>\n",
       "      <td>0.010701</td>\n",
       "      <td>0.027692</td>\n",
       "      <td>0.026795</td>\n",
       "      <td>-0.048007</td>\n",
       "      <td>0.068290</td>\n",
       "      <td>0.011586</td>\n",
       "      <td>-0.007773</td>\n",
       "      <td>-0.004174</td>\n",
       "    </tr>\n",
       "    <tr>\n",
       "      <th>1</th>\n",
       "      <td>Please Give</td>\n",
       "      <td>Kate has a lot on her mind. There's the ethics...</td>\n",
       "      <td>Nicole Holofcener's newest might seem slight i...</td>\n",
       "      <td>R</td>\n",
       "      <td>Comedy</td>\n",
       "      <td>Nicole Holofcener</td>\n",
       "      <td>Nicole Holofcener</td>\n",
       "      <td>Catherine Keener, Amanda Peet, Oliver Platt, R...</td>\n",
       "      <td>4/30/2010</td>\n",
       "      <td>10/19/2010</td>\n",
       "      <td>...</td>\n",
       "      <td>-0.017481</td>\n",
       "      <td>0.028921</td>\n",
       "      <td>-0.010660</td>\n",
       "      <td>-0.002627</td>\n",
       "      <td>0.022829</td>\n",
       "      <td>-0.046013</td>\n",
       "      <td>-0.028977</td>\n",
       "      <td>-0.035879</td>\n",
       "      <td>0.042951</td>\n",
       "      <td>-0.063410</td>\n",
       "    </tr>\n",
       "    <tr>\n",
       "      <th>2</th>\n",
       "      <td>10</td>\n",
       "      <td>Blake Edwards' 10 stars Dudley Moore as George...</td>\n",
       "      <td>NaN</td>\n",
       "      <td>R</td>\n",
       "      <td>Comedy, Romance</td>\n",
       "      <td>Blake Edwards</td>\n",
       "      <td>Blake Edwards</td>\n",
       "      <td>Dudley Moore, Bo Derek, Julie Andrews, Robert ...</td>\n",
       "      <td>10/5/1979</td>\n",
       "      <td>8/27/1997</td>\n",
       "      <td>...</td>\n",
       "      <td>-0.008803</td>\n",
       "      <td>-0.027856</td>\n",
       "      <td>0.000888</td>\n",
       "      <td>0.020838</td>\n",
       "      <td>0.044571</td>\n",
       "      <td>-0.064736</td>\n",
       "      <td>-0.010670</td>\n",
       "      <td>-0.003647</td>\n",
       "      <td>-0.014654</td>\n",
       "      <td>-0.003085</td>\n",
       "    </tr>\n",
       "    <tr>\n",
       "      <th>3</th>\n",
       "      <td>12 Angry Men (Twelve Angry Men)</td>\n",
       "      <td>A Puerto Rican youth is on trial for murder, a...</td>\n",
       "      <td>Sidney Lumet's feature debut is a superbly wri...</td>\n",
       "      <td>NR</td>\n",
       "      <td>Classics, Drama</td>\n",
       "      <td>Sidney Lumet</td>\n",
       "      <td>Reginald Rose</td>\n",
       "      <td>Martin Balsam, John Fiedler, Lee J. Cobb, E.G....</td>\n",
       "      <td>4/13/1957</td>\n",
       "      <td>3/6/2001</td>\n",
       "      <td>...</td>\n",
       "      <td>-0.007631</td>\n",
       "      <td>0.036879</td>\n",
       "      <td>0.035361</td>\n",
       "      <td>-0.007004</td>\n",
       "      <td>-0.004631</td>\n",
       "      <td>-0.044865</td>\n",
       "      <td>0.002537</td>\n",
       "      <td>-0.022569</td>\n",
       "      <td>0.013458</td>\n",
       "      <td>0.020489</td>\n",
       "    </tr>\n",
       "    <tr>\n",
       "      <th>4</th>\n",
       "      <td>20,000 Leagues Under The Sea</td>\n",
       "      <td>This 1954 Disney version of Jules Verne's 20,0...</td>\n",
       "      <td>One of Disney's finest live-action adventures,...</td>\n",
       "      <td>G</td>\n",
       "      <td>Action &amp; Adventure, Drama, Kids &amp; Family</td>\n",
       "      <td>Richard Fleischer</td>\n",
       "      <td>Earl Felton</td>\n",
       "      <td>James Mason, Kirk Douglas, Paul Lukas, Peter L...</td>\n",
       "      <td>1/1/1954</td>\n",
       "      <td>5/20/2003</td>\n",
       "      <td>...</td>\n",
       "      <td>0.000950</td>\n",
       "      <td>0.010259</td>\n",
       "      <td>0.021618</td>\n",
       "      <td>0.015044</td>\n",
       "      <td>0.001125</td>\n",
       "      <td>0.011272</td>\n",
       "      <td>-0.006171</td>\n",
       "      <td>0.036123</td>\n",
       "      <td>0.011871</td>\n",
       "      <td>-0.053711</td>\n",
       "    </tr>\n",
       "  </tbody>\n",
       "</table>\n",
       "<p>5 rows × 234 columns</p>\n",
       "</div>"
      ],
      "text/plain": [
       "                                         movie_title  \\\n",
       "0  Percy Jackson & the Olympians: The Lightning T...   \n",
       "1                                        Please Give   \n",
       "2                                                 10   \n",
       "3                    12 Angry Men (Twelve Angry Men)   \n",
       "4                       20,000 Leagues Under The Sea   \n",
       "\n",
       "                                          movie_info  \\\n",
       "0  A teenager discovers he's the descendant of a ...   \n",
       "1  Kate has a lot on her mind. There's the ethics...   \n",
       "2  Blake Edwards' 10 stars Dudley Moore as George...   \n",
       "3  A Puerto Rican youth is on trial for murder, a...   \n",
       "4  This 1954 Disney version of Jules Verne's 20,0...   \n",
       "\n",
       "                                   critics_consensus rating  \\\n",
       "0  Though it may seem like just another Harry Pot...     PG   \n",
       "1  Nicole Holofcener's newest might seem slight i...      R   \n",
       "2                                                NaN      R   \n",
       "3  Sidney Lumet's feature debut is a superbly wri...     NR   \n",
       "4  One of Disney's finest live-action adventures,...      G   \n",
       "\n",
       "                                               genre          directors  \\\n",
       "0  Action & Adventure, Comedy, Drama, Science Fic...     Chris Columbus   \n",
       "1                                             Comedy  Nicole Holofcener   \n",
       "2                                    Comedy, Romance      Blake Edwards   \n",
       "3                                    Classics, Drama       Sidney Lumet   \n",
       "4           Action & Adventure, Drama, Kids & Family  Richard Fleischer   \n",
       "\n",
       "             writers                                               cast  \\\n",
       "0       Craig Titley  Logan Lerman, Brandon T. Jackson, Alexandra Da...   \n",
       "1  Nicole Holofcener  Catherine Keener, Amanda Peet, Oliver Platt, R...   \n",
       "2      Blake Edwards  Dudley Moore, Bo Derek, Julie Andrews, Robert ...   \n",
       "3      Reginald Rose  Martin Balsam, John Fiedler, Lee J. Cobb, E.G....   \n",
       "4        Earl Felton  James Mason, Kirk Douglas, Paul Lukas, Peter L...   \n",
       "\n",
       "  in_theaters_date on_streaming_date  ...       208       209       210  \\\n",
       "0        2/12/2010         6/29/2010  ... -0.006604  0.004451  0.010701   \n",
       "1        4/30/2010        10/19/2010  ... -0.017481  0.028921 -0.010660   \n",
       "2        10/5/1979         8/27/1997  ... -0.008803 -0.027856  0.000888   \n",
       "3        4/13/1957          3/6/2001  ... -0.007631  0.036879  0.035361   \n",
       "4         1/1/1954         5/20/2003  ...  0.000950  0.010259  0.021618   \n",
       "\n",
       "        211       212       213       214       215       216       217  \n",
       "0  0.027692  0.026795 -0.048007  0.068290  0.011586 -0.007773 -0.004174  \n",
       "1 -0.002627  0.022829 -0.046013 -0.028977 -0.035879  0.042951 -0.063410  \n",
       "2  0.020838  0.044571 -0.064736 -0.010670 -0.003647 -0.014654 -0.003085  \n",
       "3 -0.007004 -0.004631 -0.044865  0.002537 -0.022569  0.013458  0.020489  \n",
       "4  0.015044  0.001125  0.011272 -0.006171  0.036123  0.011871 -0.053711  \n",
       "\n",
       "[5 rows x 234 columns]"
      ]
     },
     "execution_count": 67,
     "metadata": {},
     "output_type": "execute_result"
    }
   ],
   "source": [
    "df.head()"
   ]
  },
  {
   "cell_type": "code",
   "execution_count": 68,
   "metadata": {},
   "outputs": [
    {
     "name": "stdout",
     "output_type": "stream",
     "text": [
      "Outliers using Z-Score method:\n",
      "151\n"
     ]
    }
   ],
   "source": [
    "import pandas as pd\n",
    "import matplotlib.pyplot as plt\n",
    "from scipy.stats import zscore\n",
    "from sklearn.preprocessing import OrdinalEncoder, StandardScaler, MinMaxScaler\n",
    "duplicate_rows = df[df.duplicated(keep=False)]\n",
    "df = df.drop_duplicates(keep=False).reset_index(drop=True)\n",
    "df = df.dropna(subset=['genre']).reset_index(drop=True)\n",
    "df = df.dropna(subset=['audience_rating']).reset_index(drop=True)\n",
    "df = df.dropna(subset=['in_theaters_date', 'on_streaming_date'], how='all').reset_index(drop=True)\n",
    "\n",
    "\n",
    "runtime_median = df['runtime_in_minutes'].median()\n",
    "df['runtime_in_minutes'].fillna(runtime_median, inplace=True)\n",
    "runtime_non_null = df['runtime_in_minutes']\n",
    "z_scores = zscore(runtime_non_null)\n",
    "outliers_z = runtime_non_null[abs(z_scores) > 3]\n",
    "print(\"Outliers using Z-Score method:\")\n",
    "print(len(outliers_z))\n",
    "outlier_mask = abs(z_scores) > 3\n",
    "df = df[~outlier_mask].reset_index(drop=True)\n",
    "\n",
    "unique_genres = set()\n",
    "for i in range(len(df)):\n",
    "    genres = df['genre'].loc[i].split(\",\")\n",
    "    for j in genres:\n",
    "        unique_genres.add(j.strip().lower())\n",
    "unique_genres = sorted(unique_genres)\n",
    "for genre in unique_genres:\n",
    "    df[genre] = df['genre'].apply(lambda x: 1 if genre in x.strip().lower() else 0)\n",
    "\n",
    "\n",
    "df['rating'] = df['rating'].apply(lambda x: x[:-1] if x.endswith(')') else x)\n",
    "\n",
    "\n",
    "df['in_theaters_date'] = pd.to_datetime(df['in_theaters_date'], errors='coerce')\n",
    "df['on_streaming_date'] = pd.to_datetime(df['on_streaming_date'], errors='coerce')\n",
    "df.loc[df['in_theaters_date'].isna() & df['on_streaming_date'].notna(), 'in_theaters_date'] = df['on_streaming_date']\n",
    "df['theatre_year'] = df['in_theaters_date'].dt.year\n",
    "df['stream_year'] = df['on_streaming_date'].dt.year\n",
    "\n",
    "\n",
    "ordinal_encoder = OrdinalEncoder(categories=[['Rotten', 'Certified Fresh', 'Fresh']])\n",
    "df['status'] = ordinal_encoder.fit_transform(df[['tomatometer_status']])\n",
    "\n",
    "\n",
    "ordinal_encoder = OrdinalEncoder(categories=[['PG', 'R', 'NR', 'G', 'PG-13', 'NC17']]) \n",
    "df['rating_encoded'] = ordinal_encoder.fit_transform(df[['rating']])\n",
    "\n",
    "\n",
    "standard_scaler = StandardScaler()\n",
    "min_max_scaler = MinMaxScaler()\n",
    "df['runtime_in_minutes_scaled'] = standard_scaler.fit_transform(df[['runtime_in_minutes']])\n",
    "df[['tomatometer_count_scaled', 'theatre_year_scaled', 'stream_year_scaled','tomatometer_rating_scaled']] = min_max_scaler.fit_transform(df[['tomatometer_count', 'theatre_year', 'stream_year', 'tomatometer_rating']])\n"
   ]
  },
  {
   "cell_type": "code",
   "execution_count": 28,
   "metadata": {},
   "outputs": [
    {
     "data": {
      "text/html": [
       "<div>\n",
       "<style scoped>\n",
       "    .dataframe tbody tr th:only-of-type {\n",
       "        vertical-align: middle;\n",
       "    }\n",
       "\n",
       "    .dataframe tbody tr th {\n",
       "        vertical-align: top;\n",
       "    }\n",
       "\n",
       "    .dataframe thead th {\n",
       "        text-align: right;\n",
       "    }\n",
       "</style>\n",
       "<table border=\"1\" class=\"dataframe\">\n",
       "  <thead>\n",
       "    <tr style=\"text-align: right;\">\n",
       "      <th></th>\n",
       "      <th>audience_rating</th>\n",
       "      <th>0</th>\n",
       "      <th>1</th>\n",
       "      <th>2</th>\n",
       "      <th>3</th>\n",
       "      <th>4</th>\n",
       "      <th>5</th>\n",
       "      <th>6</th>\n",
       "      <th>7</th>\n",
       "      <th>8</th>\n",
       "      <th>...</th>\n",
       "      <th>Science Fiction &amp; Fantasy</th>\n",
       "      <th>Special Interest</th>\n",
       "      <th>Television</th>\n",
       "      <th>Western</th>\n",
       "      <th>status</th>\n",
       "      <th>rating_encoded</th>\n",
       "      <th>runtime_in_minutes_scaled</th>\n",
       "      <th>tomatometer_count_scaled</th>\n",
       "      <th>theatre_year_scaled</th>\n",
       "      <th>tomatometer_rating_scaled</th>\n",
       "    </tr>\n",
       "  </thead>\n",
       "  <tbody>\n",
       "    <tr>\n",
       "      <th>0</th>\n",
       "      <td>53.0</td>\n",
       "      <td>-0.018757</td>\n",
       "      <td>0.232074</td>\n",
       "      <td>-0.023098</td>\n",
       "      <td>0.096871</td>\n",
       "      <td>-0.238822</td>\n",
       "      <td>0.066859</td>\n",
       "      <td>0.068015</td>\n",
       "      <td>-0.065756</td>\n",
       "      <td>0.086425</td>\n",
       "      <td>...</td>\n",
       "      <td>0</td>\n",
       "      <td>0</td>\n",
       "      <td>0</td>\n",
       "      <td>0</td>\n",
       "      <td>0.0</td>\n",
       "      <td>0.0</td>\n",
       "      <td>-1.093671</td>\n",
       "      <td>0.282520</td>\n",
       "      <td>0.913462</td>\n",
       "      <td>0.49</td>\n",
       "    </tr>\n",
       "    <tr>\n",
       "      <th>1</th>\n",
       "      <td>64.0</td>\n",
       "      <td>0.406907</td>\n",
       "      <td>0.090574</td>\n",
       "      <td>0.059328</td>\n",
       "      <td>0.035007</td>\n",
       "      <td>0.028385</td>\n",
       "      <td>-0.067305</td>\n",
       "      <td>-0.067004</td>\n",
       "      <td>0.089533</td>\n",
       "      <td>-0.052919</td>\n",
       "      <td>...</td>\n",
       "      <td>0</td>\n",
       "      <td>0</td>\n",
       "      <td>0</td>\n",
       "      <td>0</td>\n",
       "      <td>1.0</td>\n",
       "      <td>1.0</td>\n",
       "      <td>-0.686755</td>\n",
       "      <td>0.274390</td>\n",
       "      <td>0.913462</td>\n",
       "      <td>0.86</td>\n",
       "    </tr>\n",
       "    <tr>\n",
       "      <th>2</th>\n",
       "      <td>53.0</td>\n",
       "      <td>0.057845</td>\n",
       "      <td>-0.227193</td>\n",
       "      <td>0.168880</td>\n",
       "      <td>0.014530</td>\n",
       "      <td>-0.109269</td>\n",
       "      <td>0.008475</td>\n",
       "      <td>0.046020</td>\n",
       "      <td>0.090073</td>\n",
       "      <td>-0.059194</td>\n",
       "      <td>...</td>\n",
       "      <td>0</td>\n",
       "      <td>0</td>\n",
       "      <td>0</td>\n",
       "      <td>0</td>\n",
       "      <td>2.0</td>\n",
       "      <td>1.0</td>\n",
       "      <td>0.940910</td>\n",
       "      <td>0.034553</td>\n",
       "      <td>0.615385</td>\n",
       "      <td>0.68</td>\n",
       "    </tr>\n",
       "    <tr>\n",
       "      <th>3</th>\n",
       "      <td>97.0</td>\n",
       "      <td>-0.087041</td>\n",
       "      <td>-0.140239</td>\n",
       "      <td>-0.153896</td>\n",
       "      <td>0.030524</td>\n",
       "      <td>0.105706</td>\n",
       "      <td>0.041612</td>\n",
       "      <td>0.102906</td>\n",
       "      <td>-0.043095</td>\n",
       "      <td>0.095758</td>\n",
       "      <td>...</td>\n",
       "      <td>0</td>\n",
       "      <td>0</td>\n",
       "      <td>0</td>\n",
       "      <td>0</td>\n",
       "      <td>1.0</td>\n",
       "      <td>2.0</td>\n",
       "      <td>-0.396100</td>\n",
       "      <td>0.093496</td>\n",
       "      <td>0.403846</td>\n",
       "      <td>1.00</td>\n",
       "    </tr>\n",
       "    <tr>\n",
       "      <th>4</th>\n",
       "      <td>74.0</td>\n",
       "      <td>-0.274508</td>\n",
       "      <td>0.044719</td>\n",
       "      <td>0.288013</td>\n",
       "      <td>-0.027486</td>\n",
       "      <td>-0.118240</td>\n",
       "      <td>0.115243</td>\n",
       "      <td>0.061658</td>\n",
       "      <td>0.165950</td>\n",
       "      <td>0.014132</td>\n",
       "      <td>...</td>\n",
       "      <td>0</td>\n",
       "      <td>0</td>\n",
       "      <td>0</td>\n",
       "      <td>0</td>\n",
       "      <td>2.0</td>\n",
       "      <td>3.0</td>\n",
       "      <td>1.464089</td>\n",
       "      <td>0.044715</td>\n",
       "      <td>0.375000</td>\n",
       "      <td>0.89</td>\n",
       "    </tr>\n",
       "  </tbody>\n",
       "</table>\n",
       "<p>5 rows × 262 columns</p>\n",
       "</div>"
      ],
      "text/plain": [
       "   audience_rating         0         1         2         3         4  \\\n",
       "0             53.0 -0.018757  0.232074 -0.023098  0.096871 -0.238822   \n",
       "1             64.0  0.406907  0.090574  0.059328  0.035007  0.028385   \n",
       "2             53.0  0.057845 -0.227193  0.168880  0.014530 -0.109269   \n",
       "3             97.0 -0.087041 -0.140239 -0.153896  0.030524  0.105706   \n",
       "4             74.0 -0.274508  0.044719  0.288013 -0.027486 -0.118240   \n",
       "\n",
       "          5         6         7         8  ...  Science Fiction & Fantasy  \\\n",
       "0  0.066859  0.068015 -0.065756  0.086425  ...                          0   \n",
       "1 -0.067305 -0.067004  0.089533 -0.052919  ...                          0   \n",
       "2  0.008475  0.046020  0.090073 -0.059194  ...                          0   \n",
       "3  0.041612  0.102906 -0.043095  0.095758  ...                          0   \n",
       "4  0.115243  0.061658  0.165950  0.014132  ...                          0   \n",
       "\n",
       "   Special Interest  Television  Western  status  rating_encoded  \\\n",
       "0                 0           0        0     0.0             0.0   \n",
       "1                 0           0        0     1.0             1.0   \n",
       "2                 0           0        0     2.0             1.0   \n",
       "3                 0           0        0     1.0             2.0   \n",
       "4                 0           0        0     2.0             3.0   \n",
       "\n",
       "   runtime_in_minutes_scaled  tomatometer_count_scaled  theatre_year_scaled  \\\n",
       "0                  -1.093671                  0.282520             0.913462   \n",
       "1                  -0.686755                  0.274390             0.913462   \n",
       "2                   0.940910                  0.034553             0.615385   \n",
       "3                  -0.396100                  0.093496             0.403846   \n",
       "4                   1.464089                  0.044715             0.375000   \n",
       "\n",
       "   tomatometer_rating_scaled  \n",
       "0                       0.49  \n",
       "1                       0.86  \n",
       "2                       0.68  \n",
       "3                       1.00  \n",
       "4                       0.89  \n",
       "\n",
       "[5 rows x 262 columns]"
      ]
     },
     "execution_count": 28,
     "metadata": {},
     "output_type": "execute_result"
    }
   ],
   "source": [
    "df.head()"
   ]
  },
  {
   "cell_type": "code",
   "execution_count": 69,
   "metadata": {},
   "outputs": [],
   "source": [
    "columns_to_drop = ['movie_title', 'movie_info', 'critics_consensus', 'directors', \n",
    "                   'writers', 'cast', 'in_theaters_date', 'on_streaming_date', 'studio_name', 'genre', 'tomatometer_status', 'rating', 'runtime_in_minutes', 'tomatometer_count','theatre_year', 'stream_year','stream_year_scaled','tomatometer_rating']\n",
    "df = df.drop(columns=columns_to_drop, errors='ignore')"
   ]
  },
  {
   "cell_type": "code",
   "execution_count": 94,
   "metadata": {},
   "outputs": [],
   "source": [
    "df.columns = df.columns.astype(str)"
   ]
  },
  {
   "cell_type": "code",
   "execution_count": 95,
   "metadata": {},
   "outputs": [
    {
     "name": "stdout",
     "output_type": "stream",
     "text": [
      "(16215, 87)\n"
     ]
    }
   ],
   "source": [
    "from sklearn.model_selection import train_test_split\n",
    "\n",
    "X = df.drop('audience_rating', axis=1)  \n",
    "y = df['audience_rating'] \n",
    "\n",
    "X_reduced = pca.fit_transform(X)\n",
    "print(X_reduced.shape)\n",
    "\n",
    "X_train, X_test, y_train, y_test = train_test_split(X_reduced, y, test_size=0.2, random_state=42)"
   ]
  },
  {
   "cell_type": "code",
   "execution_count": 96,
   "metadata": {},
   "outputs": [],
   "source": [
    "X_train_final, X_val, y_train_final, y_val = train_test_split(\n",
    "    X_train, y_train, test_size=0.2, random_state=42\n",
    ")"
   ]
  },
  {
   "cell_type": "code",
   "execution_count": 97,
   "metadata": {},
   "outputs": [
    {
     "name": "stderr",
     "output_type": "stream",
     "text": [
      "c:\\Users\\lashicr7\\AppData\\Local\\Programs\\Python\\Python311\\Lib\\site-packages\\keras\\src\\layers\\core\\dense.py:87: UserWarning: Do not pass an `input_shape`/`input_dim` argument to a layer. When using Sequential models, prefer using an `Input(shape)` object as the first layer in the model instead.\n",
      "  super().__init__(activity_regularizer=activity_regularizer, **kwargs)\n"
     ]
    }
   ],
   "source": [
    "import tensorflow as tf\n",
    "from tensorflow.keras.models import Sequential\n",
    "from tensorflow.keras.layers import Dense, Dropout, BatchNormalization\n",
    "\n",
    "# Model Architecture\n",
    "model = Sequential([\n",
    "    Dense(64, activation='relu', input_shape=(87,)),  # First hidden layer\n",
    "    BatchNormalization(),                               # Normalize activations\n",
    "    Dropout(0.3),                                       # Dropout for regularization\n",
    "    \n",
    "    Dense(32, activation='relu'),                      # Third hidden layer\n",
    "    BatchNormalization(),\n",
    "    Dropout(0.2),\n",
    "    Dense(1, activation='linear')                       # Output layer for regression\n",
    "])\n",
    "\n",
    "# Compile Model\n",
    "model.compile(optimizer=tf.keras.optimizers.Adam(learning_rate=0.001),\n",
    "              loss='mse',                              \n",
    "              metrics=['mae'])                       \n"
   ]
  },
  {
   "cell_type": "code",
   "execution_count": 98,
   "metadata": {},
   "outputs": [
    {
     "data": {
      "text/html": [
       "<pre style=\"white-space:pre;overflow-x:auto;line-height:normal;font-family:Menlo,'DejaVu Sans Mono',consolas,'Courier New',monospace\"><span style=\"font-weight: bold\">Model: \"sequential_12\"</span>\n",
       "</pre>\n"
      ],
      "text/plain": [
       "\u001b[1mModel: \"sequential_12\"\u001b[0m\n"
      ]
     },
     "metadata": {},
     "output_type": "display_data"
    },
    {
     "data": {
      "text/html": [
       "<pre style=\"white-space:pre;overflow-x:auto;line-height:normal;font-family:Menlo,'DejaVu Sans Mono',consolas,'Courier New',monospace\">┏━━━━━━━━━━━━━━━━━━━━━━━━━━━━━━━━━┳━━━━━━━━━━━━━━━━━━━━━━━━┳━━━━━━━━━━━━━━━┓\n",
       "┃<span style=\"font-weight: bold\"> Layer (type)                    </span>┃<span style=\"font-weight: bold\"> Output Shape           </span>┃<span style=\"font-weight: bold\">       Param # </span>┃\n",
       "┡━━━━━━━━━━━━━━━━━━━━━━━━━━━━━━━━━╇━━━━━━━━━━━━━━━━━━━━━━━━╇━━━━━━━━━━━━━━━┩\n",
       "│ dense_42 (<span style=\"color: #0087ff; text-decoration-color: #0087ff\">Dense</span>)                │ (<span style=\"color: #00d7ff; text-decoration-color: #00d7ff\">None</span>, <span style=\"color: #00af00; text-decoration-color: #00af00\">64</span>)             │         <span style=\"color: #00af00; text-decoration-color: #00af00\">5,632</span> │\n",
       "├─────────────────────────────────┼────────────────────────┼───────────────┤\n",
       "│ batch_normalization_29          │ (<span style=\"color: #00d7ff; text-decoration-color: #00d7ff\">None</span>, <span style=\"color: #00af00; text-decoration-color: #00af00\">64</span>)             │           <span style=\"color: #00af00; text-decoration-color: #00af00\">256</span> │\n",
       "│ (<span style=\"color: #0087ff; text-decoration-color: #0087ff\">BatchNormalization</span>)            │                        │               │\n",
       "├─────────────────────────────────┼────────────────────────┼───────────────┤\n",
       "│ dropout_29 (<span style=\"color: #0087ff; text-decoration-color: #0087ff\">Dropout</span>)            │ (<span style=\"color: #00d7ff; text-decoration-color: #00d7ff\">None</span>, <span style=\"color: #00af00; text-decoration-color: #00af00\">64</span>)             │             <span style=\"color: #00af00; text-decoration-color: #00af00\">0</span> │\n",
       "├─────────────────────────────────┼────────────────────────┼───────────────┤\n",
       "│ dense_43 (<span style=\"color: #0087ff; text-decoration-color: #0087ff\">Dense</span>)                │ (<span style=\"color: #00d7ff; text-decoration-color: #00d7ff\">None</span>, <span style=\"color: #00af00; text-decoration-color: #00af00\">32</span>)             │         <span style=\"color: #00af00; text-decoration-color: #00af00\">2,080</span> │\n",
       "├─────────────────────────────────┼────────────────────────┼───────────────┤\n",
       "│ batch_normalization_30          │ (<span style=\"color: #00d7ff; text-decoration-color: #00d7ff\">None</span>, <span style=\"color: #00af00; text-decoration-color: #00af00\">32</span>)             │           <span style=\"color: #00af00; text-decoration-color: #00af00\">128</span> │\n",
       "│ (<span style=\"color: #0087ff; text-decoration-color: #0087ff\">BatchNormalization</span>)            │                        │               │\n",
       "├─────────────────────────────────┼────────────────────────┼───────────────┤\n",
       "│ dropout_30 (<span style=\"color: #0087ff; text-decoration-color: #0087ff\">Dropout</span>)            │ (<span style=\"color: #00d7ff; text-decoration-color: #00d7ff\">None</span>, <span style=\"color: #00af00; text-decoration-color: #00af00\">32</span>)             │             <span style=\"color: #00af00; text-decoration-color: #00af00\">0</span> │\n",
       "├─────────────────────────────────┼────────────────────────┼───────────────┤\n",
       "│ dense_44 (<span style=\"color: #0087ff; text-decoration-color: #0087ff\">Dense</span>)                │ (<span style=\"color: #00d7ff; text-decoration-color: #00d7ff\">None</span>, <span style=\"color: #00af00; text-decoration-color: #00af00\">1</span>)              │            <span style=\"color: #00af00; text-decoration-color: #00af00\">33</span> │\n",
       "└─────────────────────────────────┴────────────────────────┴───────────────┘\n",
       "</pre>\n"
      ],
      "text/plain": [
       "┏━━━━━━━━━━━━━━━━━━━━━━━━━━━━━━━━━┳━━━━━━━━━━━━━━━━━━━━━━━━┳━━━━━━━━━━━━━━━┓\n",
       "┃\u001b[1m \u001b[0m\u001b[1mLayer (type)                   \u001b[0m\u001b[1m \u001b[0m┃\u001b[1m \u001b[0m\u001b[1mOutput Shape          \u001b[0m\u001b[1m \u001b[0m┃\u001b[1m \u001b[0m\u001b[1m      Param #\u001b[0m\u001b[1m \u001b[0m┃\n",
       "┡━━━━━━━━━━━━━━━━━━━━━━━━━━━━━━━━━╇━━━━━━━━━━━━━━━━━━━━━━━━╇━━━━━━━━━━━━━━━┩\n",
       "│ dense_42 (\u001b[38;5;33mDense\u001b[0m)                │ (\u001b[38;5;45mNone\u001b[0m, \u001b[38;5;34m64\u001b[0m)             │         \u001b[38;5;34m5,632\u001b[0m │\n",
       "├─────────────────────────────────┼────────────────────────┼───────────────┤\n",
       "│ batch_normalization_29          │ (\u001b[38;5;45mNone\u001b[0m, \u001b[38;5;34m64\u001b[0m)             │           \u001b[38;5;34m256\u001b[0m │\n",
       "│ (\u001b[38;5;33mBatchNormalization\u001b[0m)            │                        │               │\n",
       "├─────────────────────────────────┼────────────────────────┼───────────────┤\n",
       "│ dropout_29 (\u001b[38;5;33mDropout\u001b[0m)            │ (\u001b[38;5;45mNone\u001b[0m, \u001b[38;5;34m64\u001b[0m)             │             \u001b[38;5;34m0\u001b[0m │\n",
       "├─────────────────────────────────┼────────────────────────┼───────────────┤\n",
       "│ dense_43 (\u001b[38;5;33mDense\u001b[0m)                │ (\u001b[38;5;45mNone\u001b[0m, \u001b[38;5;34m32\u001b[0m)             │         \u001b[38;5;34m2,080\u001b[0m │\n",
       "├─────────────────────────────────┼────────────────────────┼───────────────┤\n",
       "│ batch_normalization_30          │ (\u001b[38;5;45mNone\u001b[0m, \u001b[38;5;34m32\u001b[0m)             │           \u001b[38;5;34m128\u001b[0m │\n",
       "│ (\u001b[38;5;33mBatchNormalization\u001b[0m)            │                        │               │\n",
       "├─────────────────────────────────┼────────────────────────┼───────────────┤\n",
       "│ dropout_30 (\u001b[38;5;33mDropout\u001b[0m)            │ (\u001b[38;5;45mNone\u001b[0m, \u001b[38;5;34m32\u001b[0m)             │             \u001b[38;5;34m0\u001b[0m │\n",
       "├─────────────────────────────────┼────────────────────────┼───────────────┤\n",
       "│ dense_44 (\u001b[38;5;33mDense\u001b[0m)                │ (\u001b[38;5;45mNone\u001b[0m, \u001b[38;5;34m1\u001b[0m)              │            \u001b[38;5;34m33\u001b[0m │\n",
       "└─────────────────────────────────┴────────────────────────┴───────────────┘\n"
      ]
     },
     "metadata": {},
     "output_type": "display_data"
    },
    {
     "data": {
      "text/html": [
       "<pre style=\"white-space:pre;overflow-x:auto;line-height:normal;font-family:Menlo,'DejaVu Sans Mono',consolas,'Courier New',monospace\"><span style=\"font-weight: bold\"> Total params: </span><span style=\"color: #00af00; text-decoration-color: #00af00\">8,129</span> (31.75 KB)\n",
       "</pre>\n"
      ],
      "text/plain": [
       "\u001b[1m Total params: \u001b[0m\u001b[38;5;34m8,129\u001b[0m (31.75 KB)\n"
      ]
     },
     "metadata": {},
     "output_type": "display_data"
    },
    {
     "data": {
      "text/html": [
       "<pre style=\"white-space:pre;overflow-x:auto;line-height:normal;font-family:Menlo,'DejaVu Sans Mono',consolas,'Courier New',monospace\"><span style=\"font-weight: bold\"> Trainable params: </span><span style=\"color: #00af00; text-decoration-color: #00af00\">7,937</span> (31.00 KB)\n",
       "</pre>\n"
      ],
      "text/plain": [
       "\u001b[1m Trainable params: \u001b[0m\u001b[38;5;34m7,937\u001b[0m (31.00 KB)\n"
      ]
     },
     "metadata": {},
     "output_type": "display_data"
    },
    {
     "data": {
      "text/html": [
       "<pre style=\"white-space:pre;overflow-x:auto;line-height:normal;font-family:Menlo,'DejaVu Sans Mono',consolas,'Courier New',monospace\"><span style=\"font-weight: bold\"> Non-trainable params: </span><span style=\"color: #00af00; text-decoration-color: #00af00\">192</span> (768.00 B)\n",
       "</pre>\n"
      ],
      "text/plain": [
       "\u001b[1m Non-trainable params: \u001b[0m\u001b[38;5;34m192\u001b[0m (768.00 B)\n"
      ]
     },
     "metadata": {},
     "output_type": "display_data"
    }
   ],
   "source": [
    "model.summary()"
   ]
  },
  {
   "cell_type": "code",
   "execution_count": 99,
   "metadata": {},
   "outputs": [
    {
     "name": "stdout",
     "output_type": "stream",
     "text": [
      "Epoch 1/200\n",
      "\u001b[1m325/325\u001b[0m \u001b[32m━━━━━━━━━━━━━━━━━━━━\u001b[0m\u001b[37m\u001b[0m \u001b[1m3s\u001b[0m 4ms/step - loss: 3844.7939 - mae: 59.1439 - val_loss: 2967.7920 - val_mae: 52.3058 - learning_rate: 0.0010\n",
      "Epoch 2/200\n",
      "\u001b[1m325/325\u001b[0m \u001b[32m━━━━━━━━━━━━━━━━━━━━\u001b[0m\u001b[37m\u001b[0m \u001b[1m1s\u001b[0m 3ms/step - loss: 2674.1475 - mae: 49.3559 - val_loss: 1358.2827 - val_mae: 34.2680 - learning_rate: 0.0010\n",
      "Epoch 3/200\n",
      "\u001b[1m325/325\u001b[0m \u001b[32m━━━━━━━━━━━━━━━━━━━━\u001b[0m\u001b[37m\u001b[0m \u001b[1m1s\u001b[0m 3ms/step - loss: 1076.9231 - mae: 29.3594 - val_loss: 383.2626 - val_mae: 16.1697 - learning_rate: 0.0010\n",
      "Epoch 4/200\n",
      "\u001b[1m325/325\u001b[0m \u001b[32m━━━━━━━━━━━━━━━━━━━━\u001b[0m\u001b[37m\u001b[0m \u001b[1m1s\u001b[0m 2ms/step - loss: 359.3310 - mae: 15.3589 - val_loss: 191.3734 - val_mae: 11.0638 - learning_rate: 0.0010\n",
      "Epoch 5/200\n",
      "\u001b[1m325/325\u001b[0m \u001b[32m━━━━━━━━━━━━━━━━━━━━\u001b[0m\u001b[37m\u001b[0m \u001b[1m1s\u001b[0m 2ms/step - loss: 242.1050 - mae: 12.3163 - val_loss: 185.7095 - val_mae: 10.9060 - learning_rate: 0.0010\n",
      "Epoch 6/200\n",
      "\u001b[1m325/325\u001b[0m \u001b[32m━━━━━━━━━━━━━━━━━━━━\u001b[0m\u001b[37m\u001b[0m \u001b[1m1s\u001b[0m 2ms/step - loss: 241.9524 - mae: 12.2636 - val_loss: 184.0735 - val_mae: 10.7708 - learning_rate: 0.0010\n",
      "Epoch 7/200\n",
      "\u001b[1m325/325\u001b[0m \u001b[32m━━━━━━━━━━━━━━━━━━━━\u001b[0m\u001b[37m\u001b[0m \u001b[1m1s\u001b[0m 3ms/step - loss: 231.4498 - mae: 12.0841 - val_loss: 181.2871 - val_mae: 10.6418 - learning_rate: 0.0010\n",
      "Epoch 8/200\n",
      "\u001b[1m325/325\u001b[0m \u001b[32m━━━━━━━━━━━━━━━━━━━━\u001b[0m\u001b[37m\u001b[0m \u001b[1m1s\u001b[0m 2ms/step - loss: 233.0400 - mae: 12.1213 - val_loss: 182.0348 - val_mae: 10.7642 - learning_rate: 0.0010\n",
      "Epoch 9/200\n",
      "\u001b[1m325/325\u001b[0m \u001b[32m━━━━━━━━━━━━━━━━━━━━\u001b[0m\u001b[37m\u001b[0m \u001b[1m1s\u001b[0m 2ms/step - loss: 222.2945 - mae: 11.8278 - val_loss: 181.1111 - val_mae: 10.6857 - learning_rate: 0.0010\n",
      "Epoch 10/200\n",
      "\u001b[1m325/325\u001b[0m \u001b[32m━━━━━━━━━━━━━━━━━━━━\u001b[0m\u001b[37m\u001b[0m \u001b[1m1s\u001b[0m 2ms/step - loss: 224.7913 - mae: 11.9453 - val_loss: 180.0448 - val_mae: 10.6757 - learning_rate: 0.0010\n",
      "Epoch 11/200\n",
      "\u001b[1m325/325\u001b[0m \u001b[32m━━━━━━━━━━━━━━━━━━━━\u001b[0m\u001b[37m\u001b[0m \u001b[1m1s\u001b[0m 2ms/step - loss: 214.8481 - mae: 11.6229 - val_loss: 180.2704 - val_mae: 10.6835 - learning_rate: 0.0010\n",
      "Epoch 12/200\n",
      "\u001b[1m325/325\u001b[0m \u001b[32m━━━━━━━━━━━━━━━━━━━━\u001b[0m\u001b[37m\u001b[0m \u001b[1m1s\u001b[0m 2ms/step - loss: 217.9576 - mae: 11.7762 - val_loss: 180.8611 - val_mae: 10.6468 - learning_rate: 0.0010\n",
      "Epoch 13/200\n",
      "\u001b[1m325/325\u001b[0m \u001b[32m━━━━━━━━━━━━━━━━━━━━\u001b[0m\u001b[37m\u001b[0m \u001b[1m1s\u001b[0m 2ms/step - loss: 218.4217 - mae: 11.7715 - val_loss: 180.0395 - val_mae: 10.5783 - learning_rate: 0.0010\n",
      "Epoch 14/200\n",
      "\u001b[1m325/325\u001b[0m \u001b[32m━━━━━━━━━━━━━━━━━━━━\u001b[0m\u001b[37m\u001b[0m \u001b[1m1s\u001b[0m 2ms/step - loss: 226.2397 - mae: 11.9685 - val_loss: 178.7066 - val_mae: 10.6287 - learning_rate: 0.0010\n",
      "Epoch 15/200\n",
      "\u001b[1m325/325\u001b[0m \u001b[32m━━━━━━━━━━━━━━━━━━━━\u001b[0m\u001b[37m\u001b[0m \u001b[1m1s\u001b[0m 3ms/step - loss: 214.6378 - mae: 11.6075 - val_loss: 179.6093 - val_mae: 10.6075 - learning_rate: 0.0010\n",
      "Epoch 16/200\n",
      "\u001b[1m325/325\u001b[0m \u001b[32m━━━━━━━━━━━━━━━━━━━━\u001b[0m\u001b[37m\u001b[0m \u001b[1m1s\u001b[0m 3ms/step - loss: 215.3688 - mae: 11.5897 - val_loss: 179.1186 - val_mae: 10.6346 - learning_rate: 0.0010\n",
      "Epoch 17/200\n",
      "\u001b[1m325/325\u001b[0m \u001b[32m━━━━━━━━━━━━━━━━━━━━\u001b[0m\u001b[37m\u001b[0m \u001b[1m1s\u001b[0m 3ms/step - loss: 220.3660 - mae: 11.7223 - val_loss: 178.5206 - val_mae: 10.5771 - learning_rate: 0.0010\n",
      "Epoch 18/200\n",
      "\u001b[1m325/325\u001b[0m \u001b[32m━━━━━━━━━━━━━━━━━━━━\u001b[0m\u001b[37m\u001b[0m \u001b[1m1s\u001b[0m 2ms/step - loss: 206.9422 - mae: 11.4861 - val_loss: 178.8848 - val_mae: 10.5446 - learning_rate: 0.0010\n",
      "Epoch 19/200\n",
      "\u001b[1m325/325\u001b[0m \u001b[32m━━━━━━━━━━━━━━━━━━━━\u001b[0m\u001b[37m\u001b[0m \u001b[1m1s\u001b[0m 2ms/step - loss: 216.1951 - mae: 11.7040 - val_loss: 178.2086 - val_mae: 10.5465 - learning_rate: 0.0010\n",
      "Epoch 20/200\n",
      "\u001b[1m325/325\u001b[0m \u001b[32m━━━━━━━━━━━━━━━━━━━━\u001b[0m\u001b[37m\u001b[0m \u001b[1m1s\u001b[0m 2ms/step - loss: 211.0606 - mae: 11.5498 - val_loss: 179.8495 - val_mae: 10.6007 - learning_rate: 0.0010\n",
      "Epoch 21/200\n",
      "\u001b[1m325/325\u001b[0m \u001b[32m━━━━━━━━━━━━━━━━━━━━\u001b[0m\u001b[37m\u001b[0m \u001b[1m1s\u001b[0m 3ms/step - loss: 206.4554 - mae: 11.3527 - val_loss: 180.8163 - val_mae: 10.6879 - learning_rate: 0.0010\n",
      "Epoch 22/200\n",
      "\u001b[1m325/325\u001b[0m \u001b[32m━━━━━━━━━━━━━━━━━━━━\u001b[0m\u001b[37m\u001b[0m \u001b[1m1s\u001b[0m 2ms/step - loss: 206.1123 - mae: 11.4343 - val_loss: 178.6606 - val_mae: 10.5691 - learning_rate: 0.0010\n",
      "Epoch 23/200\n",
      "\u001b[1m325/325\u001b[0m \u001b[32m━━━━━━━━━━━━━━━━━━━━\u001b[0m\u001b[37m\u001b[0m \u001b[1m1s\u001b[0m 2ms/step - loss: 207.7473 - mae: 11.4285 - val_loss: 179.9125 - val_mae: 10.6155 - learning_rate: 0.0010\n",
      "Epoch 24/200\n",
      "\u001b[1m325/325\u001b[0m \u001b[32m━━━━━━━━━━━━━━━━━━━━\u001b[0m\u001b[37m\u001b[0m \u001b[1m1s\u001b[0m 2ms/step - loss: 200.8470 - mae: 11.2748 - val_loss: 179.0704 - val_mae: 10.5922 - learning_rate: 0.0010\n",
      "Epoch 25/200\n",
      "\u001b[1m325/325\u001b[0m \u001b[32m━━━━━━━━━━━━━━━━━━━━\u001b[0m\u001b[37m\u001b[0m \u001b[1m1s\u001b[0m 2ms/step - loss: 197.0737 - mae: 11.1409 - val_loss: 179.4611 - val_mae: 10.5641 - learning_rate: 5.0000e-04\n",
      "Epoch 26/200\n",
      "\u001b[1m325/325\u001b[0m \u001b[32m━━━━━━━━━━━━━━━━━━━━\u001b[0m\u001b[37m\u001b[0m \u001b[1m1s\u001b[0m 2ms/step - loss: 198.5178 - mae: 11.1539 - val_loss: 179.4718 - val_mae: 10.5911 - learning_rate: 5.0000e-04\n",
      "Epoch 27/200\n",
      "\u001b[1m325/325\u001b[0m \u001b[32m━━━━━━━━━━━━━━━━━━━━\u001b[0m\u001b[37m\u001b[0m \u001b[1m1s\u001b[0m 2ms/step - loss: 185.8277 - mae: 10.8159 - val_loss: 179.1491 - val_mae: 10.5456 - learning_rate: 5.0000e-04\n",
      "Epoch 28/200\n",
      "\u001b[1m325/325\u001b[0m \u001b[32m━━━━━━━━━━━━━━━━━━━━\u001b[0m\u001b[37m\u001b[0m \u001b[1m1s\u001b[0m 2ms/step - loss: 196.3623 - mae: 11.1446 - val_loss: 179.4476 - val_mae: 10.5807 - learning_rate: 5.0000e-04\n",
      "Epoch 29/200\n",
      "\u001b[1m325/325\u001b[0m \u001b[32m━━━━━━━━━━━━━━━━━━━━\u001b[0m\u001b[37m\u001b[0m \u001b[1m1s\u001b[0m 3ms/step - loss: 197.9611 - mae: 11.1718 - val_loss: 179.0689 - val_mae: 10.5265 - learning_rate: 5.0000e-04\n",
      "\u001b[1m102/102\u001b[0m \u001b[32m━━━━━━━━━━━━━━━━━━━━\u001b[0m\u001b[37m\u001b[0m \u001b[1m0s\u001b[0m 1ms/step - loss: 181.0759 - mae: 10.5875\n",
      "Test Loss: 184.6675567626953, Test MAE: 10.605928421020508\n"
     ]
    }
   ],
   "source": [
    "from tensorflow.keras.callbacks import EarlyStopping, ReduceLROnPlateau\n",
    "early_stopping = EarlyStopping(monitor='val_loss', patience=10, restore_best_weights=True)\n",
    "reduce_lr = ReduceLROnPlateau(monitor='val_loss', factor=0.5, patience=5, min_lr=1e-6)\n",
    "\n",
    "history = model.fit(\n",
    "    X_train_final, y_train_final,\n",
    "    validation_data=(X_val, y_val),\n",
    "    epochs=200,\n",
    "    batch_size=32,\n",
    "    callbacks=[early_stopping, reduce_lr],\n",
    "    verbose=1\n",
    ")\n",
    "\n",
    "\n",
    "loss, mae = model.evaluate(X_test, y_test)\n",
    "print(f\"Test Loss: {loss}, Test MAE: {mae}\")"
   ]
  },
  {
   "cell_type": "code",
   "execution_count": 100,
   "metadata": {},
   "outputs": [
    {
     "name": "stdout",
     "output_type": "stream",
     "text": [
      "\u001b[1m102/102\u001b[0m \u001b[32m━━━━━━━━━━━━━━━━━━━━\u001b[0m\u001b[37m\u001b[0m \u001b[1m0s\u001b[0m 1ms/step\n",
      "Tolerance Accuracy (±3): 18.01%\n",
      "Tolerance Accuracy (±5): 29.88%\n"
     ]
    }
   ],
   "source": [
    "y_pred = model.predict(X_test).flatten()\n",
    "tolerance_3_accuracy = ((np.abs(y_pred - y_test) <= 3).sum() / len(y_test)) * 100\n",
    "tolerance_5_accuracy = ((np.abs(y_pred - y_test) <= 5).sum() / len(y_test)) * 100\n",
    "\n",
    "print(f\"Tolerance Accuracy (±3): {tolerance_3_accuracy:.2f}%\")\n",
    "print(f\"Tolerance Accuracy (±5): {tolerance_5_accuracy:.2f}%\")"
   ]
  },
  {
   "cell_type": "code",
   "execution_count": 104,
   "metadata": {},
   "outputs": [
    {
     "name": "stdout",
     "output_type": "stream",
     "text": [
      "Fitting 3 folds for each of 72 candidates, totalling 216 fits\n"
     ]
    },
    {
     "name": "stdout",
     "output_type": "stream",
     "text": [
      "Best Parameters: {'colsample_bytree': 0.8, 'learning_rate': 0.1, 'max_depth': 3, 'n_estimators': 200, 'subsample': 0.8}\n",
      "MAE: 10.861464848313991\n",
      "MSE: 190.9694591325847\n",
      "R² Score: 0.5453694095612178\n",
      "Rounded Accuracy: 0.027135368485969782\n",
      "Tolerance Accuracy (±3): 16.77%\n",
      "Tolerance Accuracy (±5): 28.37%\n"
     ]
    }
   ],
   "source": [
    "from sklearn.model_selection import  GridSearchCV\n",
    "from sklearn.metrics import mean_absolute_error, mean_squared_error, r2_score\n",
    "from xgboost import XGBRegressor\n",
    "xgb = XGBRegressor(objective='reg:squarederror', random_state=42)\n",
    "\n",
    "\n",
    "param_grid = {\n",
    "    'n_estimators': [100, 200],\n",
    "    'max_depth': [3, 5, 7],\n",
    "    'learning_rate': [0.01, 0.1, 0.2],\n",
    "    'subsample': [0.8, 1.0],\n",
    "    'colsample_bytree': [0.8, 1.0],\n",
    "}\n",
    "\n",
    "\n",
    "grid_search = GridSearchCV(estimator=xgb, param_grid=param_grid, cv=3, scoring='neg_mean_absolute_error', verbose=1, n_jobs=-1)\n",
    "grid_search.fit(X_train, y_train)\n",
    "\n",
    "best_params = grid_search.best_params_\n",
    "print(\"Best Parameters:\", best_params)\n",
    "\n",
    "best_xgb = grid_search.best_estimator_\n",
    "\n",
    "y_pred = best_xgb.predict(X_test)\n",
    "\n",
    "mae = mean_absolute_error(y_test, y_pred)\n",
    "mse = mean_squared_error(y_test, y_pred)\n",
    "r2 = r2_score(y_test, y_pred)\n",
    "\n",
    "print(f\"MAE: {mae}\")\n",
    "print(f\"MSE: {mse}\")\n",
    "print(f\"R² Score: {r2}\")\n",
    "\n",
    "y_pred_rounded = np.round(y_pred)\n",
    "rounded_accuracy = (y_pred_rounded == y_test).mean()\n",
    "print(f\"Rounded Accuracy: {rounded_accuracy}\")\n",
    "\n",
    "tolerance_3_accuracy = ((np.abs(y_pred - y_test) <= 3).sum() / len(y_test)) * 100\n",
    "tolerance_5_accuracy = ((np.abs(y_pred - y_test) <= 5).sum() / len(y_test)) * 100\n",
    "\n",
    "print(f\"Tolerance Accuracy (±3): {tolerance_3_accuracy:.2f}%\")\n",
    "print(f\"Tolerance Accuracy (±5): {tolerance_5_accuracy:.2f}%\")"
   ]
  },
  {
   "cell_type": "markdown",
   "metadata": {},
   "source": [
    "End"
   ]
  },
  {
   "cell_type": "code",
   "execution_count": 151,
   "metadata": {},
   "outputs": [
    {
     "name": "stderr",
     "output_type": "stream",
     "text": [
      "c:\\Users\\lashicr7\\AppData\\Local\\Programs\\Python\\Python311\\Lib\\site-packages\\keras\\src\\layers\\core\\dense.py:87: UserWarning: Do not pass an `input_shape`/`input_dim` argument to a layer. When using Sequential models, prefer using an `Input(shape)` object as the first layer in the model instead.\n",
      "  super().__init__(activity_regularizer=activity_regularizer, **kwargs)\n"
     ]
    },
    {
     "data": {
      "text/html": [
       "<pre style=\"white-space:pre;overflow-x:auto;line-height:normal;font-family:Menlo,'DejaVu Sans Mono',consolas,'Courier New',monospace\"><span style=\"font-weight: bold\">Model: \"sequential_8\"</span>\n",
       "</pre>\n"
      ],
      "text/plain": [
       "\u001b[1mModel: \"sequential_8\"\u001b[0m\n"
      ]
     },
     "metadata": {},
     "output_type": "display_data"
    },
    {
     "data": {
      "text/html": [
       "<pre style=\"white-space:pre;overflow-x:auto;line-height:normal;font-family:Menlo,'DejaVu Sans Mono',consolas,'Courier New',monospace\">┏━━━━━━━━━━━━━━━━━━━━━━━━━━━━━━━━━┳━━━━━━━━━━━━━━━━━━━━━━━━┳━━━━━━━━━━━━━━━┓\n",
       "┃<span style=\"font-weight: bold\"> Layer (type)                    </span>┃<span style=\"font-weight: bold\"> Output Shape           </span>┃<span style=\"font-weight: bold\">       Param # </span>┃\n",
       "┡━━━━━━━━━━━━━━━━━━━━━━━━━━━━━━━━━╇━━━━━━━━━━━━━━━━━━━━━━━━╇━━━━━━━━━━━━━━━┩\n",
       "│ dense_24 (<span style=\"color: #0087ff; text-decoration-color: #0087ff\">Dense</span>)                │ (<span style=\"color: #00d7ff; text-decoration-color: #00d7ff\">None</span>, <span style=\"color: #00af00; text-decoration-color: #00af00\">16</span>)             │           <span style=\"color: #00af00; text-decoration-color: #00af00\">320</span> │\n",
       "├─────────────────────────────────┼────────────────────────┼───────────────┤\n",
       "│ batch_normalization_8           │ (<span style=\"color: #00d7ff; text-decoration-color: #00d7ff\">None</span>, <span style=\"color: #00af00; text-decoration-color: #00af00\">16</span>)             │            <span style=\"color: #00af00; text-decoration-color: #00af00\">64</span> │\n",
       "│ (<span style=\"color: #0087ff; text-decoration-color: #0087ff\">BatchNormalization</span>)            │                        │               │\n",
       "├─────────────────────────────────┼────────────────────────┼───────────────┤\n",
       "│ dense_25 (<span style=\"color: #0087ff; text-decoration-color: #0087ff\">Dense</span>)                │ (<span style=\"color: #00d7ff; text-decoration-color: #00d7ff\">None</span>, <span style=\"color: #00af00; text-decoration-color: #00af00\">32</span>)             │           <span style=\"color: #00af00; text-decoration-color: #00af00\">544</span> │\n",
       "├─────────────────────────────────┼────────────────────────┼───────────────┤\n",
       "│ dropout_1 (<span style=\"color: #0087ff; text-decoration-color: #0087ff\">Dropout</span>)             │ (<span style=\"color: #00d7ff; text-decoration-color: #00d7ff\">None</span>, <span style=\"color: #00af00; text-decoration-color: #00af00\">32</span>)             │             <span style=\"color: #00af00; text-decoration-color: #00af00\">0</span> │\n",
       "├─────────────────────────────────┼────────────────────────┼───────────────┤\n",
       "│ dense_26 (<span style=\"color: #0087ff; text-decoration-color: #0087ff\">Dense</span>)                │ (<span style=\"color: #00d7ff; text-decoration-color: #00d7ff\">None</span>, <span style=\"color: #00af00; text-decoration-color: #00af00\">101</span>)            │         <span style=\"color: #00af00; text-decoration-color: #00af00\">3,333</span> │\n",
       "└─────────────────────────────────┴────────────────────────┴───────────────┘\n",
       "</pre>\n"
      ],
      "text/plain": [
       "┏━━━━━━━━━━━━━━━━━━━━━━━━━━━━━━━━━┳━━━━━━━━━━━━━━━━━━━━━━━━┳━━━━━━━━━━━━━━━┓\n",
       "┃\u001b[1m \u001b[0m\u001b[1mLayer (type)                   \u001b[0m\u001b[1m \u001b[0m┃\u001b[1m \u001b[0m\u001b[1mOutput Shape          \u001b[0m\u001b[1m \u001b[0m┃\u001b[1m \u001b[0m\u001b[1m      Param #\u001b[0m\u001b[1m \u001b[0m┃\n",
       "┡━━━━━━━━━━━━━━━━━━━━━━━━━━━━━━━━━╇━━━━━━━━━━━━━━━━━━━━━━━━╇━━━━━━━━━━━━━━━┩\n",
       "│ dense_24 (\u001b[38;5;33mDense\u001b[0m)                │ (\u001b[38;5;45mNone\u001b[0m, \u001b[38;5;34m16\u001b[0m)             │           \u001b[38;5;34m320\u001b[0m │\n",
       "├─────────────────────────────────┼────────────────────────┼───────────────┤\n",
       "│ batch_normalization_8           │ (\u001b[38;5;45mNone\u001b[0m, \u001b[38;5;34m16\u001b[0m)             │            \u001b[38;5;34m64\u001b[0m │\n",
       "│ (\u001b[38;5;33mBatchNormalization\u001b[0m)            │                        │               │\n",
       "├─────────────────────────────────┼────────────────────────┼───────────────┤\n",
       "│ dense_25 (\u001b[38;5;33mDense\u001b[0m)                │ (\u001b[38;5;45mNone\u001b[0m, \u001b[38;5;34m32\u001b[0m)             │           \u001b[38;5;34m544\u001b[0m │\n",
       "├─────────────────────────────────┼────────────────────────┼───────────────┤\n",
       "│ dropout_1 (\u001b[38;5;33mDropout\u001b[0m)             │ (\u001b[38;5;45mNone\u001b[0m, \u001b[38;5;34m32\u001b[0m)             │             \u001b[38;5;34m0\u001b[0m │\n",
       "├─────────────────────────────────┼────────────────────────┼───────────────┤\n",
       "│ dense_26 (\u001b[38;5;33mDense\u001b[0m)                │ (\u001b[38;5;45mNone\u001b[0m, \u001b[38;5;34m101\u001b[0m)            │         \u001b[38;5;34m3,333\u001b[0m │\n",
       "└─────────────────────────────────┴────────────────────────┴───────────────┘\n"
      ]
     },
     "metadata": {},
     "output_type": "display_data"
    },
    {
     "data": {
      "text/html": [
       "<pre style=\"white-space:pre;overflow-x:auto;line-height:normal;font-family:Menlo,'DejaVu Sans Mono',consolas,'Courier New',monospace\"><span style=\"font-weight: bold\"> Total params: </span><span style=\"color: #00af00; text-decoration-color: #00af00\">4,261</span> (16.64 KB)\n",
       "</pre>\n"
      ],
      "text/plain": [
       "\u001b[1m Total params: \u001b[0m\u001b[38;5;34m4,261\u001b[0m (16.64 KB)\n"
      ]
     },
     "metadata": {},
     "output_type": "display_data"
    },
    {
     "data": {
      "text/html": [
       "<pre style=\"white-space:pre;overflow-x:auto;line-height:normal;font-family:Menlo,'DejaVu Sans Mono',consolas,'Courier New',monospace\"><span style=\"font-weight: bold\"> Trainable params: </span><span style=\"color: #00af00; text-decoration-color: #00af00\">4,229</span> (16.52 KB)\n",
       "</pre>\n"
      ],
      "text/plain": [
       "\u001b[1m Trainable params: \u001b[0m\u001b[38;5;34m4,229\u001b[0m (16.52 KB)\n"
      ]
     },
     "metadata": {},
     "output_type": "display_data"
    },
    {
     "data": {
      "text/html": [
       "<pre style=\"white-space:pre;overflow-x:auto;line-height:normal;font-family:Menlo,'DejaVu Sans Mono',consolas,'Courier New',monospace\"><span style=\"font-weight: bold\"> Non-trainable params: </span><span style=\"color: #00af00; text-decoration-color: #00af00\">32</span> (128.00 B)\n",
       "</pre>\n"
      ],
      "text/plain": [
       "\u001b[1m Non-trainable params: \u001b[0m\u001b[38;5;34m32\u001b[0m (128.00 B)\n"
      ]
     },
     "metadata": {},
     "output_type": "display_data"
    },
    {
     "name": "stdout",
     "output_type": "stream",
     "text": [
      "Epoch 1/200\n"
     ]
    },
    {
     "name": "stdout",
     "output_type": "stream",
     "text": [
      "\u001b[1m628/628\u001b[0m \u001b[32m━━━━━━━━━━━━━━━━━━━━\u001b[0m\u001b[37m\u001b[0m \u001b[1m3s\u001b[0m 2ms/step - accuracy: 0.0223 - loss: 4.4194 - val_accuracy: 0.0464 - val_loss: 4.2434\n",
      "Epoch 2/200\n",
      "\u001b[1m628/628\u001b[0m \u001b[32m━━━━━━━━━━━━━━━━━━━━\u001b[0m\u001b[37m\u001b[0m \u001b[1m1s\u001b[0m 2ms/step - accuracy: 0.0533 - loss: 4.0919 - val_accuracy: 0.0745 - val_loss: 3.9482\n",
      "Epoch 3/200\n",
      "\u001b[1m628/628\u001b[0m \u001b[32m━━━━━━━━━━━━━━━━━━━━\u001b[0m\u001b[37m\u001b[0m \u001b[1m1s\u001b[0m 2ms/step - accuracy: 0.0772 - loss: 3.9426 - val_accuracy: 0.0935 - val_loss: 3.8559\n",
      "Epoch 4/200\n",
      "\u001b[1m628/628\u001b[0m \u001b[32m━━━━━━━━━━━━━━━━━━━━\u001b[0m\u001b[37m\u001b[0m \u001b[1m1s\u001b[0m 2ms/step - accuracy: 0.0916 - loss: 3.8729 - val_accuracy: 0.0943 - val_loss: 3.8636\n",
      "Epoch 5/200\n",
      "\u001b[1m628/628\u001b[0m \u001b[32m━━━━━━━━━━━━━━━━━━━━\u001b[0m\u001b[37m\u001b[0m \u001b[1m1s\u001b[0m 2ms/step - accuracy: 0.1009 - loss: 3.8388 - val_accuracy: 0.1076 - val_loss: 3.8081\n",
      "Epoch 6/200\n",
      "\u001b[1m628/628\u001b[0m \u001b[32m━━━━━━━━━━━━━━━━━━━━\u001b[0m\u001b[37m\u001b[0m \u001b[1m1s\u001b[0m 2ms/step - accuracy: 0.1079 - loss: 3.8045 - val_accuracy: 0.1034 - val_loss: 3.8120\n",
      "Epoch 7/200\n",
      "\u001b[1m628/628\u001b[0m \u001b[32m━━━━━━━━━━━━━━━━━━━━\u001b[0m\u001b[37m\u001b[0m \u001b[1m1s\u001b[0m 1ms/step - accuracy: 0.1055 - loss: 3.7805 - val_accuracy: 0.1106 - val_loss: 3.7480\n",
      "Epoch 8/200\n",
      "\u001b[1m628/628\u001b[0m \u001b[32m━━━━━━━━━━━━━━━━━━━━\u001b[0m\u001b[37m\u001b[0m \u001b[1m1s\u001b[0m 2ms/step - accuracy: 0.1127 - loss: 3.7458 - val_accuracy: 0.1104 - val_loss: 3.7283\n",
      "Epoch 9/200\n",
      "\u001b[1m628/628\u001b[0m \u001b[32m━━━━━━━━━━━━━━━━━━━━\u001b[0m\u001b[37m\u001b[0m \u001b[1m2s\u001b[0m 2ms/step - accuracy: 0.1164 - loss: 3.7455 - val_accuracy: 0.1090 - val_loss: 3.7235\n",
      "Epoch 10/200\n",
      "\u001b[1m628/628\u001b[0m \u001b[32m━━━━━━━━━━━━━━━━━━━━\u001b[0m\u001b[37m\u001b[0m \u001b[1m1s\u001b[0m 1ms/step - accuracy: 0.1177 - loss: 3.7317 - val_accuracy: 0.1176 - val_loss: 3.6924\n",
      "Epoch 11/200\n",
      "\u001b[1m628/628\u001b[0m \u001b[32m━━━━━━━━━━━━━━━━━━━━\u001b[0m\u001b[37m\u001b[0m \u001b[1m1s\u001b[0m 1ms/step - accuracy: 0.1237 - loss: 3.7001 - val_accuracy: 0.1253 - val_loss: 3.6760\n",
      "Epoch 12/200\n",
      "\u001b[1m628/628\u001b[0m \u001b[32m━━━━━━━━━━━━━━━━━━━━\u001b[0m\u001b[37m\u001b[0m \u001b[1m1s\u001b[0m 2ms/step - accuracy: 0.1195 - loss: 3.7008 - val_accuracy: 0.1232 - val_loss: 3.6669\n",
      "Epoch 13/200\n",
      "\u001b[1m628/628\u001b[0m \u001b[32m━━━━━━━━━━━━━━━━━━━━\u001b[0m\u001b[37m\u001b[0m \u001b[1m1s\u001b[0m 2ms/step - accuracy: 0.1263 - loss: 3.6824 - val_accuracy: 0.1162 - val_loss: 3.6905\n",
      "Epoch 14/200\n",
      "\u001b[1m628/628\u001b[0m \u001b[32m━━━━━━━━━━━━━━━━━━━━\u001b[0m\u001b[37m\u001b[0m \u001b[1m1s\u001b[0m 2ms/step - accuracy: 0.1237 - loss: 3.6803 - val_accuracy: 0.1333 - val_loss: 3.6669\n",
      "Epoch 15/200\n",
      "\u001b[1m628/628\u001b[0m \u001b[32m━━━━━━━━━━━━━━━━━━━━\u001b[0m\u001b[37m\u001b[0m \u001b[1m1s\u001b[0m 2ms/step - accuracy: 0.1258 - loss: 3.6709 - val_accuracy: 0.1251 - val_loss: 3.6600\n",
      "Epoch 16/200\n",
      "\u001b[1m628/628\u001b[0m \u001b[32m━━━━━━━━━━━━━━━━━━━━\u001b[0m\u001b[37m\u001b[0m \u001b[1m2s\u001b[0m 4ms/step - accuracy: 0.1262 - loss: 3.6785 - val_accuracy: 0.1198 - val_loss: 3.6865\n",
      "Epoch 17/200\n",
      "\u001b[1m628/628\u001b[0m \u001b[32m━━━━━━━━━━━━━━━━━━━━\u001b[0m\u001b[37m\u001b[0m \u001b[1m2s\u001b[0m 3ms/step - accuracy: 0.1291 - loss: 3.6576 - val_accuracy: 0.1327 - val_loss: 3.6402\n",
      "Epoch 18/200\n",
      "\u001b[1m628/628\u001b[0m \u001b[32m━━━━━━━━━━━━━━━━━━━━\u001b[0m\u001b[37m\u001b[0m \u001b[1m1s\u001b[0m 2ms/step - accuracy: 0.1317 - loss: 3.6437 - val_accuracy: 0.1357 - val_loss: 3.6461\n",
      "Epoch 19/200\n",
      "\u001b[1m628/628\u001b[0m \u001b[32m━━━━━━━━━━━━━━━━━━━━\u001b[0m\u001b[37m\u001b[0m \u001b[1m1s\u001b[0m 2ms/step - accuracy: 0.1323 - loss: 3.6462 - val_accuracy: 0.1333 - val_loss: 3.6397\n",
      "Epoch 20/200\n",
      "\u001b[1m628/628\u001b[0m \u001b[32m━━━━━━━━━━━━━━━━━━━━\u001b[0m\u001b[37m\u001b[0m \u001b[1m1s\u001b[0m 2ms/step - accuracy: 0.1296 - loss: 3.6605 - val_accuracy: 0.1347 - val_loss: 3.6598\n",
      "Epoch 21/200\n",
      "\u001b[1m628/628\u001b[0m \u001b[32m━━━━━━━━━━━━━━━━━━━━\u001b[0m\u001b[37m\u001b[0m \u001b[1m1s\u001b[0m 2ms/step - accuracy: 0.1390 - loss: 3.6273 - val_accuracy: 0.1293 - val_loss: 3.6982\n",
      "Epoch 22/200\n",
      "\u001b[1m628/628\u001b[0m \u001b[32m━━━━━━━━━━━━━━━━━━━━\u001b[0m\u001b[37m\u001b[0m \u001b[1m1s\u001b[0m 2ms/step - accuracy: 0.1308 - loss: 3.6270 - val_accuracy: 0.1345 - val_loss: 3.6608\n",
      "Epoch 23/200\n",
      "\u001b[1m628/628\u001b[0m \u001b[32m━━━━━━━━━━━━━━━━━━━━\u001b[0m\u001b[37m\u001b[0m \u001b[1m1s\u001b[0m 2ms/step - accuracy: 0.1335 - loss: 3.6551 - val_accuracy: 0.1321 - val_loss: 3.6701\n",
      "Epoch 24/200\n",
      "\u001b[1m628/628\u001b[0m \u001b[32m━━━━━━━━━━━━━━━━━━━━\u001b[0m\u001b[37m\u001b[0m \u001b[1m1s\u001b[0m 2ms/step - accuracy: 0.1359 - loss: 3.6265 - val_accuracy: 0.1427 - val_loss: 3.6094\n",
      "Epoch 25/200\n",
      "\u001b[1m628/628\u001b[0m \u001b[32m━━━━━━━━━━━━━━━━━━━━\u001b[0m\u001b[37m\u001b[0m \u001b[1m1s\u001b[0m 2ms/step - accuracy: 0.1330 - loss: 3.6013 - val_accuracy: 0.1389 - val_loss: 3.6349\n",
      "Epoch 26/200\n",
      "\u001b[1m628/628\u001b[0m \u001b[32m━━━━━━━━━━━━━━━━━━━━\u001b[0m\u001b[37m\u001b[0m \u001b[1m1s\u001b[0m 2ms/step - accuracy: 0.1293 - loss: 3.6380 - val_accuracy: 0.1395 - val_loss: 3.6313\n",
      "Epoch 27/200\n",
      "\u001b[1m628/628\u001b[0m \u001b[32m━━━━━━━━━━━━━━━━━━━━\u001b[0m\u001b[37m\u001b[0m \u001b[1m1s\u001b[0m 2ms/step - accuracy: 0.1369 - loss: 3.6038 - val_accuracy: 0.1385 - val_loss: 3.6100\n",
      "Epoch 28/200\n",
      "\u001b[1m628/628\u001b[0m \u001b[32m━━━━━━━━━━━━━━━━━━━━\u001b[0m\u001b[37m\u001b[0m \u001b[1m1s\u001b[0m 2ms/step - accuracy: 0.1331 - loss: 3.6161 - val_accuracy: 0.1427 - val_loss: 3.6160\n",
      "Epoch 29/200\n",
      "\u001b[1m628/628\u001b[0m \u001b[32m━━━━━━━━━━━━━━━━━━━━\u001b[0m\u001b[37m\u001b[0m \u001b[1m1s\u001b[0m 2ms/step - accuracy: 0.1382 - loss: 3.5958 - val_accuracy: 0.1437 - val_loss: 3.6288\n",
      "Epoch 30/200\n",
      "\u001b[1m628/628\u001b[0m \u001b[32m━━━━━━━━━━━━━━━━━━━━\u001b[0m\u001b[37m\u001b[0m \u001b[1m1s\u001b[0m 2ms/step - accuracy: 0.1364 - loss: 3.5937 - val_accuracy: 0.1477 - val_loss: 3.6098\n",
      "Epoch 31/200\n",
      "\u001b[1m628/628\u001b[0m \u001b[32m━━━━━━━━━━━━━━━━━━━━\u001b[0m\u001b[37m\u001b[0m \u001b[1m1s\u001b[0m 2ms/step - accuracy: 0.1363 - loss: 3.6166 - val_accuracy: 0.1461 - val_loss: 3.6018\n",
      "Epoch 32/200\n",
      "\u001b[1m628/628\u001b[0m \u001b[32m━━━━━━━━━━━━━━━━━━━━\u001b[0m\u001b[37m\u001b[0m \u001b[1m1s\u001b[0m 2ms/step - accuracy: 0.1397 - loss: 3.5937 - val_accuracy: 0.1473 - val_loss: 3.5901\n",
      "Epoch 33/200\n",
      "\u001b[1m628/628\u001b[0m \u001b[32m━━━━━━━━━━━━━━━━━━━━\u001b[0m\u001b[37m\u001b[0m \u001b[1m2s\u001b[0m 4ms/step - accuracy: 0.1364 - loss: 3.5949 - val_accuracy: 0.1499 - val_loss: 3.5915\n",
      "Epoch 34/200\n",
      "\u001b[1m628/628\u001b[0m \u001b[32m━━━━━━━━━━━━━━━━━━━━\u001b[0m\u001b[37m\u001b[0m \u001b[1m2s\u001b[0m 3ms/step - accuracy: 0.1334 - loss: 3.6042 - val_accuracy: 0.1495 - val_loss: 3.5923\n",
      "Epoch 35/200\n",
      "\u001b[1m628/628\u001b[0m \u001b[32m━━━━━━━━━━━━━━━━━━━━\u001b[0m\u001b[37m\u001b[0m \u001b[1m1s\u001b[0m 2ms/step - accuracy: 0.1411 - loss: 3.5949 - val_accuracy: 0.1517 - val_loss: 3.5985\n",
      "Epoch 36/200\n",
      "\u001b[1m628/628\u001b[0m \u001b[32m━━━━━━━━━━━━━━━━━━━━\u001b[0m\u001b[37m\u001b[0m \u001b[1m1s\u001b[0m 2ms/step - accuracy: 0.1375 - loss: 3.6011 - val_accuracy: 0.1459 - val_loss: 3.5986\n",
      "Epoch 37/200\n",
      "\u001b[1m628/628\u001b[0m \u001b[32m━━━━━━━━━━━━━━━━━━━━\u001b[0m\u001b[37m\u001b[0m \u001b[1m1s\u001b[0m 2ms/step - accuracy: 0.1388 - loss: 3.5910 - val_accuracy: 0.1399 - val_loss: 3.6140\n",
      "Epoch 38/200\n",
      "\u001b[1m628/628\u001b[0m \u001b[32m━━━━━━━━━━━━━━━━━━━━\u001b[0m\u001b[37m\u001b[0m \u001b[1m1s\u001b[0m 2ms/step - accuracy: 0.1382 - loss: 3.5990 - val_accuracy: 0.1517 - val_loss: 3.5892\n",
      "Epoch 39/200\n",
      "\u001b[1m628/628\u001b[0m \u001b[32m━━━━━━━━━━━━━━━━━━━━\u001b[0m\u001b[37m\u001b[0m \u001b[1m1s\u001b[0m 2ms/step - accuracy: 0.1384 - loss: 3.5913 - val_accuracy: 0.1527 - val_loss: 3.5837\n",
      "Epoch 40/200\n",
      "\u001b[1m628/628\u001b[0m \u001b[32m━━━━━━━━━━━━━━━━━━━━\u001b[0m\u001b[37m\u001b[0m \u001b[1m1s\u001b[0m 2ms/step - accuracy: 0.1410 - loss: 3.5867 - val_accuracy: 0.1459 - val_loss: 3.6095\n",
      "Epoch 41/200\n",
      "\u001b[1m628/628\u001b[0m \u001b[32m━━━━━━━━━━━━━━━━━━━━\u001b[0m\u001b[37m\u001b[0m \u001b[1m1s\u001b[0m 2ms/step - accuracy: 0.1421 - loss: 3.5896 - val_accuracy: 0.1411 - val_loss: 3.6155\n",
      "Epoch 42/200\n",
      "\u001b[1m628/628\u001b[0m \u001b[32m━━━━━━━━━━━━━━━━━━━━\u001b[0m\u001b[37m\u001b[0m \u001b[1m1s\u001b[0m 2ms/step - accuracy: 0.1393 - loss: 3.6012 - val_accuracy: 0.1519 - val_loss: 3.5888\n",
      "Epoch 43/200\n",
      "\u001b[1m628/628\u001b[0m \u001b[32m━━━━━━━━━━━━━━━━━━━━\u001b[0m\u001b[37m\u001b[0m \u001b[1m1s\u001b[0m 1ms/step - accuracy: 0.1390 - loss: 3.5858 - val_accuracy: 0.1459 - val_loss: 3.6044\n",
      "Epoch 44/200\n",
      "\u001b[1m628/628\u001b[0m \u001b[32m━━━━━━━━━━━━━━━━━━━━\u001b[0m\u001b[37m\u001b[0m \u001b[1m1s\u001b[0m 1ms/step - accuracy: 0.1435 - loss: 3.5834 - val_accuracy: 0.1493 - val_loss: 3.6320\n",
      "Epoch 45/200\n",
      "\u001b[1m628/628\u001b[0m \u001b[32m━━━━━━━━━━━━━━━━━━━━\u001b[0m\u001b[37m\u001b[0m \u001b[1m1s\u001b[0m 1ms/step - accuracy: 0.1396 - loss: 3.5770 - val_accuracy: 0.1481 - val_loss: 3.6062\n",
      "Epoch 46/200\n",
      "\u001b[1m628/628\u001b[0m \u001b[32m━━━━━━━━━━━━━━━━━━━━\u001b[0m\u001b[37m\u001b[0m \u001b[1m1s\u001b[0m 2ms/step - accuracy: 0.1426 - loss: 3.5776 - val_accuracy: 0.1471 - val_loss: 3.6225\n",
      "Epoch 47/200\n",
      "\u001b[1m628/628\u001b[0m \u001b[32m━━━━━━━━━━━━━━━━━━━━\u001b[0m\u001b[37m\u001b[0m \u001b[1m1s\u001b[0m 2ms/step - accuracy: 0.1492 - loss: 3.5627 - val_accuracy: 0.1489 - val_loss: 3.6028\n",
      "Epoch 48/200\n",
      "\u001b[1m628/628\u001b[0m \u001b[32m━━━━━━━━━━━━━━━━━━━━\u001b[0m\u001b[37m\u001b[0m \u001b[1m1s\u001b[0m 1ms/step - accuracy: 0.1425 - loss: 3.5692 - val_accuracy: 0.1578 - val_loss: 3.5834\n",
      "Epoch 49/200\n",
      "\u001b[1m628/628\u001b[0m \u001b[32m━━━━━━━━━━━━━━━━━━━━\u001b[0m\u001b[37m\u001b[0m \u001b[1m1s\u001b[0m 2ms/step - accuracy: 0.1423 - loss: 3.5758 - val_accuracy: 0.1560 - val_loss: 3.5720\n",
      "Epoch 50/200\n",
      "\u001b[1m628/628\u001b[0m \u001b[32m━━━━━━━━━━━━━━━━━━━━\u001b[0m\u001b[37m\u001b[0m \u001b[1m1s\u001b[0m 2ms/step - accuracy: 0.1452 - loss: 3.5774 - val_accuracy: 0.1495 - val_loss: 3.5998\n",
      "Epoch 51/200\n",
      "\u001b[1m628/628\u001b[0m \u001b[32m━━━━━━━━━━━━━━━━━━━━\u001b[0m\u001b[37m\u001b[0m \u001b[1m1s\u001b[0m 2ms/step - accuracy: 0.1429 - loss: 3.5661 - val_accuracy: 0.1525 - val_loss: 3.5821\n",
      "Epoch 52/200\n",
      "\u001b[1m628/628\u001b[0m \u001b[32m━━━━━━━━━━━━━━━━━━━━\u001b[0m\u001b[37m\u001b[0m \u001b[1m1s\u001b[0m 2ms/step - accuracy: 0.1457 - loss: 3.5528 - val_accuracy: 0.1477 - val_loss: 3.5895\n",
      "Epoch 53/200\n",
      "\u001b[1m628/628\u001b[0m \u001b[32m━━━━━━━━━━━━━━━━━━━━\u001b[0m\u001b[37m\u001b[0m \u001b[1m1s\u001b[0m 2ms/step - accuracy: 0.1444 - loss: 3.5932 - val_accuracy: 0.1435 - val_loss: 3.6110\n",
      "Epoch 54/200\n",
      "\u001b[1m628/628\u001b[0m \u001b[32m━━━━━━━━━━━━━━━━━━━━\u001b[0m\u001b[37m\u001b[0m \u001b[1m1s\u001b[0m 2ms/step - accuracy: 0.1400 - loss: 3.5674 - val_accuracy: 0.1556 - val_loss: 3.5696\n",
      "Epoch 55/200\n",
      "\u001b[1m628/628\u001b[0m \u001b[32m━━━━━━━━━━━━━━━━━━━━\u001b[0m\u001b[37m\u001b[0m \u001b[1m1s\u001b[0m 2ms/step - accuracy: 0.1398 - loss: 3.5716 - val_accuracy: 0.1495 - val_loss: 3.5819\n",
      "Epoch 56/200\n",
      "\u001b[1m628/628\u001b[0m \u001b[32m━━━━━━━━━━━━━━━━━━━━\u001b[0m\u001b[37m\u001b[0m \u001b[1m1s\u001b[0m 1ms/step - accuracy: 0.1460 - loss: 3.5554 - val_accuracy: 0.1489 - val_loss: 3.5854\n",
      "Epoch 57/200\n",
      "\u001b[1m628/628\u001b[0m \u001b[32m━━━━━━━━━━━━━━━━━━━━\u001b[0m\u001b[37m\u001b[0m \u001b[1m1s\u001b[0m 2ms/step - accuracy: 0.1451 - loss: 3.5667 - val_accuracy: 0.1582 - val_loss: 3.5655\n",
      "Epoch 58/200\n",
      "\u001b[1m628/628\u001b[0m \u001b[32m━━━━━━━━━━━━━━━━━━━━\u001b[0m\u001b[37m\u001b[0m \u001b[1m1s\u001b[0m 2ms/step - accuracy: 0.1472 - loss: 3.5647 - val_accuracy: 0.1528 - val_loss: 3.5904\n",
      "Epoch 59/200\n",
      "\u001b[1m628/628\u001b[0m \u001b[32m━━━━━━━━━━━━━━━━━━━━\u001b[0m\u001b[37m\u001b[0m \u001b[1m1s\u001b[0m 2ms/step - accuracy: 0.1438 - loss: 3.5610 - val_accuracy: 0.1491 - val_loss: 3.5906\n",
      "Epoch 60/200\n",
      "\u001b[1m628/628\u001b[0m \u001b[32m━━━━━━━━━━━━━━━━━━━━\u001b[0m\u001b[37m\u001b[0m \u001b[1m1s\u001b[0m 2ms/step - accuracy: 0.1448 - loss: 3.5661 - val_accuracy: 0.1429 - val_loss: 3.6194\n",
      "Epoch 61/200\n",
      "\u001b[1m628/628\u001b[0m \u001b[32m━━━━━━━━━━━━━━━━━━━━\u001b[0m\u001b[37m\u001b[0m \u001b[1m1s\u001b[0m 1ms/step - accuracy: 0.1456 - loss: 3.5596 - val_accuracy: 0.1598 - val_loss: 3.5657\n",
      "Epoch 62/200\n",
      "\u001b[1m628/628\u001b[0m \u001b[32m━━━━━━━━━━━━━━━━━━━━\u001b[0m\u001b[37m\u001b[0m \u001b[1m1s\u001b[0m 2ms/step - accuracy: 0.1495 - loss: 3.5539 - val_accuracy: 0.1534 - val_loss: 3.5601\n",
      "Epoch 63/200\n",
      "\u001b[1m628/628\u001b[0m \u001b[32m━━━━━━━━━━━━━━━━━━━━\u001b[0m\u001b[37m\u001b[0m \u001b[1m1s\u001b[0m 2ms/step - accuracy: 0.1457 - loss: 3.5596 - val_accuracy: 0.1513 - val_loss: 3.6159\n",
      "Epoch 64/200\n",
      "\u001b[1m628/628\u001b[0m \u001b[32m━━━━━━━━━━━━━━━━━━━━\u001b[0m\u001b[37m\u001b[0m \u001b[1m1s\u001b[0m 1ms/step - accuracy: 0.1478 - loss: 3.5693 - val_accuracy: 0.1556 - val_loss: 3.5715\n",
      "Epoch 65/200\n",
      "\u001b[1m628/628\u001b[0m \u001b[32m━━━━━━━━━━━━━━━━━━━━\u001b[0m\u001b[37m\u001b[0m \u001b[1m1s\u001b[0m 1ms/step - accuracy: 0.1457 - loss: 3.5610 - val_accuracy: 0.1530 - val_loss: 3.5750\n",
      "Epoch 66/200\n",
      "\u001b[1m628/628\u001b[0m \u001b[32m━━━━━━━━━━━━━━━━━━━━\u001b[0m\u001b[37m\u001b[0m \u001b[1m1s\u001b[0m 2ms/step - accuracy: 0.1454 - loss: 3.5608 - val_accuracy: 0.1471 - val_loss: 3.5890\n",
      "Epoch 67/200\n",
      "\u001b[1m628/628\u001b[0m \u001b[32m━━━━━━━━━━━━━━━━━━━━\u001b[0m\u001b[37m\u001b[0m \u001b[1m1s\u001b[0m 1ms/step - accuracy: 0.1435 - loss: 3.5715 - val_accuracy: 0.1469 - val_loss: 3.5833\n",
      "Epoch 68/200\n",
      "\u001b[1m628/628\u001b[0m \u001b[32m━━━━━━━━━━━━━━━━━━━━\u001b[0m\u001b[37m\u001b[0m \u001b[1m1s\u001b[0m 1ms/step - accuracy: 0.1555 - loss: 3.5462 - val_accuracy: 0.1485 - val_loss: 3.5822\n",
      "Epoch 69/200\n",
      "\u001b[1m628/628\u001b[0m \u001b[32m━━━━━━━━━━━━━━━━━━━━\u001b[0m\u001b[37m\u001b[0m \u001b[1m1s\u001b[0m 2ms/step - accuracy: 0.1462 - loss: 3.5608 - val_accuracy: 0.1558 - val_loss: 3.5530\n",
      "Epoch 70/200\n",
      "\u001b[1m628/628\u001b[0m \u001b[32m━━━━━━━━━━━━━━━━━━━━\u001b[0m\u001b[37m\u001b[0m \u001b[1m1s\u001b[0m 2ms/step - accuracy: 0.1457 - loss: 3.5437 - val_accuracy: 0.1570 - val_loss: 3.5707\n",
      "Epoch 71/200\n",
      "\u001b[1m628/628\u001b[0m \u001b[32m━━━━━━━━━━━━━━━━━━━━\u001b[0m\u001b[37m\u001b[0m \u001b[1m1s\u001b[0m 1ms/step - accuracy: 0.1471 - loss: 3.5600 - val_accuracy: 0.1572 - val_loss: 3.5684\n",
      "Epoch 72/200\n",
      "\u001b[1m628/628\u001b[0m \u001b[32m━━━━━━━━━━━━━━━━━━━━\u001b[0m\u001b[37m\u001b[0m \u001b[1m1s\u001b[0m 1ms/step - accuracy: 0.1484 - loss: 3.5559 - val_accuracy: 0.1568 - val_loss: 3.5749\n",
      "Epoch 73/200\n",
      "\u001b[1m628/628\u001b[0m \u001b[32m━━━━━━━━━━━━━━━━━━━━\u001b[0m\u001b[37m\u001b[0m \u001b[1m1s\u001b[0m 2ms/step - accuracy: 0.1487 - loss: 3.5611 - val_accuracy: 0.1548 - val_loss: 3.5739\n",
      "Epoch 74/200\n",
      "\u001b[1m628/628\u001b[0m \u001b[32m━━━━━━━━━━━━━━━━━━━━\u001b[0m\u001b[37m\u001b[0m \u001b[1m1s\u001b[0m 1ms/step - accuracy: 0.1519 - loss: 3.5475 - val_accuracy: 0.1505 - val_loss: 3.5975\n",
      "Epoch 75/200\n",
      "\u001b[1m628/628\u001b[0m \u001b[32m━━━━━━━━━━━━━━━━━━━━\u001b[0m\u001b[37m\u001b[0m \u001b[1m1s\u001b[0m 1ms/step - accuracy: 0.1458 - loss: 3.5537 - val_accuracy: 0.1501 - val_loss: 3.5820\n",
      "Epoch 76/200\n",
      "\u001b[1m628/628\u001b[0m \u001b[32m━━━━━━━━━━━━━━━━━━━━\u001b[0m\u001b[37m\u001b[0m \u001b[1m1s\u001b[0m 1ms/step - accuracy: 0.1481 - loss: 3.5499 - val_accuracy: 0.1578 - val_loss: 3.5597\n",
      "Epoch 77/200\n",
      "\u001b[1m628/628\u001b[0m \u001b[32m━━━━━━━━━━━━━━━━━━━━\u001b[0m\u001b[37m\u001b[0m \u001b[1m1s\u001b[0m 1ms/step - accuracy: 0.1483 - loss: 3.5405 - val_accuracy: 0.1570 - val_loss: 3.5583\n",
      "Epoch 78/200\n",
      "\u001b[1m628/628\u001b[0m \u001b[32m━━━━━━━━━━━━━━━━━━━━\u001b[0m\u001b[37m\u001b[0m \u001b[1m1s\u001b[0m 1ms/step - accuracy: 0.1540 - loss: 3.5457 - val_accuracy: 0.1515 - val_loss: 3.5673\n",
      "Epoch 79/200\n",
      "\u001b[1m628/628\u001b[0m \u001b[32m━━━━━━━━━━━━━━━━━━━━\u001b[0m\u001b[37m\u001b[0m \u001b[1m1s\u001b[0m 1ms/step - accuracy: 0.1516 - loss: 3.5412 - val_accuracy: 0.1546 - val_loss: 3.5675\n",
      "Epoch 80/200\n",
      "\u001b[1m628/628\u001b[0m \u001b[32m━━━━━━━━━━━━━━━━━━━━\u001b[0m\u001b[37m\u001b[0m \u001b[1m1s\u001b[0m 2ms/step - accuracy: 0.1527 - loss: 3.5594 - val_accuracy: 0.1493 - val_loss: 3.5853\n",
      "Epoch 81/200\n",
      "\u001b[1m628/628\u001b[0m \u001b[32m━━━━━━━━━━━━━━━━━━━━\u001b[0m\u001b[37m\u001b[0m \u001b[1m1s\u001b[0m 2ms/step - accuracy: 0.1488 - loss: 3.5459 - val_accuracy: 0.1509 - val_loss: 3.5669\n",
      "Epoch 82/200\n",
      "\u001b[1m628/628\u001b[0m \u001b[32m━━━━━━━━━━━━━━━━━━━━\u001b[0m\u001b[37m\u001b[0m \u001b[1m1s\u001b[0m 1ms/step - accuracy: 0.1488 - loss: 3.5461 - val_accuracy: 0.1534 - val_loss: 3.5765\n",
      "Epoch 83/200\n",
      "\u001b[1m628/628\u001b[0m \u001b[32m━━━━━━━━━━━━━━━━━━━━\u001b[0m\u001b[37m\u001b[0m \u001b[1m1s\u001b[0m 1ms/step - accuracy: 0.1507 - loss: 3.5429 - val_accuracy: 0.1588 - val_loss: 3.5573\n",
      "Epoch 84/200\n",
      "\u001b[1m628/628\u001b[0m \u001b[32m━━━━━━━━━━━━━━━━━━━━\u001b[0m\u001b[37m\u001b[0m \u001b[1m1s\u001b[0m 2ms/step - accuracy: 0.1513 - loss: 3.5386 - val_accuracy: 0.1523 - val_loss: 3.5673\n",
      "Epoch 85/200\n",
      "\u001b[1m628/628\u001b[0m \u001b[32m━━━━━━━━━━━━━━━━━━━━\u001b[0m\u001b[37m\u001b[0m \u001b[1m2s\u001b[0m 4ms/step - accuracy: 0.1519 - loss: 3.5267 - val_accuracy: 0.1517 - val_loss: 3.5639\n",
      "Epoch 86/200\n",
      "\u001b[1m628/628\u001b[0m \u001b[32m━━━━━━━━━━━━━━━━━━━━\u001b[0m\u001b[37m\u001b[0m \u001b[1m1s\u001b[0m 2ms/step - accuracy: 0.1499 - loss: 3.5460 - val_accuracy: 0.1538 - val_loss: 3.5680\n",
      "Epoch 87/200\n",
      "\u001b[1m628/628\u001b[0m \u001b[32m━━━━━━━━━━━━━━━━━━━━\u001b[0m\u001b[37m\u001b[0m \u001b[1m1s\u001b[0m 1ms/step - accuracy: 0.1517 - loss: 3.5407 - val_accuracy: 0.1564 - val_loss: 3.5517\n",
      "Epoch 88/200\n",
      "\u001b[1m628/628\u001b[0m \u001b[32m━━━━━━━━━━━━━━━━━━━━\u001b[0m\u001b[37m\u001b[0m \u001b[1m1s\u001b[0m 2ms/step - accuracy: 0.1524 - loss: 3.5272 - val_accuracy: 0.1562 - val_loss: 3.5415\n",
      "Epoch 89/200\n",
      "\u001b[1m628/628\u001b[0m \u001b[32m━━━━━━━━━━━━━━━━━━━━\u001b[0m\u001b[37m\u001b[0m \u001b[1m1s\u001b[0m 2ms/step - accuracy: 0.1526 - loss: 3.5336 - val_accuracy: 0.1540 - val_loss: 3.5600\n",
      "Epoch 90/200\n",
      "\u001b[1m628/628\u001b[0m \u001b[32m━━━━━━━━━━━━━━━━━━━━\u001b[0m\u001b[37m\u001b[0m \u001b[1m3s\u001b[0m 4ms/step - accuracy: 0.1508 - loss: 3.5407 - val_accuracy: 0.1558 - val_loss: 3.5525\n",
      "Epoch 91/200\n",
      "\u001b[1m628/628\u001b[0m \u001b[32m━━━━━━━━━━━━━━━━━━━━\u001b[0m\u001b[37m\u001b[0m \u001b[1m1s\u001b[0m 2ms/step - accuracy: 0.1463 - loss: 3.5562 - val_accuracy: 0.1590 - val_loss: 3.5427\n",
      "Epoch 92/200\n",
      "\u001b[1m628/628\u001b[0m \u001b[32m━━━━━━━━━━━━━━━━━━━━\u001b[0m\u001b[37m\u001b[0m \u001b[1m1s\u001b[0m 2ms/step - accuracy: 0.1580 - loss: 3.5279 - val_accuracy: 0.1517 - val_loss: 3.5659\n",
      "Epoch 93/200\n",
      "\u001b[1m628/628\u001b[0m \u001b[32m━━━━━━━━━━━━━━━━━━━━\u001b[0m\u001b[37m\u001b[0m \u001b[1m1s\u001b[0m 2ms/step - accuracy: 0.1467 - loss: 3.5436 - val_accuracy: 0.1525 - val_loss: 3.5891\n",
      "Epoch 94/200\n",
      "\u001b[1m628/628\u001b[0m \u001b[32m━━━━━━━━━━━━━━━━━━━━\u001b[0m\u001b[37m\u001b[0m \u001b[1m1s\u001b[0m 2ms/step - accuracy: 0.1513 - loss: 3.5452 - val_accuracy: 0.1576 - val_loss: 3.5584\n",
      "Epoch 95/200\n",
      "\u001b[1m628/628\u001b[0m \u001b[32m━━━━━━━━━━━━━━━━━━━━\u001b[0m\u001b[37m\u001b[0m \u001b[1m2s\u001b[0m 2ms/step - accuracy: 0.1531 - loss: 3.5334 - val_accuracy: 0.1473 - val_loss: 3.5741\n",
      "Epoch 96/200\n",
      "\u001b[1m628/628\u001b[0m \u001b[32m━━━━━━━━━━━━━━━━━━━━\u001b[0m\u001b[37m\u001b[0m \u001b[1m2s\u001b[0m 3ms/step - accuracy: 0.1509 - loss: 3.5481 - val_accuracy: 0.1525 - val_loss: 3.5594\n",
      "Epoch 97/200\n",
      "\u001b[1m628/628\u001b[0m \u001b[32m━━━━━━━━━━━━━━━━━━━━\u001b[0m\u001b[37m\u001b[0m \u001b[1m1s\u001b[0m 2ms/step - accuracy: 0.1490 - loss: 3.5503 - val_accuracy: 0.1596 - val_loss: 3.5546\n",
      "Epoch 98/200\n",
      "\u001b[1m628/628\u001b[0m \u001b[32m━━━━━━━━━━━━━━━━━━━━\u001b[0m\u001b[37m\u001b[0m \u001b[1m1s\u001b[0m 2ms/step - accuracy: 0.1470 - loss: 3.5470 - val_accuracy: 0.1592 - val_loss: 3.5450\n",
      "Epoch 99/200\n",
      "\u001b[1m628/628\u001b[0m \u001b[32m━━━━━━━━━━━━━━━━━━━━\u001b[0m\u001b[37m\u001b[0m \u001b[1m1s\u001b[0m 2ms/step - accuracy: 0.1505 - loss: 3.5366 - val_accuracy: 0.1582 - val_loss: 3.5523\n",
      "Epoch 100/200\n",
      "\u001b[1m628/628\u001b[0m \u001b[32m━━━━━━━━━━━━━━━━━━━━\u001b[0m\u001b[37m\u001b[0m \u001b[1m1s\u001b[0m 2ms/step - accuracy: 0.1481 - loss: 3.5569 - val_accuracy: 0.1483 - val_loss: 3.6073\n",
      "Epoch 101/200\n",
      "\u001b[1m628/628\u001b[0m \u001b[32m━━━━━━━━━━━━━━━━━━━━\u001b[0m\u001b[37m\u001b[0m \u001b[1m1s\u001b[0m 2ms/step - accuracy: 0.1522 - loss: 3.5383 - val_accuracy: 0.1554 - val_loss: 3.5505\n",
      "Epoch 102/200\n",
      "\u001b[1m628/628\u001b[0m \u001b[32m━━━━━━━━━━━━━━━━━━━━\u001b[0m\u001b[37m\u001b[0m \u001b[1m1s\u001b[0m 2ms/step - accuracy: 0.1491 - loss: 3.5354 - val_accuracy: 0.1582 - val_loss: 3.5386\n",
      "Epoch 103/200\n",
      "\u001b[1m628/628\u001b[0m \u001b[32m━━━━━━━━━━━━━━━━━━━━\u001b[0m\u001b[37m\u001b[0m \u001b[1m1s\u001b[0m 2ms/step - accuracy: 0.1595 - loss: 3.5235 - val_accuracy: 0.1566 - val_loss: 3.5447\n",
      "Epoch 104/200\n",
      "\u001b[1m628/628\u001b[0m \u001b[32m━━━━━━━━━━━━━━━━━━━━\u001b[0m\u001b[37m\u001b[0m \u001b[1m1s\u001b[0m 2ms/step - accuracy: 0.1530 - loss: 3.5322 - val_accuracy: 0.1517 - val_loss: 3.5629\n",
      "Epoch 105/200\n",
      "\u001b[1m628/628\u001b[0m \u001b[32m━━━━━━━━━━━━━━━━━━━━\u001b[0m\u001b[37m\u001b[0m \u001b[1m2s\u001b[0m 3ms/step - accuracy: 0.1469 - loss: 3.5594 - val_accuracy: 0.1564 - val_loss: 3.5448\n",
      "Epoch 106/200\n",
      "\u001b[1m628/628\u001b[0m \u001b[32m━━━━━━━━━━━━━━━━━━━━\u001b[0m\u001b[37m\u001b[0m \u001b[1m3s\u001b[0m 4ms/step - accuracy: 0.1574 - loss: 3.5191 - val_accuracy: 0.1564 - val_loss: 3.5559\n",
      "Epoch 107/200\n",
      "\u001b[1m628/628\u001b[0m \u001b[32m━━━━━━━━━━━━━━━━━━━━\u001b[0m\u001b[37m\u001b[0m \u001b[1m1s\u001b[0m 2ms/step - accuracy: 0.1482 - loss: 3.5480 - val_accuracy: 0.1560 - val_loss: 3.5542\n",
      "Epoch 108/200\n",
      "\u001b[1m628/628\u001b[0m \u001b[32m━━━━━━━━━━━━━━━━━━━━\u001b[0m\u001b[37m\u001b[0m \u001b[1m1s\u001b[0m 2ms/step - accuracy: 0.1536 - loss: 3.5327 - val_accuracy: 0.1546 - val_loss: 3.5776\n",
      "Epoch 109/200\n",
      "\u001b[1m628/628\u001b[0m \u001b[32m━━━━━━━━━━━━━━━━━━━━\u001b[0m\u001b[37m\u001b[0m \u001b[1m1s\u001b[0m 2ms/step - accuracy: 0.1538 - loss: 3.5203 - val_accuracy: 0.1614 - val_loss: 3.5652\n",
      "Epoch 110/200\n",
      "\u001b[1m628/628\u001b[0m \u001b[32m━━━━━━━━━━━━━━━━━━━━\u001b[0m\u001b[37m\u001b[0m \u001b[1m1s\u001b[0m 2ms/step - accuracy: 0.1496 - loss: 3.5489 - val_accuracy: 0.1566 - val_loss: 3.5818\n",
      "Epoch 111/200\n",
      "\u001b[1m628/628\u001b[0m \u001b[32m━━━━━━━━━━━━━━━━━━━━\u001b[0m\u001b[37m\u001b[0m \u001b[1m1s\u001b[0m 2ms/step - accuracy: 0.1503 - loss: 3.5470 - val_accuracy: 0.1534 - val_loss: 3.5596\n",
      "Epoch 112/200\n",
      "\u001b[1m628/628\u001b[0m \u001b[32m━━━━━━━━━━━━━━━━━━━━\u001b[0m\u001b[37m\u001b[0m \u001b[1m1s\u001b[0m 2ms/step - accuracy: 0.1508 - loss: 3.5402 - val_accuracy: 0.1596 - val_loss: 3.5541\n",
      "Epoch 113/200\n",
      "\u001b[1m628/628\u001b[0m \u001b[32m━━━━━━━━━━━━━━━━━━━━\u001b[0m\u001b[37m\u001b[0m \u001b[1m1s\u001b[0m 2ms/step - accuracy: 0.1517 - loss: 3.5306 - val_accuracy: 0.1600 - val_loss: 3.5718\n",
      "Epoch 114/200\n",
      "\u001b[1m628/628\u001b[0m \u001b[32m━━━━━━━━━━━━━━━━━━━━\u001b[0m\u001b[37m\u001b[0m \u001b[1m1s\u001b[0m 2ms/step - accuracy: 0.1550 - loss: 3.5229 - val_accuracy: 0.1542 - val_loss: 3.5591\n",
      "Epoch 115/200\n",
      "\u001b[1m628/628\u001b[0m \u001b[32m━━━━━━━━━━━━━━━━━━━━\u001b[0m\u001b[37m\u001b[0m \u001b[1m1s\u001b[0m 2ms/step - accuracy: 0.1481 - loss: 3.5475 - val_accuracy: 0.1473 - val_loss: 3.5893\n",
      "Epoch 116/200\n",
      "\u001b[1m628/628\u001b[0m \u001b[32m━━━━━━━━━━━━━━━━━━━━\u001b[0m\u001b[37m\u001b[0m \u001b[1m1s\u001b[0m 2ms/step - accuracy: 0.1483 - loss: 3.5420 - val_accuracy: 0.1580 - val_loss: 3.5747\n",
      "Epoch 117/200\n",
      "\u001b[1m628/628\u001b[0m \u001b[32m━━━━━━━━━━━━━━━━━━━━\u001b[0m\u001b[37m\u001b[0m \u001b[1m1s\u001b[0m 2ms/step - accuracy: 0.1492 - loss: 3.5429 - val_accuracy: 0.1570 - val_loss: 3.5547\n",
      "Epoch 118/200\n",
      "\u001b[1m628/628\u001b[0m \u001b[32m━━━━━━━━━━━━━━━━━━━━\u001b[0m\u001b[37m\u001b[0m \u001b[1m1s\u001b[0m 2ms/step - accuracy: 0.1572 - loss: 3.5175 - val_accuracy: 0.1578 - val_loss: 3.5544\n",
      "Epoch 119/200\n",
      "\u001b[1m628/628\u001b[0m \u001b[32m━━━━━━━━━━━━━━━━━━━━\u001b[0m\u001b[37m\u001b[0m \u001b[1m1s\u001b[0m 2ms/step - accuracy: 0.1514 - loss: 3.5355 - val_accuracy: 0.1505 - val_loss: 3.5836\n",
      "Epoch 120/200\n",
      "\u001b[1m628/628\u001b[0m \u001b[32m━━━━━━━━━━━━━━━━━━━━\u001b[0m\u001b[37m\u001b[0m \u001b[1m1s\u001b[0m 2ms/step - accuracy: 0.1542 - loss: 3.5285 - val_accuracy: 0.1564 - val_loss: 3.5434\n",
      "Epoch 121/200\n",
      "\u001b[1m628/628\u001b[0m \u001b[32m━━━━━━━━━━━━━━━━━━━━\u001b[0m\u001b[37m\u001b[0m \u001b[1m1s\u001b[0m 2ms/step - accuracy: 0.1501 - loss: 3.5472 - val_accuracy: 0.1604 - val_loss: 3.5419\n",
      "Epoch 122/200\n",
      "\u001b[1m628/628\u001b[0m \u001b[32m━━━━━━━━━━━━━━━━━━━━\u001b[0m\u001b[37m\u001b[0m \u001b[1m1s\u001b[0m 2ms/step - accuracy: 0.1543 - loss: 3.5492 - val_accuracy: 0.1572 - val_loss: 3.5776\n",
      "Epoch 123/200\n",
      "\u001b[1m628/628\u001b[0m \u001b[32m━━━━━━━━━━━━━━━━━━━━\u001b[0m\u001b[37m\u001b[0m \u001b[1m1s\u001b[0m 2ms/step - accuracy: 0.1578 - loss: 3.5267 - val_accuracy: 0.1594 - val_loss: 3.5592\n",
      "Epoch 124/200\n",
      "\u001b[1m628/628\u001b[0m \u001b[32m━━━━━━━━━━━━━━━━━━━━\u001b[0m\u001b[37m\u001b[0m \u001b[1m1s\u001b[0m 2ms/step - accuracy: 0.1544 - loss: 3.5356 - val_accuracy: 0.1576 - val_loss: 3.5435\n",
      "Epoch 125/200\n",
      "\u001b[1m628/628\u001b[0m \u001b[32m━━━━━━━━━━━━━━━━━━━━\u001b[0m\u001b[37m\u001b[0m \u001b[1m1s\u001b[0m 2ms/step - accuracy: 0.1514 - loss: 3.5400 - val_accuracy: 0.1546 - val_loss: 3.5390\n",
      "Epoch 126/200\n",
      "\u001b[1m628/628\u001b[0m \u001b[32m━━━━━━━━━━━━━━━━━━━━\u001b[0m\u001b[37m\u001b[0m \u001b[1m1s\u001b[0m 2ms/step - accuracy: 0.1519 - loss: 3.5315 - val_accuracy: 0.1590 - val_loss: 3.5470\n",
      "Epoch 127/200\n",
      "\u001b[1m628/628\u001b[0m \u001b[32m━━━━━━━━━━━━━━━━━━━━\u001b[0m\u001b[37m\u001b[0m \u001b[1m1s\u001b[0m 2ms/step - accuracy: 0.1538 - loss: 3.5370 - val_accuracy: 0.1656 - val_loss: 3.5469\n",
      "Epoch 128/200\n",
      "\u001b[1m628/628\u001b[0m \u001b[32m━━━━━━━━━━━━━━━━━━━━\u001b[0m\u001b[37m\u001b[0m \u001b[1m1s\u001b[0m 2ms/step - accuracy: 0.1534 - loss: 3.5273 - val_accuracy: 0.1505 - val_loss: 3.5786\n",
      "Epoch 129/200\n",
      "\u001b[1m628/628\u001b[0m \u001b[32m━━━━━━━━━━━━━━━━━━━━\u001b[0m\u001b[37m\u001b[0m \u001b[1m1s\u001b[0m 2ms/step - accuracy: 0.1543 - loss: 3.5193 - val_accuracy: 0.1588 - val_loss: 3.5670\n",
      "Epoch 130/200\n",
      "\u001b[1m628/628\u001b[0m \u001b[32m━━━━━━━━━━━━━━━━━━━━\u001b[0m\u001b[37m\u001b[0m \u001b[1m1s\u001b[0m 2ms/step - accuracy: 0.1559 - loss: 3.5176 - val_accuracy: 0.1576 - val_loss: 3.5456\n",
      "Epoch 131/200\n",
      "\u001b[1m628/628\u001b[0m \u001b[32m━━━━━━━━━━━━━━━━━━━━\u001b[0m\u001b[37m\u001b[0m \u001b[1m1s\u001b[0m 2ms/step - accuracy: 0.1525 - loss: 3.5197 - val_accuracy: 0.1614 - val_loss: 3.5550\n",
      "Epoch 132/200\n",
      "\u001b[1m628/628\u001b[0m \u001b[32m━━━━━━━━━━━━━━━━━━━━\u001b[0m\u001b[37m\u001b[0m \u001b[1m1s\u001b[0m 2ms/step - accuracy: 0.1559 - loss: 3.5163 - val_accuracy: 0.1501 - val_loss: 3.5659\n",
      "Epoch 133/200\n",
      "\u001b[1m628/628\u001b[0m \u001b[32m━━━━━━━━━━━━━━━━━━━━\u001b[0m\u001b[37m\u001b[0m \u001b[1m1s\u001b[0m 2ms/step - accuracy: 0.1499 - loss: 3.5356 - val_accuracy: 0.1638 - val_loss: 3.5293\n",
      "Epoch 134/200\n",
      "\u001b[1m628/628\u001b[0m \u001b[32m━━━━━━━━━━━━━━━━━━━━\u001b[0m\u001b[37m\u001b[0m \u001b[1m1s\u001b[0m 2ms/step - accuracy: 0.1555 - loss: 3.5220 - val_accuracy: 0.1598 - val_loss: 3.5544\n",
      "Epoch 135/200\n",
      "\u001b[1m628/628\u001b[0m \u001b[32m━━━━━━━━━━━━━━━━━━━━\u001b[0m\u001b[37m\u001b[0m \u001b[1m1s\u001b[0m 2ms/step - accuracy: 0.1554 - loss: 3.5279 - val_accuracy: 0.1564 - val_loss: 3.5454\n",
      "Epoch 136/200\n",
      "\u001b[1m628/628\u001b[0m \u001b[32m━━━━━━━━━━━━━━━━━━━━\u001b[0m\u001b[37m\u001b[0m \u001b[1m2s\u001b[0m 3ms/step - accuracy: 0.1508 - loss: 3.5307 - val_accuracy: 0.1548 - val_loss: 3.5591\n",
      "Epoch 137/200\n",
      "\u001b[1m628/628\u001b[0m \u001b[32m━━━━━━━━━━━━━━━━━━━━\u001b[0m\u001b[37m\u001b[0m \u001b[1m1s\u001b[0m 2ms/step - accuracy: 0.1541 - loss: 3.5264 - val_accuracy: 0.1598 - val_loss: 3.5518\n",
      "Epoch 138/200\n",
      "\u001b[1m628/628\u001b[0m \u001b[32m━━━━━━━━━━━━━━━━━━━━\u001b[0m\u001b[37m\u001b[0m \u001b[1m1s\u001b[0m 2ms/step - accuracy: 0.1561 - loss: 3.5294 - val_accuracy: 0.1610 - val_loss: 3.5409\n",
      "Epoch 139/200\n",
      "\u001b[1m628/628\u001b[0m \u001b[32m━━━━━━━━━━━━━━━━━━━━\u001b[0m\u001b[37m\u001b[0m \u001b[1m1s\u001b[0m 2ms/step - accuracy: 0.1487 - loss: 3.5420 - val_accuracy: 0.1624 - val_loss: 3.5324\n",
      "Epoch 140/200\n",
      "\u001b[1m628/628\u001b[0m \u001b[32m━━━━━━━━━━━━━━━━━━━━\u001b[0m\u001b[37m\u001b[0m \u001b[1m1s\u001b[0m 2ms/step - accuracy: 0.1541 - loss: 3.5260 - val_accuracy: 0.1618 - val_loss: 3.5401\n",
      "Epoch 141/200\n",
      "\u001b[1m628/628\u001b[0m \u001b[32m━━━━━━━━━━━━━━━━━━━━\u001b[0m\u001b[37m\u001b[0m \u001b[1m1s\u001b[0m 2ms/step - accuracy: 0.1543 - loss: 3.5158 - val_accuracy: 0.1584 - val_loss: 3.5454\n",
      "Epoch 142/200\n",
      "\u001b[1m628/628\u001b[0m \u001b[32m━━━━━━━━━━━━━━━━━━━━\u001b[0m\u001b[37m\u001b[0m \u001b[1m1s\u001b[0m 2ms/step - accuracy: 0.1493 - loss: 3.5388 - val_accuracy: 0.1566 - val_loss: 3.5598\n",
      "Epoch 143/200\n",
      "\u001b[1m628/628\u001b[0m \u001b[32m━━━━━━━━━━━━━━━━━━━━\u001b[0m\u001b[37m\u001b[0m \u001b[1m1s\u001b[0m 2ms/step - accuracy: 0.1562 - loss: 3.5182 - val_accuracy: 0.1626 - val_loss: 3.5351\n",
      "Epoch 144/200\n",
      "\u001b[1m628/628\u001b[0m \u001b[32m━━━━━━━━━━━━━━━━━━━━\u001b[0m\u001b[37m\u001b[0m \u001b[1m1s\u001b[0m 2ms/step - accuracy: 0.1574 - loss: 3.5310 - val_accuracy: 0.1568 - val_loss: 3.5391\n",
      "Epoch 145/200\n",
      "\u001b[1m628/628\u001b[0m \u001b[32m━━━━━━━━━━━━━━━━━━━━\u001b[0m\u001b[37m\u001b[0m \u001b[1m1s\u001b[0m 2ms/step - accuracy: 0.1559 - loss: 3.5285 - val_accuracy: 0.1618 - val_loss: 3.5370\n",
      "Epoch 146/200\n",
      "\u001b[1m628/628\u001b[0m \u001b[32m━━━━━━━━━━━━━━━━━━━━\u001b[0m\u001b[37m\u001b[0m \u001b[1m1s\u001b[0m 2ms/step - accuracy: 0.1504 - loss: 3.5364 - val_accuracy: 0.1596 - val_loss: 3.5558\n",
      "Epoch 147/200\n",
      "\u001b[1m628/628\u001b[0m \u001b[32m━━━━━━━━━━━━━━━━━━━━\u001b[0m\u001b[37m\u001b[0m \u001b[1m1s\u001b[0m 2ms/step - accuracy: 0.1531 - loss: 3.5387 - val_accuracy: 0.1622 - val_loss: 3.5332\n",
      "Epoch 148/200\n",
      "\u001b[1m628/628\u001b[0m \u001b[32m━━━━━━━━━━━━━━━━━━━━\u001b[0m\u001b[37m\u001b[0m \u001b[1m2s\u001b[0m 3ms/step - accuracy: 0.1508 - loss: 3.5303 - val_accuracy: 0.1650 - val_loss: 3.5332\n",
      "Epoch 149/200\n",
      "\u001b[1m628/628\u001b[0m \u001b[32m━━━━━━━━━━━━━━━━━━━━\u001b[0m\u001b[37m\u001b[0m \u001b[1m2s\u001b[0m 3ms/step - accuracy: 0.1515 - loss: 3.5399 - val_accuracy: 0.1624 - val_loss: 3.5331\n",
      "Epoch 150/200\n",
      "\u001b[1m628/628\u001b[0m \u001b[32m━━━━━━━━━━━━━━━━━━━━\u001b[0m\u001b[37m\u001b[0m \u001b[1m1s\u001b[0m 2ms/step - accuracy: 0.1557 - loss: 3.5104 - val_accuracy: 0.1618 - val_loss: 3.5542\n",
      "Epoch 151/200\n",
      "\u001b[1m628/628\u001b[0m \u001b[32m━━━━━━━━━━━━━━━━━━━━\u001b[0m\u001b[37m\u001b[0m \u001b[1m2s\u001b[0m 2ms/step - accuracy: 0.1569 - loss: 3.5209 - val_accuracy: 0.1616 - val_loss: 3.5398\n",
      "Epoch 152/200\n",
      "\u001b[1m628/628\u001b[0m \u001b[32m━━━━━━━━━━━━━━━━━━━━\u001b[0m\u001b[37m\u001b[0m \u001b[1m1s\u001b[0m 2ms/step - accuracy: 0.1564 - loss: 3.5214 - val_accuracy: 0.1612 - val_loss: 3.5838\n",
      "Epoch 153/200\n",
      "\u001b[1m628/628\u001b[0m \u001b[32m━━━━━━━━━━━━━━━━━━━━\u001b[0m\u001b[37m\u001b[0m \u001b[1m1s\u001b[0m 2ms/step - accuracy: 0.1518 - loss: 3.5257 - val_accuracy: 0.1608 - val_loss: 3.5307\n",
      "Epoch 154/200\n",
      "\u001b[1m628/628\u001b[0m \u001b[32m━━━━━━━━━━━━━━━━━━━━\u001b[0m\u001b[37m\u001b[0m \u001b[1m1s\u001b[0m 2ms/step - accuracy: 0.1592 - loss: 3.5127 - val_accuracy: 0.1622 - val_loss: 3.5254\n",
      "Epoch 155/200\n",
      "\u001b[1m628/628\u001b[0m \u001b[32m━━━━━━━━━━━━━━━━━━━━\u001b[0m\u001b[37m\u001b[0m \u001b[1m1s\u001b[0m 2ms/step - accuracy: 0.1554 - loss: 3.5256 - val_accuracy: 0.1540 - val_loss: 3.5708\n",
      "Epoch 156/200\n",
      "\u001b[1m628/628\u001b[0m \u001b[32m━━━━━━━━━━━━━━━━━━━━\u001b[0m\u001b[37m\u001b[0m \u001b[1m1s\u001b[0m 2ms/step - accuracy: 0.1537 - loss: 3.5168 - val_accuracy: 0.1600 - val_loss: 3.5696\n",
      "Epoch 157/200\n",
      "\u001b[1m628/628\u001b[0m \u001b[32m━━━━━━━━━━━━━━━━━━━━\u001b[0m\u001b[37m\u001b[0m \u001b[1m1s\u001b[0m 2ms/step - accuracy: 0.1569 - loss: 3.5169 - val_accuracy: 0.1642 - val_loss: 3.5377\n",
      "Epoch 158/200\n",
      "\u001b[1m628/628\u001b[0m \u001b[32m━━━━━━━━━━━━━━━━━━━━\u001b[0m\u001b[37m\u001b[0m \u001b[1m1s\u001b[0m 2ms/step - accuracy: 0.1498 - loss: 3.5240 - val_accuracy: 0.1630 - val_loss: 3.5303\n",
      "Epoch 159/200\n",
      "\u001b[1m628/628\u001b[0m \u001b[32m━━━━━━━━━━━━━━━━━━━━\u001b[0m\u001b[37m\u001b[0m \u001b[1m1s\u001b[0m 2ms/step - accuracy: 0.1533 - loss: 3.5246 - val_accuracy: 0.1580 - val_loss: 3.5581\n",
      "Epoch 160/200\n",
      "\u001b[1m628/628\u001b[0m \u001b[32m━━━━━━━━━━━━━━━━━━━━\u001b[0m\u001b[37m\u001b[0m \u001b[1m1s\u001b[0m 2ms/step - accuracy: 0.1569 - loss: 3.5196 - val_accuracy: 0.1638 - val_loss: 3.5264\n",
      "Epoch 161/200\n",
      "\u001b[1m628/628\u001b[0m \u001b[32m━━━━━━━━━━━━━━━━━━━━\u001b[0m\u001b[37m\u001b[0m \u001b[1m1s\u001b[0m 2ms/step - accuracy: 0.1551 - loss: 3.5199 - val_accuracy: 0.1576 - val_loss: 3.5529\n",
      "Epoch 162/200\n",
      "\u001b[1m628/628\u001b[0m \u001b[32m━━━━━━━━━━━━━━━━━━━━\u001b[0m\u001b[37m\u001b[0m \u001b[1m2s\u001b[0m 2ms/step - accuracy: 0.1552 - loss: 3.5308 - val_accuracy: 0.1626 - val_loss: 3.5249\n",
      "Epoch 163/200\n",
      "\u001b[1m628/628\u001b[0m \u001b[32m━━━━━━━━━━━━━━━━━━━━\u001b[0m\u001b[37m\u001b[0m \u001b[1m1s\u001b[0m 2ms/step - accuracy: 0.1561 - loss: 3.5123 - val_accuracy: 0.1652 - val_loss: 3.5264\n",
      "Epoch 164/200\n",
      "\u001b[1m628/628\u001b[0m \u001b[32m━━━━━━━━━━━━━━━━━━━━\u001b[0m\u001b[37m\u001b[0m \u001b[1m1s\u001b[0m 2ms/step - accuracy: 0.1568 - loss: 3.5274 - val_accuracy: 0.1704 - val_loss: 3.5414\n",
      "Epoch 165/200\n",
      "\u001b[1m628/628\u001b[0m \u001b[32m━━━━━━━━━━━━━━━━━━━━\u001b[0m\u001b[37m\u001b[0m \u001b[1m1s\u001b[0m 2ms/step - accuracy: 0.1540 - loss: 3.5247 - val_accuracy: 0.1612 - val_loss: 3.5400\n",
      "Epoch 166/200\n",
      "\u001b[1m628/628\u001b[0m \u001b[32m━━━━━━━━━━━━━━━━━━━━\u001b[0m\u001b[37m\u001b[0m \u001b[1m1s\u001b[0m 2ms/step - accuracy: 0.1584 - loss: 3.5226 - val_accuracy: 0.1658 - val_loss: 3.5488\n",
      "Epoch 167/200\n",
      "\u001b[1m628/628\u001b[0m \u001b[32m━━━━━━━━━━━━━━━━━━━━\u001b[0m\u001b[37m\u001b[0m \u001b[1m1s\u001b[0m 2ms/step - accuracy: 0.1591 - loss: 3.5097 - val_accuracy: 0.1644 - val_loss: 3.5419\n",
      "Epoch 168/200\n",
      "\u001b[1m628/628\u001b[0m \u001b[32m━━━━━━━━━━━━━━━━━━━━\u001b[0m\u001b[37m\u001b[0m \u001b[1m1s\u001b[0m 2ms/step - accuracy: 0.1577 - loss: 3.5332 - val_accuracy: 0.1668 - val_loss: 3.5287\n",
      "Epoch 169/200\n",
      "\u001b[1m628/628\u001b[0m \u001b[32m━━━━━━━━━━━━━━━━━━━━\u001b[0m\u001b[37m\u001b[0m \u001b[1m1s\u001b[0m 2ms/step - accuracy: 0.1591 - loss: 3.5131 - val_accuracy: 0.1600 - val_loss: 3.5383\n",
      "Epoch 170/200\n",
      "\u001b[1m628/628\u001b[0m \u001b[32m━━━━━━━━━━━━━━━━━━━━\u001b[0m\u001b[37m\u001b[0m \u001b[1m1s\u001b[0m 2ms/step - accuracy: 0.1523 - loss: 3.5219 - val_accuracy: 0.1566 - val_loss: 3.5481\n",
      "Epoch 171/200\n",
      "\u001b[1m628/628\u001b[0m \u001b[32m━━━━━━━━━━━━━━━━━━━━\u001b[0m\u001b[37m\u001b[0m \u001b[1m1s\u001b[0m 2ms/step - accuracy: 0.1532 - loss: 3.5382 - val_accuracy: 0.1608 - val_loss: 3.5359\n",
      "Epoch 172/200\n",
      "\u001b[1m628/628\u001b[0m \u001b[32m━━━━━━━━━━━━━━━━━━━━\u001b[0m\u001b[37m\u001b[0m \u001b[1m1s\u001b[0m 2ms/step - accuracy: 0.1562 - loss: 3.5229 - val_accuracy: 0.1640 - val_loss: 3.5254\n",
      "Epoch 173/200\n",
      "\u001b[1m628/628\u001b[0m \u001b[32m━━━━━━━━━━━━━━━━━━━━\u001b[0m\u001b[37m\u001b[0m \u001b[1m1s\u001b[0m 2ms/step - accuracy: 0.1552 - loss: 3.5318 - val_accuracy: 0.1616 - val_loss: 3.5411\n",
      "Epoch 174/200\n",
      "\u001b[1m628/628\u001b[0m \u001b[32m━━━━━━━━━━━━━━━━━━━━\u001b[0m\u001b[37m\u001b[0m \u001b[1m1s\u001b[0m 2ms/step - accuracy: 0.1551 - loss: 3.5355 - val_accuracy: 0.1562 - val_loss: 3.5563\n",
      "Epoch 175/200\n",
      "\u001b[1m628/628\u001b[0m \u001b[32m━━━━━━━━━━━━━━━━━━━━\u001b[0m\u001b[37m\u001b[0m \u001b[1m1s\u001b[0m 2ms/step - accuracy: 0.1564 - loss: 3.5153 - val_accuracy: 0.1616 - val_loss: 3.5256\n",
      "Epoch 176/200\n",
      "\u001b[1m628/628\u001b[0m \u001b[32m━━━━━━━━━━━━━━━━━━━━\u001b[0m\u001b[37m\u001b[0m \u001b[1m1s\u001b[0m 2ms/step - accuracy: 0.1565 - loss: 3.5149 - val_accuracy: 0.1678 - val_loss: 3.5243\n",
      "Epoch 177/200\n",
      "\u001b[1m628/628\u001b[0m \u001b[32m━━━━━━━━━━━━━━━━━━━━\u001b[0m\u001b[37m\u001b[0m \u001b[1m1s\u001b[0m 2ms/step - accuracy: 0.1591 - loss: 3.5217 - val_accuracy: 0.1586 - val_loss: 3.5435\n",
      "Epoch 178/200\n",
      "\u001b[1m628/628\u001b[0m \u001b[32m━━━━━━━━━━━━━━━━━━━━\u001b[0m\u001b[37m\u001b[0m \u001b[1m1s\u001b[0m 2ms/step - accuracy: 0.1573 - loss: 3.5095 - val_accuracy: 0.1602 - val_loss: 3.5349\n",
      "Epoch 179/200\n",
      "\u001b[1m628/628\u001b[0m \u001b[32m━━━━━━━━━━━━━━━━━━━━\u001b[0m\u001b[37m\u001b[0m \u001b[1m1s\u001b[0m 2ms/step - accuracy: 0.1513 - loss: 3.5384 - val_accuracy: 0.1628 - val_loss: 3.5526\n",
      "Epoch 180/200\n",
      "\u001b[1m628/628\u001b[0m \u001b[32m━━━━━━━━━━━━━━━━━━━━\u001b[0m\u001b[37m\u001b[0m \u001b[1m1s\u001b[0m 2ms/step - accuracy: 0.1587 - loss: 3.5058 - val_accuracy: 0.1628 - val_loss: 3.5413\n",
      "Epoch 181/200\n",
      "\u001b[1m628/628\u001b[0m \u001b[32m━━━━━━━━━━━━━━━━━━━━\u001b[0m\u001b[37m\u001b[0m \u001b[1m1s\u001b[0m 2ms/step - accuracy: 0.1547 - loss: 3.5127 - val_accuracy: 0.1632 - val_loss: 3.5343\n",
      "Epoch 182/200\n",
      "\u001b[1m628/628\u001b[0m \u001b[32m━━━━━━━━━━━━━━━━━━━━\u001b[0m\u001b[37m\u001b[0m \u001b[1m1s\u001b[0m 2ms/step - accuracy: 0.1544 - loss: 3.5460 - val_accuracy: 0.1652 - val_loss: 3.5325\n",
      "Epoch 183/200\n",
      "\u001b[1m628/628\u001b[0m \u001b[32m━━━━━━━━━━━━━━━━━━━━\u001b[0m\u001b[37m\u001b[0m \u001b[1m1s\u001b[0m 2ms/step - accuracy: 0.1580 - loss: 3.5258 - val_accuracy: 0.1556 - val_loss: 3.5604\n",
      "Epoch 184/200\n",
      "\u001b[1m628/628\u001b[0m \u001b[32m━━━━━━━━━━━━━━━━━━━━\u001b[0m\u001b[37m\u001b[0m \u001b[1m1s\u001b[0m 2ms/step - accuracy: 0.1520 - loss: 3.5398 - val_accuracy: 0.1656 - val_loss: 3.5256\n",
      "Epoch 185/200\n",
      "\u001b[1m628/628\u001b[0m \u001b[32m━━━━━━━━━━━━━━━━━━━━\u001b[0m\u001b[37m\u001b[0m \u001b[1m1s\u001b[0m 2ms/step - accuracy: 0.1599 - loss: 3.5154 - val_accuracy: 0.1648 - val_loss: 3.5487\n",
      "Epoch 186/200\n",
      "\u001b[1m628/628\u001b[0m \u001b[32m━━━━━━━━━━━━━━━━━━━━\u001b[0m\u001b[37m\u001b[0m \u001b[1m1s\u001b[0m 2ms/step - accuracy: 0.1532 - loss: 3.5212 - val_accuracy: 0.1600 - val_loss: 3.5268\n",
      "Epoch 187/200\n",
      "\u001b[1m628/628\u001b[0m \u001b[32m━━━━━━━━━━━━━━━━━━━━\u001b[0m\u001b[37m\u001b[0m \u001b[1m2s\u001b[0m 3ms/step - accuracy: 0.1587 - loss: 3.5074 - val_accuracy: 0.1658 - val_loss: 3.5282\n",
      "Epoch 188/200\n",
      "\u001b[1m628/628\u001b[0m \u001b[32m━━━━━━━━━━━━━━━━━━━━\u001b[0m\u001b[37m\u001b[0m \u001b[1m1s\u001b[0m 2ms/step - accuracy: 0.1538 - loss: 3.5217 - val_accuracy: 0.1650 - val_loss: 3.5273\n",
      "Epoch 189/200\n",
      "\u001b[1m628/628\u001b[0m \u001b[32m━━━━━━━━━━━━━━━━━━━━\u001b[0m\u001b[37m\u001b[0m \u001b[1m1s\u001b[0m 2ms/step - accuracy: 0.1579 - loss: 3.5051 - val_accuracy: 0.1608 - val_loss: 3.5531\n",
      "Epoch 190/200\n",
      "\u001b[1m628/628\u001b[0m \u001b[32m━━━━━━━━━━━━━━━━━━━━\u001b[0m\u001b[37m\u001b[0m \u001b[1m1s\u001b[0m 2ms/step - accuracy: 0.1497 - loss: 3.5286 - val_accuracy: 0.1638 - val_loss: 3.5325\n",
      "Epoch 191/200\n",
      "\u001b[1m628/628\u001b[0m \u001b[32m━━━━━━━━━━━━━━━━━━━━\u001b[0m\u001b[37m\u001b[0m \u001b[1m1s\u001b[0m 2ms/step - accuracy: 0.1576 - loss: 3.5101 - val_accuracy: 0.1602 - val_loss: 3.5510\n",
      "Epoch 192/200\n",
      "\u001b[1m628/628\u001b[0m \u001b[32m━━━━━━━━━━━━━━━━━━━━\u001b[0m\u001b[37m\u001b[0m \u001b[1m1s\u001b[0m 2ms/step - accuracy: 0.1607 - loss: 3.5017 - val_accuracy: 0.1644 - val_loss: 3.5304\n",
      "Epoch 193/200\n",
      "\u001b[1m628/628\u001b[0m \u001b[32m━━━━━━━━━━━━━━━━━━━━\u001b[0m\u001b[37m\u001b[0m \u001b[1m1s\u001b[0m 2ms/step - accuracy: 0.1558 - loss: 3.5162 - val_accuracy: 0.1656 - val_loss: 3.5284\n",
      "Epoch 194/200\n",
      "\u001b[1m628/628\u001b[0m \u001b[32m━━━━━━━━━━━━━━━━━━━━\u001b[0m\u001b[37m\u001b[0m \u001b[1m1s\u001b[0m 2ms/step - accuracy: 0.1574 - loss: 3.5230 - val_accuracy: 0.1686 - val_loss: 3.5296\n",
      "Epoch 195/200\n",
      "\u001b[1m628/628\u001b[0m \u001b[32m━━━━━━━━━━━━━━━━━━━━\u001b[0m\u001b[37m\u001b[0m \u001b[1m1s\u001b[0m 2ms/step - accuracy: 0.1647 - loss: 3.4899 - val_accuracy: 0.1674 - val_loss: 3.5228\n",
      "Epoch 196/200\n",
      "\u001b[1m628/628\u001b[0m \u001b[32m━━━━━━━━━━━━━━━━━━━━\u001b[0m\u001b[37m\u001b[0m \u001b[1m1s\u001b[0m 2ms/step - accuracy: 0.1521 - loss: 3.5258 - val_accuracy: 0.1598 - val_loss: 3.5371\n",
      "Epoch 197/200\n",
      "\u001b[1m628/628\u001b[0m \u001b[32m━━━━━━━━━━━━━━━━━━━━\u001b[0m\u001b[37m\u001b[0m \u001b[1m1s\u001b[0m 2ms/step - accuracy: 0.1597 - loss: 3.5190 - val_accuracy: 0.1544 - val_loss: 3.5648\n",
      "Epoch 198/200\n",
      "\u001b[1m628/628\u001b[0m \u001b[32m━━━━━━━━━━━━━━━━━━━━\u001b[0m\u001b[37m\u001b[0m \u001b[1m1s\u001b[0m 2ms/step - accuracy: 0.1564 - loss: 3.5109 - val_accuracy: 0.1668 - val_loss: 3.5281\n",
      "Epoch 199/200\n",
      "\u001b[1m628/628\u001b[0m \u001b[32m━━━━━━━━━━━━━━━━━━━━\u001b[0m\u001b[37m\u001b[0m \u001b[1m1s\u001b[0m 2ms/step - accuracy: 0.1511 - loss: 3.5367 - val_accuracy: 0.1638 - val_loss: 3.5367\n",
      "Epoch 200/200\n",
      "\u001b[1m628/628\u001b[0m \u001b[32m━━━━━━━━━━━━━━━━━━━━\u001b[0m\u001b[37m\u001b[0m \u001b[1m2s\u001b[0m 3ms/step - accuracy: 0.1560 - loss: 3.5359 - val_accuracy: 0.1658 - val_loss: 3.5401\n",
      "\u001b[1m196/196\u001b[0m \u001b[32m━━━━━━━━━━━━━━━━━━━━\u001b[0m\u001b[37m\u001b[0m \u001b[1m1s\u001b[0m 3ms/step - accuracy: 0.1597 - loss: 3.5245\n",
      "Test Loss: 3.5183825492858887, Test Accuracy: 0.16278699040412903\n"
     ]
    }
   ],
   "source": [
    "import tensorflow as tf\n",
    "from tensorflow.keras.models import Sequential\n",
    "from tensorflow.keras.layers import Dense, Dropout, BatchNormalization\n",
    "from tensorflow.keras.optimizers import Adam\n",
    "\n",
    "softmax_model = Sequential()\n",
    "softmax_model.add(Dense(16, activation='relu', input_shape=(19,)))\n",
    "softmax_model.add(BatchNormalization())\n",
    "softmax_model.add(Dense(32, activation='relu'))\n",
    "softmax_model.add(Dropout(0.2))\n",
    "softmax_model.add(Dense(101, activation='softmax')) \n",
    "softmax_model.compile(optimizer=Adam(learning_rate=0.001), \n",
    "                      loss='sparse_categorical_crossentropy', \n",
    "                      metrics=['accuracy'])\n",
    "\n",
    "\n",
    "softmax_model.summary()\n",
    "\n",
    "\n",
    "history = softmax_model.fit(\n",
    "    X_train, \n",
    "    y_train, \n",
    "    validation_split=0.2,\n",
    "    epochs=200,\n",
    "    batch_size=32,\n",
    "    verbose=1,\n",
    ")\n",
    "\n",
    "loss, accuracy = softmax_model.evaluate(X_test, y_test)\n",
    "print(f\"Test Loss: {loss}, Test Accuracy: {accuracy}\")\n"
   ]
  },
  {
   "cell_type": "code",
   "execution_count": 152,
   "metadata": {},
   "outputs": [
    {
     "name": "stdout",
     "output_type": "stream",
     "text": [
      "\u001b[1m 57/196\u001b[0m \u001b[32m━━━━━\u001b[0m\u001b[37m━━━━━━━━━━━━━━━\u001b[0m \u001b[1m0s\u001b[0m 909us/step"
     ]
    },
    {
     "name": "stdout",
     "output_type": "stream",
     "text": [
      "\u001b[1m196/196\u001b[0m \u001b[32m━━━━━━━━━━━━━━━━━━━━\u001b[0m\u001b[37m\u001b[0m \u001b[1m0s\u001b[0m 1ms/step\n",
      "Tolerance Accuracy (±3): 31.23%\n",
      "Tolerance Accuracy (±5): 39.57%\n"
     ]
    }
   ],
   "source": [
    "y_pred = softmax_model.predict(X_test)\n",
    "y_pred = y_pred / y_pred.sum(axis=1, keepdims=True)\n",
    "y_pred_classes = np.argmax(y_pred, axis=1)\n",
    "tolerance_3_accuracy = ((np.abs(y_pred_classes - y_test) <= 3).sum() / len(y_test)) * 100\n",
    "tolerance_5_accuracy = ((np.abs(y_pred_classes - y_test) <= 5).sum() / len(y_test)) * 100\n",
    "\n",
    "print(f\"Tolerance Accuracy (±3): {tolerance_3_accuracy:.2f}%\")\n",
    "print(f\"Tolerance Accuracy (±5): {tolerance_5_accuracy:.2f}%\")"
   ]
  },
  {
   "cell_type": "code",
   "execution_count": 49,
   "metadata": {},
   "outputs": [],
   "source": [
    "#---- Model pipeline -------\n",
    "\n",
    "#EDA\n",
    "# -- Understanding the data\n",
    "#Data preprocessing\n",
    "# -- Data cleaning ( removing outliers )\n",
    "# -- Data imputation\n",
    "# -- Data Labelling\n",
    "# -- Data scaling\n",
    "#Feature engineering\n",
    "# -- Selecting Features\n",
    "#Modek Selection\n",
    "# -- Neural network or traditional simple model\n",
    "# -- Semantic model analysis with movie info\n",
    "# Model Evaluation\n",
    "# -- Test results evaluation(MAE)\n",
    "# -- Parametric evaluation with some tolerance"
   ]
  }
 ],
 "metadata": {
  "kernelspec": {
   "display_name": "Python 3",
   "language": "python",
   "name": "python3"
  },
  "language_info": {
   "codemirror_mode": {
    "name": "ipython",
    "version": 3
   },
   "file_extension": ".py",
   "mimetype": "text/x-python",
   "name": "python",
   "nbconvert_exporter": "python",
   "pygments_lexer": "ipython3",
   "version": "3.11.3"
  }
 },
 "nbformat": 4,
 "nbformat_minor": 2
}
